{
 "cells": [
  {
   "cell_type": "code",
   "execution_count": null,
   "id": "23c0ff28",
   "metadata": {},
   "outputs": [],
   "source": [
    "!pip install git+https://git@github.com/SKTBrain/KoBERT.git@master"
   ]
  },
  {
   "cell_type": "code",
   "execution_count": null,
   "id": "ea5744d6",
   "metadata": {},
   "outputs": [],
   "source": [
    "import torch\n",
    "from torch import nn\n",
    "import torch.nn.functional as F\n",
    "import torch.optim as optim\n",
    "from torch.utils.data import Dataset, DataLoader\n",
    "import gluonnlp as nlp\n",
    "import numpy as np\n",
    "import pandas as pd\n",
    "import os\n",
    "import re\n",
    "import matplotlib.pyplot as plt\n",
    "from tqdm import tqdm, tqdm_notebook\n",
    "from kobert.utils import get_tokenizer\n",
    "from kobert.pytorch_kobert import get_pytorch_kobert_model\n",
    "from sklearn.model_selection import train_test_split\n",
    "from transformers import AdamW\n",
    "from transformers.optimization import get_cosine_schedule_with_warmup\n",
    "from sklearn.metrics import f1_score, precision_score, recall_score"
   ]
  },
  {
   "cell_type": "code",
   "execution_count": null,
   "id": "ab73a5ce",
   "metadata": {},
   "outputs": [],
   "source": [
    "filepath_train = os.getenv('HOME')+'/aiffel/dktc/data/train.csv'\n",
    "\n",
    "train = pd.read_csv(filepath_train)\n",
    "\n",
    "train.head()"
   ]
  },
  {
   "cell_type": "code",
   "execution_count": null,
   "id": "56f0dfc6",
   "metadata": {},
   "outputs": [],
   "source": [
    "len(train)"
   ]
  },
  {
   "cell_type": "code",
   "execution_count": null,
   "id": "2e1584ac",
   "metadata": {},
   "outputs": [],
   "source": [
    "train.isnull().sum()"
   ]
  },
  {
   "cell_type": "code",
   "execution_count": null,
   "id": "0132d3eb",
   "metadata": {},
   "outputs": [],
   "source": [
    "train['class'].drop_duplicates()"
   ]
  },
  {
   "cell_type": "code",
   "execution_count": null,
   "id": "127bfa0d",
   "metadata": {},
   "outputs": [],
   "source": [
    "# 텍스트 클렌징 함수\n",
    "def clean_text(text):\n",
    "    # 불필요한 특수 문자, 숫자 제거 (한글, 영문, 공백 제외)\n",
    "    text = re.sub(r\"[^ㄱ-ㅎㅏ-ㅣ가-힣a-zA-Z\\s]\", \"\", text)\n",
    "    text = re.sub(r\"\\n\", \" \", text)\n",
    "    return text\n",
    "\n",
    "train['conversation'] = train['conversation'].apply(clean_text)"
   ]
  },
  {
   "cell_type": "code",
   "execution_count": null,
   "id": "61060309",
   "metadata": {},
   "outputs": [],
   "source": [
    "device = torch.device('cuda:0' if torch.cuda.is_available() else 'cpu')\n",
    "device"
   ]
  },
  {
   "cell_type": "code",
   "execution_count": null,
   "id": "a3a3b4a3",
   "metadata": {},
   "outputs": [],
   "source": [
    "#bert 모델, vocab 불러오기\n",
    "bertmodel, vocab = get_pytorch_kobert_model()"
   ]
  },
  {
   "cell_type": "code",
   "execution_count": null,
   "id": "bc3c0e96",
   "metadata": {},
   "outputs": [],
   "source": [
    "train.loc[(train['class'] == \"협박 대화\"), 'label'] = 0  # 협박 대화 => 0\n",
    "train.loc[(train['class'] == \"갈취 대화\"), 'label'] = 1  # 갈취 대화 => 1\n",
    "train.loc[(train['class'] == \"직장 내 괴롭힘 대화\"), 'label'] = 2  # 직장 내 괴롭힘 대화 => 2\n",
    "train.loc[(train['class'] == \"기타 괴롭힘 대화\"), 'label'] = 3  # 기타 괴롭힘 대화 => 3\n",
    "train.loc[(train['class'] == \"일반 대화\"), 'label'] = 4  # 일반 대화 => 4\n",
    "\n",
    "data_list = []\n",
    "for content, label in zip(train['conversation'], train['label'])  :\n",
    "    temp = []\n",
    "    temp.append(content)\n",
    "    temp.append(str(int(label)))\n",
    "\n",
    "    data_list.append(temp)"
   ]
  },
  {
   "cell_type": "code",
   "execution_count": null,
   "id": "3bb12c91",
   "metadata": {},
   "outputs": [],
   "source": [
    "train.drop(columns = 'idx', inplace = True)"
   ]
  },
  {
   "cell_type": "code",
   "execution_count": null,
   "id": "f9fc4ec4",
   "metadata": {},
   "outputs": [],
   "source": [
    "data_list[0]"
   ]
  },
  {
   "cell_type": "code",
   "execution_count": null,
   "id": "ae544e79",
   "metadata": {},
   "outputs": [],
   "source": [
    "dataset_train, dataset_val = train_test_split(data_list, test_size = 0.2, random_state = 42)"
   ]
  },
  {
   "cell_type": "code",
   "execution_count": null,
   "id": "08db551c",
   "metadata": {},
   "outputs": [],
   "source": [
    "class BERTDataset(Dataset):\n",
    "    def __init__(self, dataset, sent_idx, label_idx, bert_tokenizer, max_len, pad, pair):\n",
    "        transform = nlp.data.BERTSentenceTransform(\n",
    "            bert_tokenizer, max_seq_length=max_len, pad=pad, pair=pair)\n",
    "\n",
    "        self.sentences = [transform([i[sent_idx]]) for i in dataset]\n",
    "        \n",
    "        # 레이블이 없는 경우를 처리\n",
    "        if label_idx is not None:\n",
    "            self.labels = [np.int32(i[label_idx]) for i in dataset]\n",
    "        else:\n",
    "            self.labels = None\n",
    "\n",
    "    def __getitem__(self, i):\n",
    "        if self.labels is not None:\n",
    "            return self.sentences[i] + (self.labels[i], )\n",
    "        else:\n",
    "            return self.sentences[i]\n",
    "\n",
    "    def __len__(self):\n",
    "        return len(self.sentences)"
   ]
  },
  {
   "cell_type": "code",
   "execution_count": null,
   "id": "9637c393",
   "metadata": {},
   "outputs": [],
   "source": [
    "## Setting hyper-parameters\n",
    "max_len = 300\n",
    "batch_size = 32\n",
    "warmup_ratio = 0.2\n",
    "num_epochs = 25\n",
    "max_grad_norm = 1\n",
    "log_interval = 5\n",
    "learning_rate =  5e-5\n",
    "dr_rate = 0.2"
   ]
  },
  {
   "cell_type": "code",
   "execution_count": null,
   "id": "ac21cdd0",
   "metadata": {},
   "outputs": [],
   "source": [
    "#토큰화\n",
    "tokenizer = get_tokenizer()\n",
    "tok = nlp.data.BERTSPTokenizer(tokenizer, vocab, lower=False)\n",
    "#BERTDataset 클래스 이용, TensorDataset으로 만들어주기\n",
    "data_train = BERTDataset(dataset_train, 0, 1, tok, max_len, True, False)\n",
    "data_val = BERTDataset(dataset_val, 0, 1, tok, max_len, True, False)"
   ]
  },
  {
   "cell_type": "code",
   "execution_count": null,
   "id": "0259bab5",
   "metadata": {},
   "outputs": [],
   "source": [
    "#배치 및 데이터로더 설정\n",
    "train_dataloader = torch.utils.data.DataLoader(data_train, batch_size=batch_size, num_workers=4)\n",
    "val_dataloader = torch.utils.data.DataLoader(data_val, batch_size=batch_size, num_workers=4)"
   ]
  },
  {
   "cell_type": "code",
   "execution_count": null,
   "id": "30e42b36",
   "metadata": {},
   "outputs": [],
   "source": [
    "class BERTClassifier(nn.Module):\n",
    "    def __init__(self,\n",
    "                 bert,\n",
    "                 hidden_size=768,\n",
    "                 num_classes=5,\n",
    "                 dr_rate=None):\n",
    "        super(BERTClassifier, self).__init__()\n",
    "        self.bert = bert\n",
    "        self.dr_rate = dr_rate\n",
    "        self.classifier = nn.Linear(hidden_size, num_classes)\n",
    "        if dr_rate:\n",
    "            self.dropout = nn.Dropout(p=dr_rate)\n",
    "\n",
    "    def forward(self, token_ids, segment_ids):\n",
    "        # attention mask는 token_ids에서 패딩(0)이 아닌 부분을 1로 설정\n",
    "        attention_mask = (token_ids != 0).float()\n",
    "        \n",
    "        # BERT 모델에서 pooler 출력 사용\n",
    "        _, pooler = self.bert(input_ids=token_ids, token_type_ids=segment_ids.long(), attention_mask=attention_mask.float().to(token_ids.device))\n",
    "        \n",
    "        # 드롭아웃 적용\n",
    "        if self.dr_rate:\n",
    "            out = self.dropout(pooler)\n",
    "        \n",
    "        return self.classifier(out)"
   ]
  },
  {
   "cell_type": "code",
   "execution_count": 19,
   "id": "2e97c40b",
   "metadata": {},
   "outputs": [],
   "source": [
    "model = BERTClassifier(bertmodel, dr_rate = dr_rate).to(device)"
   ]
  },
  {
   "cell_type": "code",
   "execution_count": 20,
   "id": "3f7706d7",
   "metadata": {},
   "outputs": [],
   "source": [
    "# Prepare optimizer and schedule (linear warmup and decay)\n",
    "no_decay = ['bias', 'LayerNorm.weight']\n",
    "optimizer_grouped_parameters = [\n",
    "    {'params': [p for n, p in model.named_parameters() if not any(nd in n for nd in no_decay)], 'weight_decay': 0.01},\n",
    "    {'params': [p for n, p in model.named_parameters() if any(nd in n for nd in no_decay)], 'weight_decay': 0.0}\n",
    "]\n",
    "\n",
    "optimizer = AdamW(optimizer_grouped_parameters, lr=learning_rate)\n",
    "loss_fn = nn.CrossEntropyLoss()\n",
    "\n",
    "t_total = len(train_dataloader) * num_epochs\n",
    "warmup_step = int(t_total * warmup_ratio)\n",
    "\n",
    "scheduler = get_cosine_schedule_with_warmup(optimizer, num_warmup_steps=warmup_step, num_training_steps=t_total)"
   ]
  },
  {
   "cell_type": "code",
   "execution_count": 21,
   "id": "cbfc9e13",
   "metadata": {},
   "outputs": [],
   "source": [
    "def calc_accuracy(X,Y):\n",
    "    max_vals, max_indices = torch.max(X, 1)\n",
    "    train_acc = (max_indices == Y).sum().data.cpu().numpy()/max_indices.size()[0]\n",
    "    return train_acc"
   ]
  },
  {
   "cell_type": "code",
   "execution_count": 22,
   "id": "b9d9436a",
   "metadata": {},
   "outputs": [],
   "source": [
    "# 성능 지표 계산 함수\n",
    "def calc_metrics(X, Y):\n",
    "    max_vals, max_indices = torch.max(X, 1)\n",
    "    pred_labels = max_indices.cpu().numpy()\n",
    "    true_labels = Y.cpu().numpy()\n",
    "    \n",
    "    accuracy = (pred_labels == true_labels).sum() / len(true_labels)\n",
    "    f1 = f1_score(true_labels, pred_labels, average='weighted')\n",
    "    precision = precision_score(true_labels, pred_labels, average='weighted')\n",
    "    recall = recall_score(true_labels, pred_labels, average='weighted')\n",
    "    \n",
    "    return accuracy, f1, precision, recall"
   ]
  },
  {
   "cell_type": "code",
   "execution_count": 23,
   "id": "9371875c",
   "metadata": {},
   "outputs": [
    {
     "name": "stderr",
     "output_type": "stream",
     "text": [
      "/tmp/ipykernel_238/3821735571.py:20: TqdmDeprecationWarning: This function will be removed in tqdm==5.0.0\n",
      "Please use `tqdm.notebook.tqdm` instead of `tqdm.tqdm_notebook`\n",
      "  for batch_id, (token_ids, _, segment_ids, label) in enumerate(tqdm_notebook(train_dataloader)):\n"
     ]
    },
    {
     "data": {
      "application/vnd.jupyter.widget-view+json": {
       "model_id": "d12f1a6531fb413083d41a10921f042a",
       "version_major": 2,
       "version_minor": 0
      },
      "text/plain": [
       "  0%|          | 0/99 [00:00<?, ?it/s]"
      ]
     },
     "metadata": {},
     "output_type": "display_data"
    },
    {
     "name": "stderr",
     "output_type": "stream",
     "text": [
      "/opt/conda/lib/python3.9/site-packages/sklearn/metrics/_classification.py:1308: UndefinedMetricWarning: Precision is ill-defined and being set to 0.0 in labels with no predicted samples. Use `zero_division` parameter to control this behavior.\n",
      "  _warn_prf(average, modifier, msg_start, len(result))\n",
      "/opt/conda/lib/python3.9/site-packages/sklearn/metrics/_classification.py:1308: UndefinedMetricWarning: Recall is ill-defined and being set to 0.0 in labels with no true samples. Use `zero_division` parameter to control this behavior.\n",
      "  _warn_prf(average, modifier, msg_start, len(result))\n"
     ]
    },
    {
     "name": "stdout",
     "output_type": "stream",
     "text": [
      "Epoch 1 Batch 1: Loss 1.788729190826416, Accuracy 0.09375, F1 0.1166294642857143, Precision 0.18055555555555555, Recall 0.09375\n"
     ]
    },
    {
     "name": "stderr",
     "output_type": "stream",
     "text": [
      "/opt/conda/lib/python3.9/site-packages/sklearn/metrics/_classification.py:1308: UndefinedMetricWarning: Precision is ill-defined and being set to 0.0 in labels with no predicted samples. Use `zero_division` parameter to control this behavior.\n",
      "  _warn_prf(average, modifier, msg_start, len(result))\n",
      "/opt/conda/lib/python3.9/site-packages/sklearn/metrics/_classification.py:1308: UndefinedMetricWarning: Recall is ill-defined and being set to 0.0 in labels with no true samples. Use `zero_division` parameter to control this behavior.\n",
      "  _warn_prf(average, modifier, msg_start, len(result))\n",
      "/opt/conda/lib/python3.9/site-packages/sklearn/metrics/_classification.py:1308: UndefinedMetricWarning: Precision is ill-defined and being set to 0.0 in labels with no predicted samples. Use `zero_division` parameter to control this behavior.\n",
      "  _warn_prf(average, modifier, msg_start, len(result))\n",
      "/opt/conda/lib/python3.9/site-packages/sklearn/metrics/_classification.py:1308: UndefinedMetricWarning: Recall is ill-defined and being set to 0.0 in labels with no true samples. Use `zero_division` parameter to control this behavior.\n",
      "  _warn_prf(average, modifier, msg_start, len(result))\n",
      "/opt/conda/lib/python3.9/site-packages/sklearn/metrics/_classification.py:1308: UndefinedMetricWarning: Precision is ill-defined and being set to 0.0 in labels with no predicted samples. Use `zero_division` parameter to control this behavior.\n",
      "  _warn_prf(average, modifier, msg_start, len(result))\n",
      "/opt/conda/lib/python3.9/site-packages/sklearn/metrics/_classification.py:1308: UndefinedMetricWarning: Recall is ill-defined and being set to 0.0 in labels with no true samples. Use `zero_division` parameter to control this behavior.\n",
      "  _warn_prf(average, modifier, msg_start, len(result))\n",
      "/opt/conda/lib/python3.9/site-packages/sklearn/metrics/_classification.py:1308: UndefinedMetricWarning: Precision is ill-defined and being set to 0.0 in labels with no predicted samples. Use `zero_division` parameter to control this behavior.\n",
      "  _warn_prf(average, modifier, msg_start, len(result))\n",
      "/opt/conda/lib/python3.9/site-packages/sklearn/metrics/_classification.py:1308: UndefinedMetricWarning: Recall is ill-defined and being set to 0.0 in labels with no true samples. Use `zero_division` parameter to control this behavior.\n",
      "  _warn_prf(average, modifier, msg_start, len(result))\n",
      "/opt/conda/lib/python3.9/site-packages/sklearn/metrics/_classification.py:1308: UndefinedMetricWarning: Precision is ill-defined and being set to 0.0 in labels with no predicted samples. Use `zero_division` parameter to control this behavior.\n",
      "  _warn_prf(average, modifier, msg_start, len(result))\n",
      "/opt/conda/lib/python3.9/site-packages/sklearn/metrics/_classification.py:1308: UndefinedMetricWarning: Recall is ill-defined and being set to 0.0 in labels with no true samples. Use `zero_division` parameter to control this behavior.\n",
      "  _warn_prf(average, modifier, msg_start, len(result))\n"
     ]
    },
    {
     "name": "stdout",
     "output_type": "stream",
     "text": [
      "Epoch 1 Batch 6: Loss 1.833214521408081, Accuracy 0.14583333333333334, F1 0.15817049831296157, Precision 0.19163773148148147, Recall 0.14583333333333334\n"
     ]
    },
    {
     "name": "stderr",
     "output_type": "stream",
     "text": [
      "/opt/conda/lib/python3.9/site-packages/sklearn/metrics/_classification.py:1308: UndefinedMetricWarning: Precision is ill-defined and being set to 0.0 in labels with no predicted samples. Use `zero_division` parameter to control this behavior.\n",
      "  _warn_prf(average, modifier, msg_start, len(result))\n",
      "/opt/conda/lib/python3.9/site-packages/sklearn/metrics/_classification.py:1308: UndefinedMetricWarning: Recall is ill-defined and being set to 0.0 in labels with no true samples. Use `zero_division` parameter to control this behavior.\n",
      "  _warn_prf(average, modifier, msg_start, len(result))\n",
      "/opt/conda/lib/python3.9/site-packages/sklearn/metrics/_classification.py:1308: UndefinedMetricWarning: Precision is ill-defined and being set to 0.0 in labels with no predicted samples. Use `zero_division` parameter to control this behavior.\n",
      "  _warn_prf(average, modifier, msg_start, len(result))\n",
      "/opt/conda/lib/python3.9/site-packages/sklearn/metrics/_classification.py:1308: UndefinedMetricWarning: Recall is ill-defined and being set to 0.0 in labels with no true samples. Use `zero_division` parameter to control this behavior.\n",
      "  _warn_prf(average, modifier, msg_start, len(result))\n",
      "/opt/conda/lib/python3.9/site-packages/sklearn/metrics/_classification.py:1308: UndefinedMetricWarning: Precision is ill-defined and being set to 0.0 in labels with no predicted samples. Use `zero_division` parameter to control this behavior.\n",
      "  _warn_prf(average, modifier, msg_start, len(result))\n",
      "/opt/conda/lib/python3.9/site-packages/sklearn/metrics/_classification.py:1308: UndefinedMetricWarning: Recall is ill-defined and being set to 0.0 in labels with no true samples. Use `zero_division` parameter to control this behavior.\n",
      "  _warn_prf(average, modifier, msg_start, len(result))\n",
      "/opt/conda/lib/python3.9/site-packages/sklearn/metrics/_classification.py:1308: UndefinedMetricWarning: Precision is ill-defined and being set to 0.0 in labels with no predicted samples. Use `zero_division` parameter to control this behavior.\n",
      "  _warn_prf(average, modifier, msg_start, len(result))\n",
      "/opt/conda/lib/python3.9/site-packages/sklearn/metrics/_classification.py:1308: UndefinedMetricWarning: Recall is ill-defined and being set to 0.0 in labels with no true samples. Use `zero_division` parameter to control this behavior.\n",
      "  _warn_prf(average, modifier, msg_start, len(result))\n",
      "/opt/conda/lib/python3.9/site-packages/sklearn/metrics/_classification.py:1308: UndefinedMetricWarning: Precision is ill-defined and being set to 0.0 in labels with no predicted samples. Use `zero_division` parameter to control this behavior.\n",
      "  _warn_prf(average, modifier, msg_start, len(result))\n",
      "/opt/conda/lib/python3.9/site-packages/sklearn/metrics/_classification.py:1308: UndefinedMetricWarning: Recall is ill-defined and being set to 0.0 in labels with no true samples. Use `zero_division` parameter to control this behavior.\n",
      "  _warn_prf(average, modifier, msg_start, len(result))\n"
     ]
    },
    {
     "name": "stdout",
     "output_type": "stream",
     "text": [
      "Epoch 1 Batch 11: Loss 1.676780104637146, Accuracy 0.14204545454545456, F1 0.15523421681927696, Precision 0.2019593253968254, Recall 0.14204545454545456\n"
     ]
    },
    {
     "name": "stderr",
     "output_type": "stream",
     "text": [
      "/opt/conda/lib/python3.9/site-packages/sklearn/metrics/_classification.py:1308: UndefinedMetricWarning: Recall is ill-defined and being set to 0.0 in labels with no true samples. Use `zero_division` parameter to control this behavior.\n",
      "  _warn_prf(average, modifier, msg_start, len(result))\n",
      "/opt/conda/lib/python3.9/site-packages/sklearn/metrics/_classification.py:1308: UndefinedMetricWarning: Precision is ill-defined and being set to 0.0 in labels with no predicted samples. Use `zero_division` parameter to control this behavior.\n",
      "  _warn_prf(average, modifier, msg_start, len(result))\n",
      "/opt/conda/lib/python3.9/site-packages/sklearn/metrics/_classification.py:1308: UndefinedMetricWarning: Recall is ill-defined and being set to 0.0 in labels with no true samples. Use `zero_division` parameter to control this behavior.\n",
      "  _warn_prf(average, modifier, msg_start, len(result))\n",
      "/opt/conda/lib/python3.9/site-packages/sklearn/metrics/_classification.py:1308: UndefinedMetricWarning: Precision is ill-defined and being set to 0.0 in labels with no predicted samples. Use `zero_division` parameter to control this behavior.\n",
      "  _warn_prf(average, modifier, msg_start, len(result))\n",
      "/opt/conda/lib/python3.9/site-packages/sklearn/metrics/_classification.py:1308: UndefinedMetricWarning: Recall is ill-defined and being set to 0.0 in labels with no true samples. Use `zero_division` parameter to control this behavior.\n",
      "  _warn_prf(average, modifier, msg_start, len(result))\n",
      "/opt/conda/lib/python3.9/site-packages/sklearn/metrics/_classification.py:1308: UndefinedMetricWarning: Recall is ill-defined and being set to 0.0 in labels with no true samples. Use `zero_division` parameter to control this behavior.\n",
      "  _warn_prf(average, modifier, msg_start, len(result))\n",
      "/opt/conda/lib/python3.9/site-packages/sklearn/metrics/_classification.py:1308: UndefinedMetricWarning: Precision is ill-defined and being set to 0.0 in labels with no predicted samples. Use `zero_division` parameter to control this behavior.\n",
      "  _warn_prf(average, modifier, msg_start, len(result))\n",
      "/opt/conda/lib/python3.9/site-packages/sklearn/metrics/_classification.py:1308: UndefinedMetricWarning: Recall is ill-defined and being set to 0.0 in labels with no true samples. Use `zero_division` parameter to control this behavior.\n",
      "  _warn_prf(average, modifier, msg_start, len(result))\n"
     ]
    },
    {
     "name": "stdout",
     "output_type": "stream",
     "text": [
      "Epoch 1 Batch 16: Loss 1.5814327001571655, Accuracy 0.1640625, F1 0.16095426573490657, Precision 0.19009021553889008, Recall 0.1640625\n"
     ]
    },
    {
     "name": "stderr",
     "output_type": "stream",
     "text": [
      "/opt/conda/lib/python3.9/site-packages/sklearn/metrics/_classification.py:1308: UndefinedMetricWarning: Precision is ill-defined and being set to 0.0 in labels with no predicted samples. Use `zero_division` parameter to control this behavior.\n",
      "  _warn_prf(average, modifier, msg_start, len(result))\n",
      "/opt/conda/lib/python3.9/site-packages/sklearn/metrics/_classification.py:1308: UndefinedMetricWarning: Recall is ill-defined and being set to 0.0 in labels with no true samples. Use `zero_division` parameter to control this behavior.\n",
      "  _warn_prf(average, modifier, msg_start, len(result))\n"
     ]
    },
    {
     "name": "stdout",
     "output_type": "stream",
     "text": [
      "Epoch 1 Batch 21: Loss 1.476335883140564, Accuracy 0.18601190476190477, F1 0.1756080607046657, Precision 0.2004916616178226, Recall 0.18601190476190477\n"
     ]
    },
    {
     "name": "stderr",
     "output_type": "stream",
     "text": [
      "/opt/conda/lib/python3.9/site-packages/sklearn/metrics/_classification.py:1308: UndefinedMetricWarning: Recall is ill-defined and being set to 0.0 in labels with no true samples. Use `zero_division` parameter to control this behavior.\n",
      "  _warn_prf(average, modifier, msg_start, len(result))\n"
     ]
    },
    {
     "name": "stdout",
     "output_type": "stream",
     "text": [
      "Epoch 1 Batch 26: Loss 1.5331165790557861, Accuracy 0.2091346153846154, F1 0.1963393208836156, Precision 0.22487515396383204, Recall 0.2091346153846154\n",
      "Epoch 1 Batch 31: Loss 1.5188238620758057, Accuracy 0.21774193548387097, F1 0.19922272313605952, Precision 0.23385700234404727, Recall 0.21774193548387097\n"
     ]
    },
    {
     "name": "stderr",
     "output_type": "stream",
     "text": [
      "/opt/conda/lib/python3.9/site-packages/sklearn/metrics/_classification.py:1308: UndefinedMetricWarning: Precision is ill-defined and being set to 0.0 in labels with no predicted samples. Use `zero_division` parameter to control this behavior.\n",
      "  _warn_prf(average, modifier, msg_start, len(result))\n",
      "/opt/conda/lib/python3.9/site-packages/sklearn/metrics/_classification.py:1308: UndefinedMetricWarning: Precision is ill-defined and being set to 0.0 in labels with no predicted samples. Use `zero_division` parameter to control this behavior.\n",
      "  _warn_prf(average, modifier, msg_start, len(result))\n"
     ]
    },
    {
     "name": "stdout",
     "output_type": "stream",
     "text": [
      "Epoch 1 Batch 36: Loss 1.5244686603546143, Accuracy 0.2230902777777778, F1 0.1995963656255012, Precision 0.23318076524599837, Recall 0.2230902777777778\n",
      "Epoch 1 Batch 41: Loss 1.4992398023605347, Accuracy 0.22789634146341464, F1 0.19995981808278218, Precision 0.2341307072842729, Recall 0.22789634146341464\n"
     ]
    },
    {
     "name": "stderr",
     "output_type": "stream",
     "text": [
      "/opt/conda/lib/python3.9/site-packages/sklearn/metrics/_classification.py:1308: UndefinedMetricWarning: Precision is ill-defined and being set to 0.0 in labels with no predicted samples. Use `zero_division` parameter to control this behavior.\n",
      "  _warn_prf(average, modifier, msg_start, len(result))\n",
      "/opt/conda/lib/python3.9/site-packages/sklearn/metrics/_classification.py:1308: UndefinedMetricWarning: Precision is ill-defined and being set to 0.0 in labels with no predicted samples. Use `zero_division` parameter to control this behavior.\n",
      "  _warn_prf(average, modifier, msg_start, len(result))\n"
     ]
    },
    {
     "name": "stdout",
     "output_type": "stream",
     "text": [
      "Epoch 1 Batch 46: Loss 1.4221783876419067, Accuracy 0.23573369565217392, F1 0.2018910678333124, Precision 0.23603556125865466, Recall 0.23573369565217392\n"
     ]
    },
    {
     "name": "stderr",
     "output_type": "stream",
     "text": [
      "/opt/conda/lib/python3.9/site-packages/sklearn/metrics/_classification.py:1308: UndefinedMetricWarning: Precision is ill-defined and being set to 0.0 in labels with no predicted samples. Use `zero_division` parameter to control this behavior.\n",
      "  _warn_prf(average, modifier, msg_start, len(result))\n"
     ]
    },
    {
     "name": "stdout",
     "output_type": "stream",
     "text": [
      "Epoch 1 Batch 51: Loss 1.5039345026016235, Accuracy 0.23897058823529413, F1 0.20491296179497936, Precision 0.24495807098383424, Recall 0.23897058823529413\n"
     ]
    },
    {
     "name": "stderr",
     "output_type": "stream",
     "text": [
      "/opt/conda/lib/python3.9/site-packages/sklearn/metrics/_classification.py:1308: UndefinedMetricWarning: Precision is ill-defined and being set to 0.0 in labels with no predicted samples. Use `zero_division` parameter to control this behavior.\n",
      "  _warn_prf(average, modifier, msg_start, len(result))\n",
      "/opt/conda/lib/python3.9/site-packages/sklearn/metrics/_classification.py:1308: UndefinedMetricWarning: Precision is ill-defined and being set to 0.0 in labels with no predicted samples. Use `zero_division` parameter to control this behavior.\n",
      "  _warn_prf(average, modifier, msg_start, len(result))\n"
     ]
    },
    {
     "name": "stdout",
     "output_type": "stream",
     "text": [
      "Epoch 1 Batch 56: Loss 1.4177539348602295, Accuracy 0.24553571428571427, F1 0.21116648657302206, Precision 0.2523145189853034, Recall 0.24553571428571427\n"
     ]
    },
    {
     "name": "stderr",
     "output_type": "stream",
     "text": [
      "/opt/conda/lib/python3.9/site-packages/sklearn/metrics/_classification.py:1308: UndefinedMetricWarning: Precision is ill-defined and being set to 0.0 in labels with no predicted samples. Use `zero_division` parameter to control this behavior.\n",
      "  _warn_prf(average, modifier, msg_start, len(result))\n"
     ]
    },
    {
     "name": "stdout",
     "output_type": "stream",
     "text": [
      "Epoch 1 Batch 61: Loss 1.4461779594421387, Accuracy 0.2505122950819672, F1 0.21586326641213674, Precision 0.256305479125476, Recall 0.2505122950819672\n"
     ]
    },
    {
     "name": "stderr",
     "output_type": "stream",
     "text": [
      "/opt/conda/lib/python3.9/site-packages/sklearn/metrics/_classification.py:1308: UndefinedMetricWarning: Precision is ill-defined and being set to 0.0 in labels with no predicted samples. Use `zero_division` parameter to control this behavior.\n",
      "  _warn_prf(average, modifier, msg_start, len(result))\n",
      "/opt/conda/lib/python3.9/site-packages/sklearn/metrics/_classification.py:1308: UndefinedMetricWarning: Precision is ill-defined and being set to 0.0 in labels with no predicted samples. Use `zero_division` parameter to control this behavior.\n",
      "  _warn_prf(average, modifier, msg_start, len(result))\n"
     ]
    },
    {
     "name": "stdout",
     "output_type": "stream",
     "text": [
      "Epoch 1 Batch 66: Loss 1.4679336547851562, Accuracy 0.25142045454545453, F1 0.21550140630068032, Precision 0.2645814981490331, Recall 0.25142045454545453\n"
     ]
    },
    {
     "name": "stderr",
     "output_type": "stream",
     "text": [
      "/opt/conda/lib/python3.9/site-packages/sklearn/metrics/_classification.py:1308: UndefinedMetricWarning: Precision is ill-defined and being set to 0.0 in labels with no predicted samples. Use `zero_division` parameter to control this behavior.\n",
      "  _warn_prf(average, modifier, msg_start, len(result))\n",
      "/opt/conda/lib/python3.9/site-packages/sklearn/metrics/_classification.py:1308: UndefinedMetricWarning: Precision is ill-defined and being set to 0.0 in labels with no predicted samples. Use `zero_division` parameter to control this behavior.\n",
      "  _warn_prf(average, modifier, msg_start, len(result))\n"
     ]
    },
    {
     "name": "stdout",
     "output_type": "stream",
     "text": [
      "Epoch 1 Batch 71: Loss 1.4117790460586548, Accuracy 0.25616197183098594, F1 0.21953932030871584, Precision 0.2639866738046309, Recall 0.25616197183098594\n"
     ]
    },
    {
     "name": "stderr",
     "output_type": "stream",
     "text": [
      "/opt/conda/lib/python3.9/site-packages/sklearn/metrics/_classification.py:1308: UndefinedMetricWarning: Precision is ill-defined and being set to 0.0 in labels with no predicted samples. Use `zero_division` parameter to control this behavior.\n",
      "  _warn_prf(average, modifier, msg_start, len(result))\n"
     ]
    },
    {
     "name": "stdout",
     "output_type": "stream",
     "text": [
      "Epoch 1 Batch 76: Loss 1.4275859594345093, Accuracy 0.25863486842105265, F1 0.22111798245568148, Precision 0.2677587114686327, Recall 0.25863486842105265\n",
      "Epoch 1 Batch 81: Loss 1.3487380743026733, Accuracy 0.26273148148148145, F1 0.22416263506698442, Precision 0.2729582976698019, Recall 0.26273148148148145\n"
     ]
    },
    {
     "name": "stderr",
     "output_type": "stream",
     "text": [
      "/opt/conda/lib/python3.9/site-packages/sklearn/metrics/_classification.py:1308: UndefinedMetricWarning: Precision is ill-defined and being set to 0.0 in labels with no predicted samples. Use `zero_division` parameter to control this behavior.\n",
      "  _warn_prf(average, modifier, msg_start, len(result))\n",
      "/opt/conda/lib/python3.9/site-packages/sklearn/metrics/_classification.py:1308: UndefinedMetricWarning: Precision is ill-defined and being set to 0.0 in labels with no predicted samples. Use `zero_division` parameter to control this behavior.\n",
      "  _warn_prf(average, modifier, msg_start, len(result))\n"
     ]
    },
    {
     "name": "stdout",
     "output_type": "stream",
     "text": [
      "Epoch 1 Batch 86: Loss 1.4068900346755981, Accuracy 0.265625, F1 0.22559506733581045, Precision 0.27585002531841246, Recall 0.265625\n",
      "Epoch 1 Batch 91: Loss 1.4019354581832886, Accuracy 0.27232142857142855, F1 0.23281195656000997, Precision 0.28591255282086375, Recall 0.27232142857142855\n"
     ]
    },
    {
     "name": "stderr",
     "output_type": "stream",
     "text": [
      "/opt/conda/lib/python3.9/site-packages/sklearn/metrics/_classification.py:1308: UndefinedMetricWarning: Precision is ill-defined and being set to 0.0 in labels with no predicted samples. Use `zero_division` parameter to control this behavior.\n",
      "  _warn_prf(average, modifier, msg_start, len(result))\n",
      "/opt/conda/lib/python3.9/site-packages/sklearn/metrics/_classification.py:1308: UndefinedMetricWarning: Precision is ill-defined and being set to 0.0 in labels with no predicted samples. Use `zero_division` parameter to control this behavior.\n",
      "  _warn_prf(average, modifier, msg_start, len(result))\n"
     ]
    },
    {
     "name": "stdout",
     "output_type": "stream",
     "text": [
      "Epoch 1 Batch 96: Loss 1.3611552715301514, Accuracy 0.279296875, F1 0.23982336131042012, Precision 0.2914336006933093, Recall 0.279296875\n"
     ]
    },
    {
     "name": "stderr",
     "output_type": "stream",
     "text": [
      "/opt/conda/lib/python3.9/site-packages/sklearn/metrics/_classification.py:1308: UndefinedMetricWarning: Precision is ill-defined and being set to 0.0 in labels with no predicted samples. Use `zero_division` parameter to control this behavior.\n",
      "  _warn_prf(average, modifier, msg_start, len(result))\n"
     ]
    },
    {
     "name": "stdout",
     "output_type": "stream",
     "text": [
      "Epoch 1: Train Accuracy 0.2859848484848485, F1 0.24702385853792677, Precision 0.29934135012081803, Recall 0.2859848484848485\n"
     ]
    },
    {
     "name": "stderr",
     "output_type": "stream",
     "text": [
      "/tmp/ipykernel_238/3821735571.py:62: TqdmDeprecationWarning: This function will be removed in tqdm==5.0.0\n",
      "Please use `tqdm.notebook.tqdm` instead of `tqdm.tqdm_notebook`\n",
      "  for batch_id, (token_ids, _, segment_ids, label) in enumerate(tqdm_notebook(val_dataloader)):\n"
     ]
    },
    {
     "data": {
      "application/vnd.jupyter.widget-view+json": {
       "model_id": "e658391348de4f4782baf4e518a6c50d",
       "version_major": 2,
       "version_minor": 0
      },
      "text/plain": [
       "  0%|          | 0/25 [00:00<?, ?it/s]"
      ]
     },
     "metadata": {},
     "output_type": "display_data"
    },
    {
     "name": "stderr",
     "output_type": "stream",
     "text": [
      "/opt/conda/lib/python3.9/site-packages/sklearn/metrics/_classification.py:1308: UndefinedMetricWarning: Precision is ill-defined and being set to 0.0 in labels with no predicted samples. Use `zero_division` parameter to control this behavior.\n",
      "  _warn_prf(average, modifier, msg_start, len(result))\n",
      "/opt/conda/lib/python3.9/site-packages/sklearn/metrics/_classification.py:1308: UndefinedMetricWarning: Precision is ill-defined and being set to 0.0 in labels with no predicted samples. Use `zero_division` parameter to control this behavior.\n",
      "  _warn_prf(average, modifier, msg_start, len(result))\n",
      "/opt/conda/lib/python3.9/site-packages/sklearn/metrics/_classification.py:1308: UndefinedMetricWarning: Precision is ill-defined and being set to 0.0 in labels with no predicted samples. Use `zero_division` parameter to control this behavior.\n",
      "  _warn_prf(average, modifier, msg_start, len(result))\n",
      "/opt/conda/lib/python3.9/site-packages/sklearn/metrics/_classification.py:1308: UndefinedMetricWarning: Precision is ill-defined and being set to 0.0 in labels with no predicted samples. Use `zero_division` parameter to control this behavior.\n",
      "  _warn_prf(average, modifier, msg_start, len(result))\n",
      "/opt/conda/lib/python3.9/site-packages/sklearn/metrics/_classification.py:1308: UndefinedMetricWarning: Precision is ill-defined and being set to 0.0 in labels with no predicted samples. Use `zero_division` parameter to control this behavior.\n",
      "  _warn_prf(average, modifier, msg_start, len(result))\n",
      "/opt/conda/lib/python3.9/site-packages/sklearn/metrics/_classification.py:1308: UndefinedMetricWarning: Precision is ill-defined and being set to 0.0 in labels with no predicted samples. Use `zero_division` parameter to control this behavior.\n",
      "  _warn_prf(average, modifier, msg_start, len(result))\n",
      "/opt/conda/lib/python3.9/site-packages/sklearn/metrics/_classification.py:1308: UndefinedMetricWarning: Precision is ill-defined and being set to 0.0 in labels with no predicted samples. Use `zero_division` parameter to control this behavior.\n",
      "  _warn_prf(average, modifier, msg_start, len(result))\n",
      "/opt/conda/lib/python3.9/site-packages/sklearn/metrics/_classification.py:1308: UndefinedMetricWarning: Precision is ill-defined and being set to 0.0 in labels with no predicted samples. Use `zero_division` parameter to control this behavior.\n",
      "  _warn_prf(average, modifier, msg_start, len(result))\n"
     ]
    },
    {
     "name": "stdout",
     "output_type": "stream",
     "text": [
      "Epoch 1: Validation Accuracy 0.4775, F1 0.4298735808376886, Precision 0.5156633786051839, Recall 0.4775\n"
     ]
    },
    {
     "name": "stderr",
     "output_type": "stream",
     "text": [
      "/tmp/ipykernel_238/3821735571.py:20: TqdmDeprecationWarning: This function will be removed in tqdm==5.0.0\n",
      "Please use `tqdm.notebook.tqdm` instead of `tqdm.tqdm_notebook`\n",
      "  for batch_id, (token_ids, _, segment_ids, label) in enumerate(tqdm_notebook(train_dataloader)):\n"
     ]
    },
    {
     "data": {
      "application/vnd.jupyter.widget-view+json": {
       "model_id": "2e5970f9de8d4cd6a8dfefaeef2b7244",
       "version_major": 2,
       "version_minor": 0
      },
      "text/plain": [
       "  0%|          | 0/99 [00:00<?, ?it/s]"
      ]
     },
     "metadata": {},
     "output_type": "display_data"
    },
    {
     "name": "stdout",
     "output_type": "stream",
     "text": [
      "Epoch 2 Batch 1: Loss 1.3081536293029785, Accuracy 0.53125, F1 0.530047545333923, Precision 0.5964218073593073, Recall 0.53125\n"
     ]
    },
    {
     "name": "stderr",
     "output_type": "stream",
     "text": [
      "/opt/conda/lib/python3.9/site-packages/sklearn/metrics/_classification.py:1308: UndefinedMetricWarning: Precision is ill-defined and being set to 0.0 in labels with no predicted samples. Use `zero_division` parameter to control this behavior.\n",
      "  _warn_prf(average, modifier, msg_start, len(result))\n",
      "/opt/conda/lib/python3.9/site-packages/sklearn/metrics/_classification.py:1308: UndefinedMetricWarning: Precision is ill-defined and being set to 0.0 in labels with no predicted samples. Use `zero_division` parameter to control this behavior.\n",
      "  _warn_prf(average, modifier, msg_start, len(result))\n"
     ]
    },
    {
     "name": "stdout",
     "output_type": "stream",
     "text": [
      "Epoch 2 Batch 6: Loss 1.2914553880691528, Accuracy 0.40625, F1 0.3668474521899861, Precision 0.3903350071089042, Recall 0.40625\n"
     ]
    },
    {
     "name": "stderr",
     "output_type": "stream",
     "text": [
      "/opt/conda/lib/python3.9/site-packages/sklearn/metrics/_classification.py:1308: UndefinedMetricWarning: Precision is ill-defined and being set to 0.0 in labels with no predicted samples. Use `zero_division` parameter to control this behavior.\n",
      "  _warn_prf(average, modifier, msg_start, len(result))\n"
     ]
    },
    {
     "name": "stdout",
     "output_type": "stream",
     "text": [
      "Epoch 2 Batch 11: Loss 1.2921977043151855, Accuracy 0.41761363636363635, F1 0.38402653843744633, Precision 0.43914917705156586, Recall 0.41761363636363635\n"
     ]
    },
    {
     "name": "stderr",
     "output_type": "stream",
     "text": [
      "/opt/conda/lib/python3.9/site-packages/sklearn/metrics/_classification.py:1308: UndefinedMetricWarning: Precision is ill-defined and being set to 0.0 in labels with no predicted samples. Use `zero_division` parameter to control this behavior.\n",
      "  _warn_prf(average, modifier, msg_start, len(result))\n",
      "/opt/conda/lib/python3.9/site-packages/sklearn/metrics/_classification.py:1308: UndefinedMetricWarning: Precision is ill-defined and being set to 0.0 in labels with no predicted samples. Use `zero_division` parameter to control this behavior.\n",
      "  _warn_prf(average, modifier, msg_start, len(result))\n"
     ]
    },
    {
     "name": "stdout",
     "output_type": "stream",
     "text": [
      "Epoch 2 Batch 16: Loss 1.208484411239624, Accuracy 0.447265625, F1 0.40452915026433667, Precision 0.4754517340728157, Recall 0.447265625\n"
     ]
    },
    {
     "name": "stderr",
     "output_type": "stream",
     "text": [
      "/opt/conda/lib/python3.9/site-packages/sklearn/metrics/_classification.py:1308: UndefinedMetricWarning: Precision is ill-defined and being set to 0.0 in labels with no predicted samples. Use `zero_division` parameter to control this behavior.\n",
      "  _warn_prf(average, modifier, msg_start, len(result))\n"
     ]
    },
    {
     "name": "stdout",
     "output_type": "stream",
     "text": [
      "Epoch 2 Batch 21: Loss 1.3341095447540283, Accuracy 0.47172619047619047, F1 0.4286562126853673, Precision 0.4915729770673657, Recall 0.47172619047619047\n",
      "Epoch 2 Batch 26: Loss 1.2134145498275757, Accuracy 0.49278846153846156, F1 0.4559423928307598, Precision 0.5238122786226502, Recall 0.49278846153846156\n",
      "Epoch 2 Batch 31: Loss 1.132644772529602, Accuracy 0.5080645161290323, F1 0.4738796937118406, Precision 0.5359922949663164, Recall 0.5080645161290323\n"
     ]
    },
    {
     "name": "stderr",
     "output_type": "stream",
     "text": [
      "/opt/conda/lib/python3.9/site-packages/sklearn/metrics/_classification.py:1308: UndefinedMetricWarning: Precision is ill-defined and being set to 0.0 in labels with no predicted samples. Use `zero_division` parameter to control this behavior.\n",
      "  _warn_prf(average, modifier, msg_start, len(result))\n"
     ]
    },
    {
     "name": "stdout",
     "output_type": "stream",
     "text": [
      "Epoch 2 Batch 36: Loss 0.9490540623664856, Accuracy 0.5355902777777778, F1 0.5024649619232363, Precision 0.5613476510631279, Recall 0.5355902777777778\n",
      "Epoch 2 Batch 41: Loss 1.0247424840927124, Accuracy 0.5434451219512195, F1 0.5133712985816126, Precision 0.5704609473569255, Recall 0.5434451219512195\n",
      "Epoch 2 Batch 46: Loss 1.0621408224105835, Accuracy 0.5550271739130435, F1 0.5273487645807635, Precision 0.5893496520279967, Recall 0.5550271739130435\n",
      "Epoch 2 Batch 51: Loss 1.0374038219451904, Accuracy 0.5649509803921569, F1 0.5397787490313847, Precision 0.5982014407336241, Recall 0.5649509803921569\n"
     ]
    },
    {
     "name": "stderr",
     "output_type": "stream",
     "text": [
      "/opt/conda/lib/python3.9/site-packages/sklearn/metrics/_classification.py:1308: UndefinedMetricWarning: Precision is ill-defined and being set to 0.0 in labels with no predicted samples. Use `zero_division` parameter to control this behavior.\n",
      "  _warn_prf(average, modifier, msg_start, len(result))\n",
      "/opt/conda/lib/python3.9/site-packages/sklearn/metrics/_classification.py:1308: UndefinedMetricWarning: Precision is ill-defined and being set to 0.0 in labels with no predicted samples. Use `zero_division` parameter to control this behavior.\n",
      "  _warn_prf(average, modifier, msg_start, len(result))\n"
     ]
    },
    {
     "name": "stdout",
     "output_type": "stream",
     "text": [
      "Epoch 2 Batch 56: Loss 0.9819116592407227, Accuracy 0.5797991071428571, F1 0.5545220289535474, Precision 0.6080495068706694, Recall 0.5797991071428571\n",
      "Epoch 2 Batch 61: Loss 0.9541418552398682, Accuracy 0.5983606557377049, F1 0.5749997431919758, Precision 0.6280635160181898, Recall 0.5983606557377049\n",
      "Epoch 2 Batch 66: Loss 0.8934360146522522, Accuracy 0.6074810606060606, F1 0.5847052302677829, Precision 0.6376619576371105, Recall 0.6074810606060606\n",
      "Epoch 2 Batch 71: Loss 0.7750065326690674, Accuracy 0.6210387323943662, F1 0.5991355493744628, Precision 0.6509037455725496, Recall 0.6210387323943662\n",
      "Epoch 2 Batch 76: Loss 0.9014706611633301, Accuracy 0.6254111842105263, F1 0.6048582883268717, Precision 0.6582801264106543, Recall 0.6254111842105263\n",
      "Epoch 2 Batch 81: Loss 0.8361474275588989, Accuracy 0.6331018518518519, F1 0.6132623807601378, Precision 0.6660027576283146, Recall 0.6331018518518519\n",
      "Epoch 2 Batch 86: Loss 0.9694346189498901, Accuracy 0.637718023255814, F1 0.6189623229356137, Precision 0.6721515712680116, Recall 0.637718023255814\n",
      "Epoch 2 Batch 91: Loss 0.6871649026870728, Accuracy 0.6438873626373627, F1 0.6264451555704917, Precision 0.6796757602624511, Recall 0.6438873626373627\n",
      "Epoch 2 Batch 96: Loss 0.8163236379623413, Accuracy 0.6507161458333334, F1 0.6341827212176675, Precision 0.6869954903055308, Recall 0.6507161458333334\n",
      "Epoch 2: Train Accuracy 0.6574074074074073, F1 0.6413332247043776, Precision 0.693125792287233, Recall 0.6574074074074073\n"
     ]
    },
    {
     "name": "stderr",
     "output_type": "stream",
     "text": [
      "/tmp/ipykernel_238/3821735571.py:62: TqdmDeprecationWarning: This function will be removed in tqdm==5.0.0\n",
      "Please use `tqdm.notebook.tqdm` instead of `tqdm.tqdm_notebook`\n",
      "  for batch_id, (token_ids, _, segment_ids, label) in enumerate(tqdm_notebook(val_dataloader)):\n"
     ]
    },
    {
     "data": {
      "application/vnd.jupyter.widget-view+json": {
       "model_id": "a89fa638d6a344d79b0ff8faeb852a32",
       "version_major": 2,
       "version_minor": 0
      },
      "text/plain": [
       "  0%|          | 0/25 [00:00<?, ?it/s]"
      ]
     },
     "metadata": {},
     "output_type": "display_data"
    },
    {
     "name": "stdout",
     "output_type": "stream",
     "text": [
      "Epoch 2: Validation Accuracy 0.8107954545454545, F1 0.8043678761916077, Precision 0.8415681588148695, Recall 0.8107954545454545\n"
     ]
    },
    {
     "name": "stderr",
     "output_type": "stream",
     "text": [
      "/tmp/ipykernel_238/3821735571.py:20: TqdmDeprecationWarning: This function will be removed in tqdm==5.0.0\n",
      "Please use `tqdm.notebook.tqdm` instead of `tqdm.tqdm_notebook`\n",
      "  for batch_id, (token_ids, _, segment_ids, label) in enumerate(tqdm_notebook(train_dataloader)):\n"
     ]
    },
    {
     "data": {
      "application/vnd.jupyter.widget-view+json": {
       "model_id": "0d9c596e54af43a8bb2cb4d4707323a3",
       "version_major": 2,
       "version_minor": 0
      },
      "text/plain": [
       "  0%|          | 0/99 [00:00<?, ?it/s]"
      ]
     },
     "metadata": {},
     "output_type": "display_data"
    },
    {
     "name": "stdout",
     "output_type": "stream",
     "text": [
      "Epoch 3 Batch 1: Loss 0.6329599618911743, Accuracy 0.84375, F1 0.8451923076923078, Precision 0.875, Recall 0.84375\n",
      "Epoch 3 Batch 6: Loss 0.7255569100379944, Accuracy 0.7916666666666666, F1 0.7864897217818413, Precision 0.826018772893773, Recall 0.7916666666666666\n",
      "Epoch 3 Batch 11: Loss 0.6585771441459656, Accuracy 0.7926136363636364, F1 0.7899084274730925, Precision 0.8287370615495615, Recall 0.7926136363636364\n",
      "Epoch 3 Batch 16: Loss 0.7136182188987732, Accuracy 0.80078125, F1 0.7982161502903826, Precision 0.8336025844814907, Recall 0.80078125\n",
      "Epoch 3 Batch 21: Loss 0.8785507082939148, Accuracy 0.8020833333333334, F1 0.8004001193326479, Precision 0.8339378049199476, Recall 0.8020833333333334\n",
      "Epoch 3 Batch 26: Loss 0.6880728602409363, Accuracy 0.8052884615384616, F1 0.8024385482490051, Precision 0.8363303363303363, Recall 0.8052884615384616\n",
      "Epoch 3 Batch 31: Loss 0.5236963629722595, Accuracy 0.8084677419354839, F1 0.8060015781763101, Precision 0.8386766431373287, Recall 0.8084677419354839\n",
      "Epoch 3 Batch 36: Loss 0.5971611738204956, Accuracy 0.8090277777777778, F1 0.8053791688430383, Precision 0.8409263238690323, Recall 0.8090277777777778\n",
      "Epoch 3 Batch 41: Loss 0.7173799276351929, Accuracy 0.805640243902439, F1 0.8022915734198237, Precision 0.8387817170972659, Recall 0.805640243902439\n",
      "Epoch 3 Batch 46: Loss 0.5400322675704956, Accuracy 0.8125, F1 0.809754951645201, Precision 0.8456844578278002, Recall 0.8125\n",
      "Epoch 3 Batch 51: Loss 0.5849729776382446, Accuracy 0.8125, F1 0.8100237737361182, Precision 0.8458000281989254, Recall 0.8125\n",
      "Epoch 3 Batch 56: Loss 0.4803885221481323, Accuracy 0.8186383928571429, F1 0.8164590308369017, Precision 0.8504151710764434, Recall 0.8186383928571429\n",
      "Epoch 3 Batch 61: Loss 0.5116235613822937, Accuracy 0.8232581967213115, F1 0.8205965754018526, Precision 0.8548554928677877, Recall 0.8232581967213115\n",
      "Epoch 3 Batch 66: Loss 0.9280616044998169, Accuracy 0.8210227272727273, F1 0.8181818517518915, Precision 0.8511741966997647, Recall 0.8210227272727273\n",
      "Epoch 3 Batch 71: Loss 0.49588102102279663, Accuracy 0.8217429577464789, F1 0.8183619244674826, Precision 0.8527380785122084, Recall 0.8217429577464789\n",
      "Epoch 3 Batch 76: Loss 0.45318499207496643, Accuracy 0.8223684210526315, F1 0.8191046364799789, Precision 0.8529213507457024, Recall 0.8223684210526315\n",
      "Epoch 3 Batch 81: Loss 0.48351603746414185, Accuracy 0.8221450617283951, F1 0.8187274672516954, Precision 0.8527587207308747, Recall 0.8221450617283951\n",
      "Epoch 3 Batch 86: Loss 0.4943249821662903, Accuracy 0.8237645348837209, F1 0.8206946813669199, Precision 0.854128622009735, Recall 0.8237645348837209\n",
      "Epoch 3 Batch 91: Loss 0.3981393277645111, Accuracy 0.8238324175824175, F1 0.8206256243060394, Precision 0.853843659684602, Recall 0.8238324175824175\n",
      "Epoch 3 Batch 96: Loss 0.45482465624809265, Accuracy 0.8268229166666666, F1 0.8240580047000855, Precision 0.8571295012729987, Recall 0.8268229166666666\n",
      "Epoch 3: Train Accuracy 0.8284932659932659, F1 0.8256999561361765, Precision 0.8582906954383672, Recall 0.8284932659932659\n"
     ]
    },
    {
     "name": "stderr",
     "output_type": "stream",
     "text": [
      "/tmp/ipykernel_238/3821735571.py:62: TqdmDeprecationWarning: This function will be removed in tqdm==5.0.0\n",
      "Please use `tqdm.notebook.tqdm` instead of `tqdm.tqdm_notebook`\n",
      "  for batch_id, (token_ids, _, segment_ids, label) in enumerate(tqdm_notebook(val_dataloader)):\n"
     ]
    },
    {
     "data": {
      "application/vnd.jupyter.widget-view+json": {
       "model_id": "ab1f7fa1d14b4646bc508d0232c6768f",
       "version_major": 2,
       "version_minor": 0
      },
      "text/plain": [
       "  0%|          | 0/25 [00:00<?, ?it/s]"
      ]
     },
     "metadata": {},
     "output_type": "display_data"
    },
    {
     "name": "stdout",
     "output_type": "stream",
     "text": [
      "Epoch 3: Validation Accuracy 0.8320454545454545, F1 0.8311849026155106, Precision 0.8587185020861493, Recall 0.8320454545454545\n"
     ]
    },
    {
     "name": "stderr",
     "output_type": "stream",
     "text": [
      "/tmp/ipykernel_238/3821735571.py:20: TqdmDeprecationWarning: This function will be removed in tqdm==5.0.0\n",
      "Please use `tqdm.notebook.tqdm` instead of `tqdm.tqdm_notebook`\n",
      "  for batch_id, (token_ids, _, segment_ids, label) in enumerate(tqdm_notebook(train_dataloader)):\n"
     ]
    },
    {
     "data": {
      "application/vnd.jupyter.widget-view+json": {
       "model_id": "664ef46a0ccf4db292721f336feddd87",
       "version_major": 2,
       "version_minor": 0
      },
      "text/plain": [
       "  0%|          | 0/99 [00:00<?, ?it/s]"
      ]
     },
     "metadata": {},
     "output_type": "display_data"
    },
    {
     "name": "stdout",
     "output_type": "stream",
     "text": [
      "Epoch 4 Batch 1: Loss 0.41170457005500793, Accuracy 0.8125, F1 0.8110716276477145, Precision 0.8592032967032966, Recall 0.8125\n",
      "Epoch 4 Batch 6: Loss 0.708535373210907, Accuracy 0.8177083333333334, F1 0.8164264015129289, Precision 0.852043428215303, Recall 0.8177083333333334\n",
      "Epoch 4 Batch 11: Loss 0.6071757078170776, Accuracy 0.8380681818181818, F1 0.8347481452837411, Precision 0.8704255537707243, Recall 0.8380681818181818\n",
      "Epoch 4 Batch 16: Loss 0.48091623187065125, Accuracy 0.84765625, F1 0.8447666480850118, Precision 0.8749338579172564, Recall 0.84765625\n",
      "Epoch 4 Batch 21: Loss 0.6181415319442749, Accuracy 0.8556547619047619, F1 0.8523001964786988, Precision 0.8797374025610633, Recall 0.8556547619047619\n",
      "Epoch 4 Batch 26: Loss 0.24975155293941498, Accuracy 0.859375, F1 0.8566323155620196, Precision 0.8842225733000973, Recall 0.859375\n",
      "Epoch 4 Batch 31: Loss 0.36006560921669006, Accuracy 0.8649193548387096, F1 0.8623175839426802, Precision 0.8884557408876966, Recall 0.8649193548387096\n",
      "Epoch 4 Batch 36: Loss 0.35004302859306335, Accuracy 0.8706597222222222, F1 0.8684494813522049, Precision 0.892405271474282, Recall 0.8706597222222222\n",
      "Epoch 4 Batch 41: Loss 0.5081153512001038, Accuracy 0.8658536585365854, F1 0.8643143707189377, Precision 0.888868189525583, Recall 0.8658536585365854\n",
      "Epoch 4 Batch 46: Loss 0.4525105059146881, Accuracy 0.8682065217391305, F1 0.8670555744660015, Precision 0.8917638436065747, Recall 0.8682065217391305\n",
      "Epoch 4 Batch 51: Loss 0.54571932554245, Accuracy 0.8658088235294118, F1 0.8648696892916258, Precision 0.8887433551266274, Recall 0.8658088235294118\n",
      "Epoch 4 Batch 56: Loss 0.46011340618133545, Accuracy 0.8660714285714286, F1 0.8647107599244235, Precision 0.8887997519903214, Recall 0.8660714285714286\n",
      "Epoch 4 Batch 61: Loss 0.6869841814041138, Accuracy 0.8642418032786885, F1 0.8632983031362529, Precision 0.8891578303015293, Recall 0.8642418032786885\n",
      "Epoch 4 Batch 66: Loss 0.8039588332176208, Accuracy 0.8584280303030303, F1 0.8574513796222336, Precision 0.8869071075256321, Recall 0.8584280303030303\n",
      "Epoch 4 Batch 71: Loss 0.4402611255645752, Accuracy 0.8556338028169014, F1 0.8544981549507294, Precision 0.8853141151760535, Recall 0.8556338028169014\n",
      "Epoch 4 Batch 76: Loss 0.7283236980438232, Accuracy 0.8564967105263158, F1 0.8554320794625448, Precision 0.8865811719415028, Recall 0.8564967105263158\n",
      "Epoch 4 Batch 81: Loss 0.17122960090637207, Accuracy 0.8584104938271605, F1 0.8573767268577158, Precision 0.8875920538715001, Recall 0.8584104938271605\n",
      "Epoch 4 Batch 86: Loss 0.36284106969833374, Accuracy 0.8590116279069767, F1 0.8576943569238079, Precision 0.8876262537586392, Recall 0.8590116279069767\n",
      "Epoch 4 Batch 91: Loss 0.37745457887649536, Accuracy 0.8595467032967034, F1 0.8583637738422636, Precision 0.8874750165946337, Recall 0.8595467032967034\n",
      "Epoch 4 Batch 96: Loss 0.4451422393321991, Accuracy 0.8619791666666666, F1 0.8608559502434378, Precision 0.8892990749112939, Recall 0.8619791666666666\n",
      "Epoch 4: Train Accuracy 0.8643728956228957, F1 0.8633262332047698, Precision 0.8913028001729822, Recall 0.8643728956228957\n"
     ]
    },
    {
     "name": "stderr",
     "output_type": "stream",
     "text": [
      "/tmp/ipykernel_238/3821735571.py:62: TqdmDeprecationWarning: This function will be removed in tqdm==5.0.0\n",
      "Please use `tqdm.notebook.tqdm` instead of `tqdm.tqdm_notebook`\n",
      "  for batch_id, (token_ids, _, segment_ids, label) in enumerate(tqdm_notebook(val_dataloader)):\n"
     ]
    },
    {
     "data": {
      "application/vnd.jupyter.widget-view+json": {
       "model_id": "b1394448e60d4f47b99a0aeeac39877c",
       "version_major": 2,
       "version_minor": 0
      },
      "text/plain": [
       "  0%|          | 0/25 [00:00<?, ?it/s]"
      ]
     },
     "metadata": {},
     "output_type": "display_data"
    },
    {
     "name": "stdout",
     "output_type": "stream",
     "text": [
      "Epoch 4: Validation Accuracy 0.8663636363636364, F1 0.866599117537538, Precision 0.8806932442557445, Recall 0.8663636363636364\n"
     ]
    },
    {
     "name": "stderr",
     "output_type": "stream",
     "text": [
      "/tmp/ipykernel_238/3821735571.py:20: TqdmDeprecationWarning: This function will be removed in tqdm==5.0.0\n",
      "Please use `tqdm.notebook.tqdm` instead of `tqdm.tqdm_notebook`\n",
      "  for batch_id, (token_ids, _, segment_ids, label) in enumerate(tqdm_notebook(train_dataloader)):\n"
     ]
    },
    {
     "data": {
      "application/vnd.jupyter.widget-view+json": {
       "model_id": "067cb0eb7adc45a6b91cf36e8945d6fc",
       "version_major": 2,
       "version_minor": 0
      },
      "text/plain": [
       "  0%|          | 0/99 [00:00<?, ?it/s]"
      ]
     },
     "metadata": {},
     "output_type": "display_data"
    },
    {
     "name": "stdout",
     "output_type": "stream",
     "text": [
      "Epoch 5 Batch 1: Loss 0.12045280635356903, Accuracy 0.96875, F1 0.9693480861244019, Precision 0.9739583333333334, Recall 0.96875\n",
      "Epoch 5 Batch 6: Loss 0.45990774035453796, Accuracy 0.890625, F1 0.885632344474193, Precision 0.908117071007696, Recall 0.890625\n",
      "Epoch 5 Batch 11: Loss 0.46679410338401794, Accuracy 0.8920454545454546, F1 0.8888844331290606, Precision 0.9063608897415716, Recall 0.8920454545454546\n",
      "Epoch 5 Batch 16: Loss 0.4291236400604248, Accuracy 0.880859375, F1 0.8778357972080892, Precision 0.8987431567997973, Recall 0.880859375\n",
      "Epoch 5 Batch 21: Loss 0.40559178590774536, Accuracy 0.8839285714285714, F1 0.8817028666080162, Precision 0.9012373456569884, Recall 0.8839285714285714\n",
      "Epoch 5 Batch 26: Loss 0.4205057919025421, Accuracy 0.8846153846153846, F1 0.8828751397096247, Precision 0.9014219754604368, Recall 0.8846153846153846\n",
      "Epoch 5 Batch 31: Loss 0.21785102784633636, Accuracy 0.8961693548387096, F1 0.8945897376807573, Precision 0.9108785032172128, Recall 0.8961693548387096\n",
      "Epoch 5 Batch 36: Loss 0.18091127276420593, Accuracy 0.9027777777777778, F1 0.901471539350053, Precision 0.9168056962327794, Recall 0.9027777777777778\n",
      "Epoch 5 Batch 41: Loss 0.35961616039276123, Accuracy 0.9024390243902439, F1 0.9015064163788218, Precision 0.916230705693358, Recall 0.9024390243902439\n",
      "Epoch 5 Batch 46: Loss 0.3654748201370239, Accuracy 0.90625, F1 0.9054598063606464, Precision 0.9195799803306595, Recall 0.90625\n",
      "Epoch 5 Batch 51: Loss 0.33689433336257935, Accuracy 0.9037990196078431, F1 0.9032877065184316, Precision 0.9178384506969064, Recall 0.9037990196078431\n",
      "Epoch 5 Batch 56: Loss 0.454993337392807, Accuracy 0.9029017857142857, F1 0.9019790504852623, Precision 0.9165864873593668, Recall 0.9029017857142857\n",
      "Epoch 5 Batch 61: Loss 0.20481806993484497, Accuracy 0.9031762295081968, F1 0.9020581026545323, Precision 0.9175262465221481, Recall 0.9031762295081968\n",
      "Epoch 5 Batch 66: Loss 0.4965873956680298, Accuracy 0.9010416666666666, F1 0.8993737975736817, Precision 0.9156367622276712, Recall 0.9010416666666666\n",
      "Epoch 5 Batch 71: Loss 0.23309782147407532, Accuracy 0.9027288732394366, F1 0.9011143807300602, Precision 0.9170263678516317, Recall 0.9027288732394366\n",
      "Epoch 5 Batch 76: Loss 0.26163947582244873, Accuracy 0.9029605263157895, F1 0.9015408273574618, Precision 0.9172061742168646, Recall 0.9029605263157895\n"
     ]
    },
    {
     "name": "stderr",
     "output_type": "stream",
     "text": [
      "/opt/conda/lib/python3.9/site-packages/sklearn/metrics/_classification.py:1308: UndefinedMetricWarning: Precision is ill-defined and being set to 0.0 in labels with no predicted samples. Use `zero_division` parameter to control this behavior.\n",
      "  _warn_prf(average, modifier, msg_start, len(result))\n"
     ]
    },
    {
     "name": "stdout",
     "output_type": "stream",
     "text": [
      "Epoch 5 Batch 81: Loss 0.30195799469947815, Accuracy 0.9016203703703703, F1 0.899365683811937, Precision 0.9140200902064323, Recall 0.9016203703703703\n",
      "Epoch 5 Batch 86: Loss 0.5557935833930969, Accuracy 0.8993459302325582, F1 0.897197329552423, Precision 0.9126725735101455, Recall 0.8993459302325582\n",
      "Epoch 5 Batch 91: Loss 0.23474843800067902, Accuracy 0.8983516483516484, F1 0.8962002737728072, Precision 0.9124710178024047, Recall 0.8983516483516484\n",
      "Epoch 5 Batch 96: Loss 0.2998966574668884, Accuracy 0.8990885416666666, F1 0.8969655142966397, Precision 0.9131616873071947, Recall 0.8990885416666666\n",
      "Epoch 5: Train Accuracy 0.89888468013468, F1 0.8969186921977826, Precision 0.9132979613329989, Recall 0.89888468013468\n"
     ]
    },
    {
     "name": "stderr",
     "output_type": "stream",
     "text": [
      "/tmp/ipykernel_238/3821735571.py:62: TqdmDeprecationWarning: This function will be removed in tqdm==5.0.0\n",
      "Please use `tqdm.notebook.tqdm` instead of `tqdm.tqdm_notebook`\n",
      "  for batch_id, (token_ids, _, segment_ids, label) in enumerate(tqdm_notebook(val_dataloader)):\n"
     ]
    },
    {
     "data": {
      "application/vnd.jupyter.widget-view+json": {
       "model_id": "fcef29996cf4416f98aa415227288959",
       "version_major": 2,
       "version_minor": 0
      },
      "text/plain": [
       "  0%|          | 0/25 [00:00<?, ?it/s]"
      ]
     },
     "metadata": {},
     "output_type": "display_data"
    },
    {
     "name": "stdout",
     "output_type": "stream",
     "text": [
      "Epoch 5: Validation Accuracy 0.8707954545454545, F1 0.871045950625885, Precision 0.8876071844821846, Recall 0.8707954545454545\n"
     ]
    },
    {
     "name": "stderr",
     "output_type": "stream",
     "text": [
      "/tmp/ipykernel_238/3821735571.py:20: TqdmDeprecationWarning: This function will be removed in tqdm==5.0.0\n",
      "Please use `tqdm.notebook.tqdm` instead of `tqdm.tqdm_notebook`\n",
      "  for batch_id, (token_ids, _, segment_ids, label) in enumerate(tqdm_notebook(train_dataloader)):\n"
     ]
    },
    {
     "data": {
      "application/vnd.jupyter.widget-view+json": {
       "model_id": "e5de121024cb4365b24ab88461697656",
       "version_major": 2,
       "version_minor": 0
      },
      "text/plain": [
       "  0%|          | 0/99 [00:00<?, ?it/s]"
      ]
     },
     "metadata": {},
     "output_type": "display_data"
    },
    {
     "name": "stdout",
     "output_type": "stream",
     "text": [
      "Epoch 6 Batch 1: Loss 0.23910416662693024, Accuracy 0.9375, F1 0.9351325757575757, Precision 0.9479166666666667, Recall 0.9375\n",
      "Epoch 6 Batch 6: Loss 0.5707786679267883, Accuracy 0.890625, F1 0.8889917782419928, Precision 0.90918391504329, Recall 0.890625\n",
      "Epoch 6 Batch 11: Loss 0.34770649671554565, Accuracy 0.8892045454545454, F1 0.8869421730353225, Precision 0.9030651718861944, Recall 0.8892045454545454\n",
      "Epoch 6 Batch 16: Loss 0.2894212007522583, Accuracy 0.900390625, F1 0.8986026163463442, Precision 0.912554361870768, Recall 0.900390625\n",
      "Epoch 6 Batch 21: Loss 0.3355345129966736, Accuracy 0.9002976190476191, F1 0.8979673459487213, Precision 0.9156731826374682, Recall 0.9002976190476191\n",
      "Epoch 6 Batch 26: Loss 0.22411124408245087, Accuracy 0.9098557692307693, F1 0.9080627823240525, Precision 0.9240226286800804, Recall 0.9098557692307693\n",
      "Epoch 6 Batch 31: Loss 0.20614729821681976, Accuracy 0.9143145161290323, F1 0.9126726232306103, Precision 0.9273271475388409, Recall 0.9143145161290323\n",
      "Epoch 6 Batch 36: Loss 0.3110540509223938, Accuracy 0.9166666666666666, F1 0.915250534444702, Precision 0.9291299797810214, Recall 0.9166666666666666\n",
      "Epoch 6 Batch 41: Loss 0.38711845874786377, Accuracy 0.9153963414634146, F1 0.9143639290035006, Precision 0.9280831359528003, Recall 0.9153963414634146\n",
      "Epoch 6 Batch 46: Loss 0.10486751794815063, Accuracy 0.9198369565217391, F1 0.9189567278839452, Precision 0.9319014696052738, Recall 0.9198369565217391\n",
      "Epoch 6 Batch 51: Loss 0.5685179233551025, Accuracy 0.9160539215686274, F1 0.9153780142398028, Precision 0.928883381732646, Recall 0.9160539215686274\n",
      "Epoch 6 Batch 56: Loss 0.3268905282020569, Accuracy 0.9157366071428571, F1 0.9151753067084183, Precision 0.9284130861697821, Recall 0.9157366071428571\n",
      "Epoch 6 Batch 61: Loss 0.19592759013175964, Accuracy 0.9154713114754098, F1 0.9143820362702474, Precision 0.9285936790611478, Recall 0.9154713114754098\n",
      "Epoch 6 Batch 66: Loss 0.49912264943122864, Accuracy 0.912405303030303, F1 0.9112045392525258, Precision 0.9262661101261948, Recall 0.912405303030303\n",
      "Epoch 6 Batch 71: Loss 0.2526390552520752, Accuracy 0.9128521126760564, F1 0.9117998535292368, Precision 0.9269619861994417, Recall 0.9128521126760564\n",
      "Epoch 6 Batch 76: Loss 0.16905300319194794, Accuracy 0.9148848684210527, F1 0.9138724563116947, Precision 0.9284781345071224, Recall 0.9148848684210527\n",
      "Epoch 6 Batch 81: Loss 0.06359720230102539, Accuracy 0.9158950617283951, F1 0.9149509801460532, Precision 0.9289713656756474, Recall 0.9158950617283951\n",
      "Epoch 6 Batch 86: Loss 0.11892561614513397, Accuracy 0.9182412790697675, F1 0.9173794301493232, Precision 0.9310945559810017, Recall 0.9182412790697675\n",
      "Epoch 6 Batch 91: Loss 0.045516081154346466, Accuracy 0.9196428571428571, F1 0.9187982659465102, Precision 0.9321574492548044, Recall 0.9196428571428571\n",
      "Epoch 6 Batch 96: Loss 0.26671892404556274, Accuracy 0.9205729166666666, F1 0.9200364397567156, Precision 0.9335871724665665, Recall 0.9205729166666666\n",
      "Epoch 6: Train Accuracy 0.9219276094276094, F1 0.9214164617555191, Precision 0.9346872846044244, Recall 0.9219276094276094\n"
     ]
    },
    {
     "name": "stderr",
     "output_type": "stream",
     "text": [
      "/tmp/ipykernel_238/3821735571.py:62: TqdmDeprecationWarning: This function will be removed in tqdm==5.0.0\n",
      "Please use `tqdm.notebook.tqdm` instead of `tqdm.tqdm_notebook`\n",
      "  for batch_id, (token_ids, _, segment_ids, label) in enumerate(tqdm_notebook(val_dataloader)):\n"
     ]
    },
    {
     "data": {
      "application/vnd.jupyter.widget-view+json": {
       "model_id": "d1c48228bd2541049e7d730cff9f37d2",
       "version_major": 2,
       "version_minor": 0
      },
      "text/plain": [
       "  0%|          | 0/25 [00:00<?, ?it/s]"
      ]
     },
     "metadata": {},
     "output_type": "display_data"
    },
    {
     "name": "stdout",
     "output_type": "stream",
     "text": [
      "Epoch 6: Validation Accuracy 0.8570454545454546, F1 0.8579938268053644, Precision 0.8735569187756689, Recall 0.8570454545454546\n"
     ]
    },
    {
     "name": "stderr",
     "output_type": "stream",
     "text": [
      "/tmp/ipykernel_238/3821735571.py:20: TqdmDeprecationWarning: This function will be removed in tqdm==5.0.0\n",
      "Please use `tqdm.notebook.tqdm` instead of `tqdm.tqdm_notebook`\n",
      "  for batch_id, (token_ids, _, segment_ids, label) in enumerate(tqdm_notebook(train_dataloader)):\n"
     ]
    },
    {
     "data": {
      "application/vnd.jupyter.widget-view+json": {
       "model_id": "4ad66a031d90476fad0f01d28110f577",
       "version_major": 2,
       "version_minor": 0
      },
      "text/plain": [
       "  0%|          | 0/99 [00:00<?, ?it/s]"
      ]
     },
     "metadata": {},
     "output_type": "display_data"
    },
    {
     "name": "stdout",
     "output_type": "stream",
     "text": [
      "Epoch 7 Batch 1: Loss 0.020983470603823662, Accuracy 1.0, F1 1.0, Precision 1.0, Recall 1.0\n",
      "Epoch 7 Batch 6: Loss 0.3651754856109619, Accuracy 0.9427083333333334, F1 0.9396494873662057, Precision 0.9499276620370369, Recall 0.9427083333333334\n",
      "Epoch 7 Batch 11: Loss 0.869239091873169, Accuracy 0.9375, F1 0.9354201305811397, Precision 0.9456969246031744, Recall 0.9375\n",
      "Epoch 7 Batch 16: Loss 0.2627049386501312, Accuracy 0.9375, F1 0.9361022596490298, Precision 0.9465950119758714, Recall 0.9375\n",
      "Epoch 7 Batch 21: Loss 0.32767966389656067, Accuracy 0.9419642857142857, F1 0.9409222805340427, Precision 0.9502142615981901, Recall 0.9419642857142857\n",
      "Epoch 7 Batch 26: Loss 0.3269665241241455, Accuracy 0.9435096153846154, F1 0.9427225046869256, Precision 0.9521094890686237, Recall 0.9435096153846154\n",
      "Epoch 7 Batch 31: Loss 0.2632889449596405, Accuracy 0.9455645161290323, F1 0.9448463198623948, Precision 0.9534700346696315, Recall 0.9455645161290323\n",
      "Epoch 7 Batch 36: Loss 0.12414898723363876, Accuracy 0.9470486111111112, F1 0.9462441846218526, Precision 0.9545626417371209, Recall 0.9470486111111112\n",
      "Epoch 7 Batch 41: Loss 0.25903555750846863, Accuracy 0.944359756097561, F1 0.9436003127725995, Precision 0.9524168243680439, Recall 0.944359756097561\n",
      "Epoch 7 Batch 46: Loss 0.42044639587402344, Accuracy 0.9436141304347826, F1 0.9430228556080082, Precision 0.9524137339864243, Recall 0.9436141304347826\n",
      "Epoch 7 Batch 51: Loss 0.5555976629257202, Accuracy 0.9362745098039216, F1 0.9355475735221879, Precision 0.9466188631629808, Recall 0.9362745098039216\n",
      "Epoch 7 Batch 56: Loss 0.1602153778076172, Accuracy 0.9380580357142857, F1 0.9374892359154997, Precision 0.9482396633624312, Recall 0.9380580357142857\n",
      "Epoch 7 Batch 61: Loss 0.0324617438018322, Accuracy 0.9410860655737705, F1 0.940493177825669, Precision 0.9506813996568094, Recall 0.9410860655737705\n",
      "Epoch 7 Batch 66: Loss 0.23458872735500336, Accuracy 0.9412878787878788, F1 0.9406350028319139, Precision 0.9508307638279228, Recall 0.9412878787878788\n",
      "Epoch 7 Batch 71: Loss 0.09111402928829193, Accuracy 0.9432218309859155, F1 0.9425877969795375, Precision 0.9524290483577453, Recall 0.9432218309859155\n",
      "Epoch 7 Batch 76: Loss 0.27347108721733093, Accuracy 0.944078947368421, F1 0.9435064786737148, Precision 0.9531462723588543, Recall 0.944078947368421\n",
      "Epoch 7 Batch 81: Loss 0.2086762636899948, Accuracy 0.9425154320987654, F1 0.9420379424839115, Precision 0.952124572957906, Recall 0.9425154320987654\n",
      "Epoch 7 Batch 86: Loss 0.19974200427532196, Accuracy 0.9422238372093024, F1 0.9417945257046482, Precision 0.951685565121248, Recall 0.9422238372093024\n",
      "Epoch 7 Batch 91: Loss 0.46852362155914307, Accuracy 0.9423076923076923, F1 0.9417432114491919, Precision 0.9517466669853345, Recall 0.9423076923076923\n",
      "Epoch 7 Batch 96: Loss 0.3639833331108093, Accuracy 0.9401041666666666, F1 0.9394311312380816, Precision 0.949547430650946, Recall 0.9401041666666666\n",
      "Epoch 7: Train Accuracy 0.9369739057239058, F1 0.936440090170798, Precision 0.948156473156473, Recall 0.9369739057239058\n"
     ]
    },
    {
     "name": "stderr",
     "output_type": "stream",
     "text": [
      "/tmp/ipykernel_238/3821735571.py:62: TqdmDeprecationWarning: This function will be removed in tqdm==5.0.0\n",
      "Please use `tqdm.notebook.tqdm` instead of `tqdm.tqdm_notebook`\n",
      "  for batch_id, (token_ids, _, segment_ids, label) in enumerate(tqdm_notebook(val_dataloader)):\n"
     ]
    },
    {
     "data": {
      "application/vnd.jupyter.widget-view+json": {
       "model_id": "52fba3e4cfac47a9901d6a87165756de",
       "version_major": 2,
       "version_minor": 0
      },
      "text/plain": [
       "  0%|          | 0/25 [00:00<?, ?it/s]"
      ]
     },
     "metadata": {},
     "output_type": "display_data"
    },
    {
     "name": "stdout",
     "output_type": "stream",
     "text": [
      "Epoch 7: Validation Accuracy 0.8545454545454545, F1 0.8540632496923005, Precision 0.8820365537240538, Recall 0.8545454545454545\n"
     ]
    },
    {
     "name": "stderr",
     "output_type": "stream",
     "text": [
      "/tmp/ipykernel_238/3821735571.py:20: TqdmDeprecationWarning: This function will be removed in tqdm==5.0.0\n",
      "Please use `tqdm.notebook.tqdm` instead of `tqdm.tqdm_notebook`\n",
      "  for batch_id, (token_ids, _, segment_ids, label) in enumerate(tqdm_notebook(train_dataloader)):\n"
     ]
    },
    {
     "data": {
      "application/vnd.jupyter.widget-view+json": {
       "model_id": "a06cb5794f5144878488612ab34b6bb9",
       "version_major": 2,
       "version_minor": 0
      },
      "text/plain": [
       "  0%|          | 0/99 [00:00<?, ?it/s]"
      ]
     },
     "metadata": {},
     "output_type": "display_data"
    },
    {
     "name": "stdout",
     "output_type": "stream",
     "text": [
      "Epoch 8 Batch 1: Loss 0.15145520865917206, Accuracy 0.96875, F1 0.9693480861244019, Precision 0.9739583333333334, Recall 0.96875\n",
      "Epoch 8 Batch 6: Loss 0.26479363441467285, Accuracy 0.9583333333333334, F1 0.95761006906034, Precision 0.963518931878307, Recall 0.9583333333333334\n",
      "Epoch 8 Batch 11: Loss 0.1833675354719162, Accuracy 0.9630681818181818, F1 0.9626079062990538, Precision 0.9671808384166337, Recall 0.9630681818181818\n",
      "Epoch 8 Batch 16: Loss 0.255694717168808, Accuracy 0.95703125, F1 0.9567576095665119, Precision 0.9629289709856115, Recall 0.95703125\n",
      "Epoch 8 Batch 21: Loss 0.5087564587593079, Accuracy 0.9553571428571429, F1 0.9551191134152445, Precision 0.9614757927257926, Recall 0.9553571428571429\n",
      "Epoch 8 Batch 26: Loss 0.39861515164375305, Accuracy 0.9495192307692307, F1 0.9493425826779937, Precision 0.9570720612186956, Recall 0.9495192307692307\n",
      "Epoch 8 Batch 31: Loss 0.14297525584697723, Accuracy 0.9516129032258065, F1 0.9514703444410137, Precision 0.9588763331202846, Recall 0.9516129032258065\n",
      "Epoch 8 Batch 36: Loss 0.11233513057231903, Accuracy 0.9496527777777778, F1 0.949206737342998, Precision 0.9575542296245421, Recall 0.9496527777777778\n",
      "Epoch 8 Batch 41: Loss 0.19678933918476105, Accuracy 0.9504573170731707, F1 0.9500891568171216, Precision 0.9580693569641738, Recall 0.9504573170731707\n",
      "Epoch 8 Batch 46: Loss 0.04330497607588768, Accuracy 0.953125, F1 0.9526217363901397, Precision 0.960258172911026, Recall 0.953125\n",
      "Epoch 8 Batch 51: Loss 0.49157723784446716, Accuracy 0.9479166666666666, F1 0.9474219930380959, Precision 0.9558093645869379, Recall 0.9479166666666666\n",
      "Epoch 8 Batch 56: Loss 0.25354546308517456, Accuracy 0.9497767857142857, F1 0.9493607048574603, Precision 0.9572698584277823, Recall 0.9497767857142857\n",
      "Epoch 8 Batch 61: Loss 0.03001607209444046, Accuracy 0.951844262295082, F1 0.9514541251888515, Precision 0.959119332966669, Recall 0.951844262295082\n",
      "Epoch 8 Batch 66: Loss 0.046186815947294235, Accuracy 0.9517045454545454, F1 0.9513370454925861, Precision 0.9587993708732343, Recall 0.9517045454545454\n",
      "Epoch 8 Batch 71: Loss 0.4152436852455139, Accuracy 0.9524647887323944, F1 0.9521713915911959, Precision 0.9596889258530983, Recall 0.9524647887323944\n",
      "Epoch 8 Batch 76: Loss 0.3888651132583618, Accuracy 0.951891447368421, F1 0.9516159866900763, Precision 0.9593294315333787, Recall 0.951891447368421\n",
      "Epoch 8 Batch 81: Loss 0.025089457631111145, Accuracy 0.9506172839506173, F1 0.9504493091928832, Precision 0.9584742931965154, Recall 0.9506172839506173\n",
      "Epoch 8 Batch 86: Loss 0.029890192672610283, Accuracy 0.951671511627907, F1 0.9515067124763965, Precision 0.9592776288633846, Recall 0.951671511627907\n",
      "Epoch 8 Batch 91: Loss 0.07766631990671158, Accuracy 0.9512362637362637, F1 0.9510878057985238, Precision 0.9587964862518434, Recall 0.9512362637362637\n",
      "Epoch 8 Batch 96: Loss 0.17886801064014435, Accuracy 0.951171875, F1 0.9510427943168481, Precision 0.9587186386746936, Recall 0.951171875\n",
      "Epoch 8: Train Accuracy 0.9509680134680134, F1 0.9507980804659761, Precision 0.9585446250929207, Recall 0.9509680134680134\n"
     ]
    },
    {
     "name": "stderr",
     "output_type": "stream",
     "text": [
      "/tmp/ipykernel_238/3821735571.py:62: TqdmDeprecationWarning: This function will be removed in tqdm==5.0.0\n",
      "Please use `tqdm.notebook.tqdm` instead of `tqdm.tqdm_notebook`\n",
      "  for batch_id, (token_ids, _, segment_ids, label) in enumerate(tqdm_notebook(val_dataloader)):\n"
     ]
    },
    {
     "data": {
      "application/vnd.jupyter.widget-view+json": {
       "model_id": "45c0d815dc114398b7f4eaa476d1d908",
       "version_major": 2,
       "version_minor": 0
      },
      "text/plain": [
       "  0%|          | 0/25 [00:00<?, ?it/s]"
      ]
     },
     "metadata": {},
     "output_type": "display_data"
    },
    {
     "name": "stdout",
     "output_type": "stream",
     "text": [
      "Epoch 8: Validation Accuracy 0.8409090909090909, F1 0.8406017449120432, Precision 0.87457376998002, Recall 0.8409090909090909\n"
     ]
    },
    {
     "name": "stderr",
     "output_type": "stream",
     "text": [
      "/tmp/ipykernel_238/3821735571.py:20: TqdmDeprecationWarning: This function will be removed in tqdm==5.0.0\n",
      "Please use `tqdm.notebook.tqdm` instead of `tqdm.tqdm_notebook`\n",
      "  for batch_id, (token_ids, _, segment_ids, label) in enumerate(tqdm_notebook(train_dataloader)):\n"
     ]
    },
    {
     "data": {
      "application/vnd.jupyter.widget-view+json": {
       "model_id": "721f44630603478d8e5dc8c4461180da",
       "version_major": 2,
       "version_minor": 0
      },
      "text/plain": [
       "  0%|          | 0/99 [00:00<?, ?it/s]"
      ]
     },
     "metadata": {},
     "output_type": "display_data"
    },
    {
     "name": "stdout",
     "output_type": "stream",
     "text": [
      "Epoch 9 Batch 1: Loss 0.17282234132289886, Accuracy 0.96875, F1 0.968969298245614, Precision 0.97265625, Recall 0.96875\n",
      "Epoch 9 Batch 6: Loss 0.0868772491812706, Accuracy 0.921875, F1 0.9203940165573176, Precision 0.9356515879953381, Recall 0.921875\n",
      "Epoch 9 Batch 11: Loss 0.41719523072242737, Accuracy 0.9318181818181818, F1 0.9310542977638854, Precision 0.9431399566342747, Recall 0.9318181818181818\n",
      "Epoch 9 Batch 16: Loss 0.1669388860464096, Accuracy 0.943359375, F1 0.9427855954252062, Precision 0.9524104638850732, Recall 0.943359375\n",
      "Epoch 9 Batch 21: Loss 0.024150928482413292, Accuracy 0.9538690476190477, F1 0.9533996723750902, Precision 0.9611129817603031, Recall 0.9538690476190477\n",
      "Epoch 9 Batch 26: Loss 0.04599027335643768, Accuracy 0.9543269230769231, F1 0.9539151459222767, Precision 0.9618394993094511, Recall 0.9543269230769231\n",
      "Epoch 9 Batch 31: Loss 0.021413708105683327, Accuracy 0.9586693548387096, F1 0.9582928475481269, Precision 0.9653178838410692, Recall 0.9586693548387096\n",
      "Epoch 9 Batch 36: Loss 0.011037783697247505, Accuracy 0.9644097222222222, F1 0.9640855076108872, Precision 0.9701348444186983, Recall 0.9644097222222222\n",
      "Epoch 9 Batch 41: Loss 0.5198713541030884, Accuracy 0.9641768292682927, F1 0.9638749030281812, Precision 0.9696066403955121, Recall 0.9641768292682927\n",
      "Epoch 9 Batch 46: Loss 0.24310028553009033, Accuracy 0.9639945652173914, F1 0.9637791927614979, Precision 0.9694399312945509, Recall 0.9639945652173914\n",
      "Epoch 9 Batch 51: Loss 0.5850171446800232, Accuracy 0.9595588235294118, F1 0.959391842736693, Precision 0.9659774831649831, Recall 0.9595588235294118\n",
      "Epoch 9 Batch 56: Loss 0.17626091837882996, Accuracy 0.9614955357142857, F1 0.9613803392479706, Precision 0.9676068320320551, Recall 0.9614955357142857\n",
      "Epoch 9 Batch 61: Loss 0.16136442124843597, Accuracy 0.9620901639344263, F1 0.9620432796691344, Precision 0.9683850174756936, Recall 0.9620901639344263\n",
      "Epoch 9 Batch 66: Loss 0.22391277551651, Accuracy 0.9616477272727273, F1 0.9615818941982145, Precision 0.9677330547714068, Recall 0.9616477272727273\n",
      "Epoch 9 Batch 71: Loss 0.24648843705654144, Accuracy 0.9625880281690141, F1 0.9625312023731754, Precision 0.9684037512272545, Recall 0.9625880281690141\n",
      "Epoch 9 Batch 76: Loss 0.2475193291902542, Accuracy 0.9625822368421053, F1 0.9625278866585069, Precision 0.9682351342918775, Recall 0.9625822368421053\n",
      "Epoch 9 Batch 81: Loss 0.03133445233106613, Accuracy 0.9621913580246914, F1 0.962124048313599, Precision 0.9681456639211267, Recall 0.9621913580246914\n",
      "Epoch 9 Batch 86: Loss 0.10711613297462463, Accuracy 0.9614825581395349, F1 0.9614206833526299, Precision 0.9675365130670361, Recall 0.9614825581395349\n",
      "Epoch 9 Batch 91: Loss 0.021153559908270836, Accuracy 0.9615384615384616, F1 0.9614761871007097, Precision 0.9673606231985352, Recall 0.9615384615384616\n",
      "Epoch 9 Batch 96: Loss 0.12641718983650208, Accuracy 0.9606119791666666, F1 0.9605420847841929, Precision 0.9665686888343137, Recall 0.9606119791666666\n",
      "Epoch 9: Train Accuracy 0.9611742424242424, F1 0.9611095519638857, Precision 0.9670141840833126, Recall 0.9611742424242424\n"
     ]
    },
    {
     "name": "stderr",
     "output_type": "stream",
     "text": [
      "/tmp/ipykernel_238/3821735571.py:62: TqdmDeprecationWarning: This function will be removed in tqdm==5.0.0\n",
      "Please use `tqdm.notebook.tqdm` instead of `tqdm.tqdm_notebook`\n",
      "  for batch_id, (token_ids, _, segment_ids, label) in enumerate(tqdm_notebook(val_dataloader)):\n"
     ]
    },
    {
     "data": {
      "application/vnd.jupyter.widget-view+json": {
       "model_id": "4b71bb60cba44a97a3cdf3c967bec23f",
       "version_major": 2,
       "version_minor": 0
      },
      "text/plain": [
       "  0%|          | 0/25 [00:00<?, ?it/s]"
      ]
     },
     "metadata": {},
     "output_type": "display_data"
    },
    {
     "name": "stdout",
     "output_type": "stream",
     "text": [
      "Epoch 9: Validation Accuracy 0.8664772727272727, F1 0.8657052987980323, Precision 0.8818425740925742, Recall 0.8664772727272727\n"
     ]
    },
    {
     "name": "stderr",
     "output_type": "stream",
     "text": [
      "/tmp/ipykernel_238/3821735571.py:20: TqdmDeprecationWarning: This function will be removed in tqdm==5.0.0\n",
      "Please use `tqdm.notebook.tqdm` instead of `tqdm.tqdm_notebook`\n",
      "  for batch_id, (token_ids, _, segment_ids, label) in enumerate(tqdm_notebook(train_dataloader)):\n"
     ]
    },
    {
     "data": {
      "application/vnd.jupyter.widget-view+json": {
       "model_id": "44ea2b0b8f1b4710901fe7f67eaeda64",
       "version_major": 2,
       "version_minor": 0
      },
      "text/plain": [
       "  0%|          | 0/99 [00:00<?, ?it/s]"
      ]
     },
     "metadata": {},
     "output_type": "display_data"
    },
    {
     "name": "stdout",
     "output_type": "stream",
     "text": [
      "Epoch 10 Batch 1: Loss 0.030765004456043243, Accuracy 1.0, F1 1.0, Precision 1.0, Recall 1.0\n",
      "Epoch 10 Batch 6: Loss 0.42895588278770447, Accuracy 0.96875, F1 0.9684075075302129, Precision 0.9707509793447294, Recall 0.96875\n",
      "Epoch 10 Batch 11: Loss 0.20071198046207428, Accuracy 0.9715909090909091, F1 0.9715346664824697, Precision 0.9738773379398379, Recall 0.9715909090909091\n",
      "Epoch 10 Batch 16: Loss 0.07513173669576645, Accuracy 0.9765625, F1 0.9765177863800725, Precision 0.9784924927503053, Recall 0.9765625\n",
      "Epoch 10 Batch 21: Loss 0.016542350873351097, Accuracy 0.9806547619047619, F1 0.9805884845311788, Precision 0.9822605139569425, Recall 0.9806547619047619\n",
      "Epoch 10 Batch 26: Loss 0.051552142947912216, Accuracy 0.9783653846153846, F1 0.9784642409355017, Precision 0.9809978082814619, Recall 0.9783653846153846\n",
      "Epoch 10 Batch 31: Loss 0.011473097838461399, Accuracy 0.9818548387096774, F1 0.9819377504620337, Precision 0.9840626779134842, Recall 0.9818548387096774\n",
      "Epoch 10 Batch 36: Loss 0.011220656335353851, Accuracy 0.9835069444444444, F1 0.9835810281541401, Precision 0.9855045899316731, Recall 0.9835069444444444\n",
      "Epoch 10 Batch 41: Loss 0.17888674139976501, Accuracy 0.9824695121951219, F1 0.9825507164301165, Precision 0.9846445644463935, Recall 0.9824695121951219\n",
      "Epoch 10 Batch 46: Loss 0.17185908555984497, Accuracy 0.9836956521739131, F1 0.9837420012092851, Precision 0.9856795755572927, Recall 0.9836956521739131\n",
      "Epoch 10 Batch 51: Loss 0.3542541265487671, Accuracy 0.9791666666666666, F1 0.9790427271322781, Precision 0.9816091962231666, Recall 0.9791666666666666\n",
      "Epoch 10 Batch 56: Loss 0.0947694256901741, Accuracy 0.9793526785714286, F1 0.9793175535575968, Precision 0.9819956519175267, Recall 0.9793526785714286\n",
      "Epoch 10 Batch 61: Loss 0.008583396673202515, Accuracy 0.9810450819672131, F1 0.9810128360528757, Precision 0.983471418153795, Recall 0.9810450819672131\n",
      "Epoch 10 Batch 66: Loss 0.008742683567106724, Accuracy 0.9815340909090909, F1 0.9814874528502169, Precision 0.9838722212656869, Recall 0.9815340909090909\n",
      "Epoch 10 Batch 71: Loss 0.006639460567384958, Accuracy 0.9819542253521126, F1 0.9819153175307039, Precision 0.9842707444159906, Recall 0.9819542253521126\n",
      "Epoch 10 Batch 76: Loss 0.007812988013029099, Accuracy 0.9814967105263158, F1 0.9814750283841006, Precision 0.9838899153660662, Recall 0.9814967105263158\n",
      "Epoch 10 Batch 81: Loss 0.00799490511417389, Accuracy 0.9814814814814815, F1 0.9814380095841195, Precision 0.9838528027185431, Recall 0.9814814814814815\n",
      "Epoch 10 Batch 86: Loss 0.09436342865228653, Accuracy 0.9811046511627907, F1 0.981062667197628, Precision 0.9835416864304942, Recall 0.9811046511627907\n",
      "Epoch 10 Batch 91: Loss 0.18219885230064392, Accuracy 0.9804258241758241, F1 0.9803747123781467, Precision 0.9829041818224509, Recall 0.9804258241758241\n",
      "Epoch 10 Batch 96: Loss 0.18614380061626434, Accuracy 0.9807942708333334, F1 0.9807828707260038, Precision 0.9833171584636426, Recall 0.9807942708333334\n",
      "Epoch 10: Train Accuracy 0.9807449494949495, F1 0.9807399442174093, Precision 0.983283213349501, Recall 0.9807449494949495\n"
     ]
    },
    {
     "name": "stderr",
     "output_type": "stream",
     "text": [
      "/tmp/ipykernel_238/3821735571.py:62: TqdmDeprecationWarning: This function will be removed in tqdm==5.0.0\n",
      "Please use `tqdm.notebook.tqdm` instead of `tqdm.tqdm_notebook`\n",
      "  for batch_id, (token_ids, _, segment_ids, label) in enumerate(tqdm_notebook(val_dataloader)):\n"
     ]
    },
    {
     "data": {
      "application/vnd.jupyter.widget-view+json": {
       "model_id": "a918b6a08d034a71ab6aae9236a12b4b",
       "version_major": 2,
       "version_minor": 0
      },
      "text/plain": [
       "  0%|          | 0/25 [00:00<?, ?it/s]"
      ]
     },
     "metadata": {},
     "output_type": "display_data"
    },
    {
     "name": "stdout",
     "output_type": "stream",
     "text": [
      "Epoch 10: Validation Accuracy 0.8989772727272727, F1 0.8986135708099304, Precision 0.9108389874014873, Recall 0.8989772727272727\n"
     ]
    },
    {
     "name": "stderr",
     "output_type": "stream",
     "text": [
      "/tmp/ipykernel_238/3821735571.py:20: TqdmDeprecationWarning: This function will be removed in tqdm==5.0.0\n",
      "Please use `tqdm.notebook.tqdm` instead of `tqdm.tqdm_notebook`\n",
      "  for batch_id, (token_ids, _, segment_ids, label) in enumerate(tqdm_notebook(train_dataloader)):\n"
     ]
    },
    {
     "data": {
      "application/vnd.jupyter.widget-view+json": {
       "model_id": "e6dd13f7e47b4f518edb6dd93a3fc403",
       "version_major": 2,
       "version_minor": 0
      },
      "text/plain": [
       "  0%|          | 0/99 [00:00<?, ?it/s]"
      ]
     },
     "metadata": {},
     "output_type": "display_data"
    },
    {
     "name": "stdout",
     "output_type": "stream",
     "text": [
      "Epoch 11 Batch 1: Loss 0.04082922264933586, Accuracy 0.96875, F1 0.9693480861244019, Precision 0.9739583333333334, Recall 0.96875\n",
      "Epoch 11 Batch 6: Loss 0.2875714898109436, Accuracy 0.984375, F1 0.9839857761676046, Precision 0.9866319444444445, Recall 0.984375\n",
      "Epoch 11 Batch 11: Loss 0.03154218941926956, Accuracy 0.9772727272727273, F1 0.9773824856031794, Precision 0.9802624458874458, Recall 0.9772727272727273\n",
      "Epoch 11 Batch 16: Loss 0.06965401023626328, Accuracy 0.9765625, F1 0.9764696059263288, Precision 0.9795805431547618, Recall 0.9765625\n",
      "Epoch 11 Batch 21: Loss 0.010013304650783539, Accuracy 0.9806547619047619, F1 0.9805517756140406, Precision 0.9830895047412904, Recall 0.9806547619047619\n",
      "Epoch 11 Batch 26: Loss 0.013908542692661285, Accuracy 0.9795673076923077, F1 0.9796273220776637, Precision 0.9826689803252301, Recall 0.9795673076923077\n",
      "Epoch 11 Batch 31: Loss 0.1868373602628708, Accuracy 0.9788306451612904, F1 0.9787867203998577, Precision 0.9819147558310864, Recall 0.9788306451612904\n",
      "Epoch 11 Batch 36: Loss 0.008382003754377365, Accuracy 0.9817708333333334, F1 0.9817330092332107, Precision 0.984426595298991, Recall 0.9817708333333334\n",
      "Epoch 11 Batch 41: Loss 0.17412430047988892, Accuracy 0.9809451219512195, F1 0.9809203758972386, Precision 0.983679885070891, Recall 0.9809451219512195\n",
      "Epoch 11 Batch 46: Loss 0.008687207475304604, Accuracy 0.9823369565217391, F1 0.9823378733711262, Precision 0.9849103323457942, Recall 0.9823369565217391\n",
      "Epoch 11 Batch 51: Loss 0.2482009083032608, Accuracy 0.9810049019607843, F1 0.9810221491212854, Precision 0.983577649202649, Recall 0.9810049019607843\n",
      "Epoch 11 Batch 56: Loss 0.15217889845371246, Accuracy 0.9821428571428571, F1 0.9821667407257755, Precision 0.9845656141973105, Recall 0.9821428571428571\n",
      "Epoch 11 Batch 61: Loss 0.010615197010338306, Accuracy 0.983094262295082, F1 0.98312106720805, Precision 0.9853824695909735, Recall 0.983094262295082\n",
      "Epoch 11 Batch 66: Loss 0.3768388032913208, Accuracy 0.9829545454545454, F1 0.9829961315841005, Precision 0.9853425680485338, Recall 0.9829545454545454\n",
      "Epoch 11 Batch 71: Loss 0.012834078632295132, Accuracy 0.983274647887324, F1 0.9833068564660953, Precision 0.985589530285833, Recall 0.983274647887324\n",
      "Epoch 11 Batch 76: Loss 0.019169073551893234, Accuracy 0.9839638157894737, F1 0.9839850052916627, Precision 0.986163783676119, Recall 0.9839638157894737\n",
      "Epoch 11 Batch 81: Loss 0.006146817468106747, Accuracy 0.9826388888888888, F1 0.9826413767622146, Precision 0.985228176316139, Recall 0.9826388888888888\n",
      "Epoch 11 Batch 86: Loss 0.00829329714179039, Accuracy 0.981468023255814, F1 0.9815077337654908, Precision 0.9843021319765504, Recall 0.981468023255814\n",
      "Epoch 11 Batch 91: Loss 0.01468914095312357, Accuracy 0.9804258241758241, F1 0.980465762404946, Precision 0.983431056885727, Recall 0.9804258241758241\n",
      "Epoch 11 Batch 96: Loss 0.12907293438911438, Accuracy 0.9807942708333334, F1 0.9808454212539658, Precision 0.9837487752770953, Recall 0.9807942708333334\n",
      "Epoch 11: Train Accuracy 0.9809553872053871, F1 0.9809820307721345, Precision 0.9838905071149385, Recall 0.9809553872053871\n"
     ]
    },
    {
     "name": "stderr",
     "output_type": "stream",
     "text": [
      "/tmp/ipykernel_238/3821735571.py:62: TqdmDeprecationWarning: This function will be removed in tqdm==5.0.0\n",
      "Please use `tqdm.notebook.tqdm` instead of `tqdm.tqdm_notebook`\n",
      "  for batch_id, (token_ids, _, segment_ids, label) in enumerate(tqdm_notebook(val_dataloader)):\n"
     ]
    },
    {
     "data": {
      "application/vnd.jupyter.widget-view+json": {
       "model_id": "ec2fe43e521441a59cff921a919865f3",
       "version_major": 2,
       "version_minor": 0
      },
      "text/plain": [
       "  0%|          | 0/25 [00:00<?, ?it/s]"
      ]
     },
     "metadata": {},
     "output_type": "display_data"
    },
    {
     "name": "stdout",
     "output_type": "stream",
     "text": [
      "Epoch 11: Validation Accuracy 0.8914772727272726, F1 0.8917370403700013, Precision 0.9022816558441557, Recall 0.8914772727272726\n"
     ]
    },
    {
     "name": "stderr",
     "output_type": "stream",
     "text": [
      "/tmp/ipykernel_238/3821735571.py:20: TqdmDeprecationWarning: This function will be removed in tqdm==5.0.0\n",
      "Please use `tqdm.notebook.tqdm` instead of `tqdm.tqdm_notebook`\n",
      "  for batch_id, (token_ids, _, segment_ids, label) in enumerate(tqdm_notebook(train_dataloader)):\n"
     ]
    },
    {
     "data": {
      "application/vnd.jupyter.widget-view+json": {
       "model_id": "cdda19726dbb4bf59f397fb95e156065",
       "version_major": 2,
       "version_minor": 0
      },
      "text/plain": [
       "  0%|          | 0/99 [00:00<?, ?it/s]"
      ]
     },
     "metadata": {},
     "output_type": "display_data"
    },
    {
     "name": "stdout",
     "output_type": "stream",
     "text": [
      "Epoch 12 Batch 1: Loss 0.010579538531601429, Accuracy 1.0, F1 1.0, Precision 1.0, Recall 1.0\n",
      "Epoch 12 Batch 6: Loss 0.15283991396427155, Accuracy 0.9895833333333334, F1 0.989573397952021, Precision 0.9906684027777777, Recall 0.9895833333333334\n",
      "Epoch 12 Batch 11: Loss 0.032635271549224854, Accuracy 0.9857954545454546, F1 0.9857216420205481, Precision 0.9874921085858585, Recall 0.9857954545454546\n",
      "Epoch 12 Batch 16: Loss 0.018450558185577393, Accuracy 0.98828125, F1 0.9882305038891268, Precision 0.9896104600694443, Recall 0.98828125\n",
      "Epoch 12 Batch 21: Loss 0.07079626619815826, Accuracy 0.9880952380952381, F1 0.9880212835955553, Precision 0.9893672588985089, Recall 0.9880952380952381\n",
      "Epoch 12 Batch 26: Loss 0.0650877133011818, Accuracy 0.9855769230769231, F1 0.9856550098767756, Precision 0.9877394740675989, Recall 0.9855769230769231\n",
      "Epoch 12 Batch 31: Loss 0.24103955924510956, Accuracy 0.9828629032258065, F1 0.9828576307492832, Precision 0.9854991446725316, Recall 0.9828629032258065\n",
      "Epoch 12 Batch 36: Loss 0.10901103913784027, Accuracy 0.984375, F1 0.9844013240094136, Precision 0.9868187079124578, Recall 0.984375\n",
      "Epoch 12 Batch 41: Loss 0.19846667349338531, Accuracy 0.9824695121951219, F1 0.9824725460075544, Precision 0.98509974527505, Recall 0.9824695121951219\n",
      "Epoch 12 Batch 46: Loss 0.005172125995159149, Accuracy 0.9836956521739131, F1 0.9837010203332465, Precision 0.9861249088321098, Recall 0.9836956521739131\n",
      "Epoch 12 Batch 51: Loss 0.16765718162059784, Accuracy 0.9828431372549019, F1 0.9828794917291467, Precision 0.9854237623079533, Recall 0.9828431372549019\n",
      "Epoch 12 Batch 56: Loss 0.09051293134689331, Accuracy 0.9838169642857143, F1 0.9838582491722206, Precision 0.9862468957753554, Recall 0.9838169642857143\n",
      "Epoch 12 Batch 61: Loss 0.024773718789219856, Accuracy 0.9841188524590164, F1 0.9841554101317395, Precision 0.9864648756298344, Recall 0.9841188524590164\n",
      "Epoch 12 Batch 66: Loss 0.005922294221818447, Accuracy 0.9848484848484849, F1 0.9848654379837122, Precision 0.9870532009026324, Recall 0.9848484848484849\n",
      "Epoch 12 Batch 71: Loss 0.08276774734258652, Accuracy 0.985475352112676, F1 0.985512981717691, Precision 0.9876348416841372, Recall 0.985475352112676\n",
      "Epoch 12 Batch 76: Loss 0.022903691977262497, Accuracy 0.985608552631579, F1 0.9856449796208167, Precision 0.9877230556815259, Recall 0.985608552631579\n",
      "Epoch 12 Batch 81: Loss 0.004660870414227247, Accuracy 0.9861111111111112, F1 0.9861526733000798, Precision 0.9881593896929542, Recall 0.9861111111111112\n",
      "Epoch 12 Batch 86: Loss 0.0056881229393184185, Accuracy 0.985828488372093, F1 0.9858857205484967, Precision 0.9878384303438806, Recall 0.985828488372093\n",
      "Epoch 12 Batch 91: Loss 0.006521493662148714, Accuracy 0.9855769230769231, F1 0.9856237157624852, Precision 0.9875703327883957, Recall 0.9855769230769231\n",
      "Epoch 12 Batch 96: Loss 0.2816242575645447, Accuracy 0.9856770833333334, F1 0.9857224506196175, Precision 0.9876782767651906, Recall 0.9856770833333334\n",
      "Epoch 12: Train Accuracy 0.9856902356902356, F1 0.9857112713691301, Precision 0.9877009328003643, Recall 0.9856902356902356\n"
     ]
    },
    {
     "name": "stderr",
     "output_type": "stream",
     "text": [
      "/tmp/ipykernel_238/3821735571.py:62: TqdmDeprecationWarning: This function will be removed in tqdm==5.0.0\n",
      "Please use `tqdm.notebook.tqdm` instead of `tqdm.tqdm_notebook`\n",
      "  for batch_id, (token_ids, _, segment_ids, label) in enumerate(tqdm_notebook(val_dataloader)):\n"
     ]
    },
    {
     "data": {
      "application/vnd.jupyter.widget-view+json": {
       "model_id": "5d612f2d80ba46d1b004f74bad054953",
       "version_major": 2,
       "version_minor": 0
      },
      "text/plain": [
       "  0%|          | 0/25 [00:00<?, ?it/s]"
      ]
     },
     "metadata": {},
     "output_type": "display_data"
    },
    {
     "name": "stdout",
     "output_type": "stream",
     "text": [
      "Epoch 12: Validation Accuracy 0.9002272727272727, F1 0.9003100643377092, Precision 0.909628427128427, Recall 0.9002272727272727\n"
     ]
    },
    {
     "name": "stderr",
     "output_type": "stream",
     "text": [
      "/tmp/ipykernel_238/3821735571.py:20: TqdmDeprecationWarning: This function will be removed in tqdm==5.0.0\n",
      "Please use `tqdm.notebook.tqdm` instead of `tqdm.tqdm_notebook`\n",
      "  for batch_id, (token_ids, _, segment_ids, label) in enumerate(tqdm_notebook(train_dataloader)):\n"
     ]
    },
    {
     "data": {
      "application/vnd.jupyter.widget-view+json": {
       "model_id": "a6df7dc82b8e4d2784c37bd29f715bf6",
       "version_major": 2,
       "version_minor": 0
      },
      "text/plain": [
       "  0%|          | 0/99 [00:00<?, ?it/s]"
      ]
     },
     "metadata": {},
     "output_type": "display_data"
    },
    {
     "name": "stdout",
     "output_type": "stream",
     "text": [
      "Epoch 13 Batch 1: Loss 0.01724999211728573, Accuracy 1.0, F1 1.0, Precision 1.0, Recall 1.0\n",
      "Epoch 13 Batch 6: Loss 0.009657745249569416, Accuracy 1.0, F1 1.0, Precision 1.0, Recall 1.0\n",
      "Epoch 13 Batch 11: Loss 0.006326827220618725, Accuracy 0.9971590909090909, F1 0.9971678862932734, Precision 0.9974747474747474, Recall 0.9971590909090909\n",
      "Epoch 13 Batch 16: Loss 0.2057117521762848, Accuracy 0.982421875, F1 0.9826958510845006, Precision 0.9850694444444444, Recall 0.982421875\n",
      "Epoch 13 Batch 21: Loss 0.004564217757433653, Accuracy 0.9851190476190477, F1 0.9852955814488382, Precision 0.9872715247715247, Recall 0.9851190476190477\n",
      "Epoch 13 Batch 26: Loss 0.005042287986725569, Accuracy 0.984375, F1 0.9845557413045256, Precision 0.9868346930846931, Recall 0.984375\n",
      "Epoch 13 Batch 31: Loss 0.005156075116246939, Accuracy 0.9858870967741935, F1 0.9860330388351501, Precision 0.9880417073965462, Recall 0.9858870967741935\n",
      "Epoch 13 Batch 36: Loss 0.15004947781562805, Accuracy 0.9869791666666666, F1 0.9870919789146304, Precision 0.9888965297819465, Recall 0.9869791666666666\n",
      "Epoch 13 Batch 41: Loss 0.00665506673976779, Accuracy 0.9878048780487805, F1 0.9879039327055291, Precision 0.9895577068595361, Recall 0.9878048780487805\n",
      "Epoch 13 Batch 46: Loss 0.004644586704671383, Accuracy 0.9891304347826086, F1 0.9892187226288413, Precision 0.9906927387226301, Recall 0.9891304347826086\n",
      "Epoch 13 Batch 51: Loss 0.19884085655212402, Accuracy 0.9871323529411765, F1 0.9871745681886545, Precision 0.9888323890162125, Recall 0.9871323529411765\n",
      "Epoch 13 Batch 56: Loss 0.004007259849458933, Accuracy 0.9877232142857143, F1 0.9877161907379479, Precision 0.9893113211193568, Recall 0.9877232142857143\n",
      "Epoch 13 Batch 61: Loss 0.003186869667842984, Accuracy 0.9882172131147541, F1 0.9882218539057622, Precision 0.9897605297707757, Recall 0.9882172131147541\n",
      "Epoch 13 Batch 66: Loss 0.08681432157754898, Accuracy 0.9872159090909091, F1 0.9871909846011566, Precision 0.9888581654561769, Recall 0.9872159090909091\n",
      "Epoch 13 Batch 71: Loss 0.003183990018442273, Accuracy 0.9881161971830986, F1 0.9880930279391034, Precision 0.9896428016916573, Recall 0.9881161971830986\n",
      "Epoch 13 Batch 76: Loss 0.004000511020421982, Accuracy 0.9884868421052632, F1 0.9884668096407361, Precision 0.9899644101329956, Recall 0.9884868421052632\n",
      "Epoch 13 Batch 81: Loss 0.0033369860611855984, Accuracy 0.9891975308641975, F1 0.9891787349715548, Precision 0.9905838909889836, Recall 0.9891975308641975\n",
      "Epoch 13 Batch 86: Loss 0.004027806222438812, Accuracy 0.9880087209302325, F1 0.9879866165385748, Precision 0.9896391842976144, Recall 0.9880087209302325\n",
      "Epoch 13 Batch 91: Loss 0.004748381208628416, Accuracy 0.9876373626373627, F1 0.9876100385751084, Precision 0.9892752660953209, Recall 0.9876373626373627\n",
      "Epoch 13 Batch 96: Loss 0.12290260195732117, Accuracy 0.9879557291666666, F1 0.9879352717248512, Precision 0.9895548281290468, Recall 0.9879557291666666\n",
      "Epoch 13: Train Accuracy 0.9883207070707071, F1 0.9883008695513708, Precision 0.9898713484887727, Recall 0.9883207070707071\n"
     ]
    },
    {
     "name": "stderr",
     "output_type": "stream",
     "text": [
      "/tmp/ipykernel_238/3821735571.py:62: TqdmDeprecationWarning: This function will be removed in tqdm==5.0.0\n",
      "Please use `tqdm.notebook.tqdm` instead of `tqdm.tqdm_notebook`\n",
      "  for batch_id, (token_ids, _, segment_ids, label) in enumerate(tqdm_notebook(val_dataloader)):\n"
     ]
    },
    {
     "data": {
      "application/vnd.jupyter.widget-view+json": {
       "model_id": "0a806b2e86eb4c07858606dd541b9924",
       "version_major": 2,
       "version_minor": 0
      },
      "text/plain": [
       "  0%|          | 0/25 [00:00<?, ?it/s]"
      ]
     },
     "metadata": {},
     "output_type": "display_data"
    },
    {
     "name": "stdout",
     "output_type": "stream",
     "text": [
      "Epoch 13: Validation Accuracy 0.8745454545454545, F1 0.8751268076086616, Precision 0.8922559072871573, Recall 0.8745454545454545\n"
     ]
    },
    {
     "name": "stderr",
     "output_type": "stream",
     "text": [
      "/tmp/ipykernel_238/3821735571.py:20: TqdmDeprecationWarning: This function will be removed in tqdm==5.0.0\n",
      "Please use `tqdm.notebook.tqdm` instead of `tqdm.tqdm_notebook`\n",
      "  for batch_id, (token_ids, _, segment_ids, label) in enumerate(tqdm_notebook(train_dataloader)):\n"
     ]
    },
    {
     "data": {
      "application/vnd.jupyter.widget-view+json": {
       "model_id": "af117d18eb96464b8dbbcb482365d568",
       "version_major": 2,
       "version_minor": 0
      },
      "text/plain": [
       "  0%|          | 0/99 [00:00<?, ?it/s]"
      ]
     },
     "metadata": {},
     "output_type": "display_data"
    },
    {
     "name": "stdout",
     "output_type": "stream",
     "text": [
      "Epoch 14 Batch 1: Loss 0.003301713615655899, Accuracy 1.0, F1 1.0, Precision 1.0, Recall 1.0\n",
      "Epoch 14 Batch 6: Loss 0.004743770696222782, Accuracy 1.0, F1 1.0, Precision 1.0, Recall 1.0\n",
      "Epoch 14 Batch 11: Loss 0.029932944104075432, Accuracy 0.9943181818181818, F1 0.9943428926594561, Precision 0.9949494949494948, Recall 0.9943181818181818\n",
      "Epoch 14 Batch 16: Loss 0.005829473491758108, Accuracy 0.9921875, F1 0.9921581695334156, Precision 0.9929470486111109, Recall 0.9921875\n",
      "Epoch 14 Batch 21: Loss 0.037990931421518326, Accuracy 0.9910714285714286, F1 0.990966549634439, Precision 0.9919094215969215, Recall 0.9910714285714286\n",
      "Epoch 14 Batch 26: Loss 0.2752397656440735, Accuracy 0.9891826923076923, F1 0.9891252615532853, Precision 0.9903670114607614, Recall 0.9891826923076923\n",
      "Epoch 14 Batch 31: Loss 0.004985098727047443, Accuracy 0.9899193548387096, F1 0.9898935885428988, Precision 0.9911142676767677, Recall 0.9899193548387096\n",
      "Epoch 14 Batch 36: Loss 0.003488728776574135, Accuracy 0.9913194444444444, F1 0.9912972568008295, Precision 0.9923483971661055, Recall 0.9913194444444444\n",
      "Epoch 14 Batch 41: Loss 0.0038965176790952682, Accuracy 0.9923780487804879, F1 0.9923585669470698, Precision 0.9932815194629219, Recall 0.9923780487804879\n",
      "Epoch 14 Batch 46: Loss 0.003173143370077014, Accuracy 0.9932065217391305, F1 0.9931891574963013, Precision 0.9940117890865173, Recall 0.9932065217391305\n",
      "Epoch 14 Batch 51: Loss 0.03182763233780861, Accuracy 0.9920343137254902, F1 0.9920186518594091, Precision 0.9929969778315365, Recall 0.9920343137254902\n",
      "Epoch 14 Batch 56: Loss 0.004006688017398119, Accuracy 0.9927455357142857, F1 0.9927312722291047, Precision 0.9936222476680064, Recall 0.9927455357142857\n",
      "Epoch 14 Batch 61: Loss 0.003131470875814557, Accuracy 0.992827868852459, F1 0.9928258631435455, Precision 0.9937181016842901, Recall 0.992827868852459\n",
      "Epoch 14 Batch 66: Loss 0.003915250767022371, Accuracy 0.9928977272727273, F1 0.9928958735114586, Precision 0.9937797038294196, Recall 0.9928977272727273\n",
      "Epoch 14 Batch 71: Loss 0.0024610795080661774, Accuracy 0.9933978873239436, F1 0.9933961641092431, Precision 0.9942177528555167, Recall 0.9933978873239436\n",
      "Epoch 14 Batch 76: Loss 0.002403464401140809, Accuracy 0.9938322368421053, F1 0.9938306269967929, Precision 0.9945981638518644, Recall 0.9938322368421053\n",
      "Epoch 14 Batch 81: Loss 0.021878724917769432, Accuracy 0.9938271604938271, F1 0.9938226899004357, Precision 0.9945779582643007, Recall 0.9938271604938271\n",
      "Epoch 14 Batch 86: Loss 0.0027312489692121744, Accuracy 0.9934593023255814, F1 0.9934236123567901, Precision 0.9942471984168932, Recall 0.9934593023255814\n",
      "Epoch 14 Batch 91: Loss 0.0033045723102986813, Accuracy 0.9931318681318682, F1 0.9930978556361576, Precision 0.9939527858054645, Recall 0.9931318681318682\n",
      "Epoch 14 Batch 96: Loss 0.3931487202644348, Accuracy 0.9925130208333334, F1 0.9924884743286708, Precision 0.9933858793477935, Recall 0.9925130208333334\n",
      "Epoch 14: Train Accuracy 0.9924242424242424, F1 0.9924125338743441, Precision 0.9933337819938199, Recall 0.9924242424242424\n"
     ]
    },
    {
     "name": "stderr",
     "output_type": "stream",
     "text": [
      "/tmp/ipykernel_238/3821735571.py:62: TqdmDeprecationWarning: This function will be removed in tqdm==5.0.0\n",
      "Please use `tqdm.notebook.tqdm` instead of `tqdm.tqdm_notebook`\n",
      "  for batch_id, (token_ids, _, segment_ids, label) in enumerate(tqdm_notebook(val_dataloader)):\n"
     ]
    },
    {
     "data": {
      "application/vnd.jupyter.widget-view+json": {
       "model_id": "3acc5eafe77b4f90813885db05ced603",
       "version_major": 2,
       "version_minor": 0
      },
      "text/plain": [
       "  0%|          | 0/25 [00:00<?, ?it/s]"
      ]
     },
     "metadata": {},
     "output_type": "display_data"
    },
    {
     "name": "stdout",
     "output_type": "stream",
     "text": [
      "Epoch 14: Validation Accuracy 0.9027272727272727, F1 0.9037855233372007, Precision 0.9160473033910534, Recall 0.9027272727272727\n"
     ]
    },
    {
     "name": "stderr",
     "output_type": "stream",
     "text": [
      "/tmp/ipykernel_238/3821735571.py:20: TqdmDeprecationWarning: This function will be removed in tqdm==5.0.0\n",
      "Please use `tqdm.notebook.tqdm` instead of `tqdm.tqdm_notebook`\n",
      "  for batch_id, (token_ids, _, segment_ids, label) in enumerate(tqdm_notebook(train_dataloader)):\n"
     ]
    },
    {
     "data": {
      "application/vnd.jupyter.widget-view+json": {
       "model_id": "ac30124bf4024752bc868eebeb14482f",
       "version_major": 2,
       "version_minor": 0
      },
      "text/plain": [
       "  0%|          | 0/99 [00:00<?, ?it/s]"
      ]
     },
     "metadata": {},
     "output_type": "display_data"
    },
    {
     "name": "stdout",
     "output_type": "stream",
     "text": [
      "Epoch 15 Batch 1: Loss 0.003865945851430297, Accuracy 1.0, F1 1.0, Precision 1.0, Recall 1.0\n",
      "Epoch 15 Batch 6: Loss 0.003935820423066616, Accuracy 1.0, F1 1.0, Precision 1.0, Recall 1.0\n",
      "Epoch 15 Batch 11: Loss 0.0039923121221363544, Accuracy 0.9971590909090909, F1 0.9971678862932734, Precision 0.9974747474747474, Recall 0.9971590909090909\n",
      "Epoch 15 Batch 16: Loss 0.19322463870048523, Accuracy 0.9921875, F1 0.992197516025641, Precision 0.9930416046626984, Recall 0.9921875\n",
      "Epoch 15 Batch 21: Loss 0.006538318004459143, Accuracy 0.9925595238095238, F1 0.9925349452135166, Precision 0.9933455516044802, Recall 0.9925595238095238\n",
      "Epoch 15 Batch 26: Loss 0.0032861630897969007, Accuracy 0.9927884615384616, F1 0.9927716219340712, Precision 0.9935435224497725, Recall 0.9927884615384616\n",
      "Epoch 15 Batch 31: Loss 0.004174571949988604, Accuracy 0.9939516129032258, F1 0.9939374893640598, Precision 0.9945848897965834, Recall 0.9939516129032258\n",
      "Epoch 15 Batch 36: Loss 0.002271883189678192, Accuracy 0.9939236111111112, F1 0.9939069976076556, Precision 0.9945774398248357, Recall 0.9939236111111112\n",
      "Epoch 15 Batch 41: Loss 0.0029695823322981596, Accuracy 0.9939024390243902, F1 0.9938908405584197, Precision 0.994571806919368, Recall 0.9939024390243902\n",
      "Epoch 15 Batch 46: Loss 0.0020300298929214478, Accuracy 0.9945652173913043, F1 0.9945548796281567, Precision 0.9951618279063932, Recall 0.9945652173913043\n",
      "Epoch 15 Batch 51: Loss 0.004463914316147566, Accuracy 0.9944852941176471, F1 0.994468527612536, Precision 0.9950846879155703, Recall 0.9944852941176471\n",
      "Epoch 15 Batch 56: Loss 0.0023944382555782795, Accuracy 0.9944196428571429, F1 0.9944321018441141, Precision 0.9951050282802515, Recall 0.9944196428571429\n",
      "Epoch 15 Batch 61: Loss 0.0023376999888569117, Accuracy 0.9943647540983607, F1 0.9943797743399824, Precision 0.9950793429020888, Recall 0.9943647540983607\n",
      "Epoch 15 Batch 66: Loss 0.002755116205662489, Accuracy 0.9947916666666666, F1 0.9948055490111958, Precision 0.9954521199549609, Recall 0.9947916666666666\n",
      "Epoch 15 Batch 71: Loss 0.0019770420622080564, Accuracy 0.9951584507042254, F1 0.995171355418858, Precision 0.9957723931975693, Recall 0.9951584507042254\n",
      "Epoch 15 Batch 76: Loss 0.00256892922334373, Accuracy 0.9954769736842105, F1 0.9954890294044595, Precision 0.996050525224045, Recall 0.9954769736842105\n",
      "Epoch 15 Batch 81: Loss 0.0020503224804997444, Accuracy 0.9953703703703703, F1 0.995381681910357, Precision 0.9959470977410793, Recall 0.9953703703703703\n",
      "Epoch 15 Batch 86: Loss 0.0023330727126449347, Accuracy 0.9952761627906976, F1 0.9952809871841922, Precision 0.9958597341773214, Recall 0.9952761627906976\n",
      "Epoch 15 Batch 91: Loss 0.0033453786745667458, Accuracy 0.9948489010989011, F1 0.9948494360890503, Precision 0.995463093454165, Recall 0.9948489010989011\n",
      "Epoch 15 Batch 96: Loss 0.14046497642993927, Accuracy 0.9947916666666666, F1 0.9948031817436312, Precision 0.9954389740034272, Recall 0.9947916666666666\n",
      "Epoch 15: Train Accuracy 0.9949494949494949, F1 0.9949606610847332, Precision 0.9955771869124141, Recall 0.9949494949494949\n"
     ]
    },
    {
     "name": "stderr",
     "output_type": "stream",
     "text": [
      "/tmp/ipykernel_238/3821735571.py:62: TqdmDeprecationWarning: This function will be removed in tqdm==5.0.0\n",
      "Please use `tqdm.notebook.tqdm` instead of `tqdm.tqdm_notebook`\n",
      "  for batch_id, (token_ids, _, segment_ids, label) in enumerate(tqdm_notebook(val_dataloader)):\n"
     ]
    },
    {
     "data": {
      "application/vnd.jupyter.widget-view+json": {
       "model_id": "c779c9482d5c463d8cdb1c9e8c1aeab0",
       "version_major": 2,
       "version_minor": 0
      },
      "text/plain": [
       "  0%|          | 0/25 [00:00<?, ?it/s]"
      ]
     },
     "metadata": {},
     "output_type": "display_data"
    },
    {
     "name": "stdout",
     "output_type": "stream",
     "text": [
      "Epoch 15: Validation Accuracy 0.8852272727272726, F1 0.8865641575209652, Precision 0.9002615891053389, Recall 0.8852272727272726\n"
     ]
    },
    {
     "name": "stderr",
     "output_type": "stream",
     "text": [
      "/tmp/ipykernel_238/3821735571.py:20: TqdmDeprecationWarning: This function will be removed in tqdm==5.0.0\n",
      "Please use `tqdm.notebook.tqdm` instead of `tqdm.tqdm_notebook`\n",
      "  for batch_id, (token_ids, _, segment_ids, label) in enumerate(tqdm_notebook(train_dataloader)):\n"
     ]
    },
    {
     "data": {
      "application/vnd.jupyter.widget-view+json": {
       "model_id": "09391ef4601e410585fb0dd6c4338206",
       "version_major": 2,
       "version_minor": 0
      },
      "text/plain": [
       "  0%|          | 0/99 [00:00<?, ?it/s]"
      ]
     },
     "metadata": {},
     "output_type": "display_data"
    },
    {
     "name": "stdout",
     "output_type": "stream",
     "text": [
      "Epoch 16 Batch 1: Loss 0.004289783071726561, Accuracy 1.0, F1 1.0, Precision 1.0, Recall 1.0\n",
      "Epoch 16 Batch 6: Loss 0.006229565013200045, Accuracy 0.9947916666666666, F1 0.9949151844532279, Precision 0.9956597222222223, Recall 0.9947916666666666\n",
      "Epoch 16 Batch 11: Loss 0.005795883946120739, Accuracy 0.9971590909090909, F1 0.9972264642472152, Precision 0.9976325757575758, Recall 0.9971590909090909\n",
      "Epoch 16 Batch 16: Loss 0.005176091101020575, Accuracy 0.99609375, F1 0.9961400691699605, Precision 0.99658203125, Recall 0.99609375\n",
      "Epoch 16 Batch 21: Loss 0.0038313057739287615, Accuracy 0.9940476190476191, F1 0.994103610043051, Precision 0.9948525432900434, Recall 0.9940476190476191\n",
      "Epoch 16 Batch 26: Loss 0.0026343390345573425, Accuracy 0.9939903846153846, F1 0.9940737643998514, Precision 0.9948809003496505, Recall 0.9939903846153846\n",
      "Epoch 16 Batch 31: Loss 0.0038606906309723854, Accuracy 0.9939516129032258, F1 0.994033232039894, Precision 0.994824505131965, Recall 0.9939516129032258\n",
      "Epoch 16 Batch 36: Loss 0.0022655248176306486, Accuracy 0.9947916666666666, F1 0.9948619498121309, Precision 0.9955433238636364, Recall 0.9947916666666666\n",
      "Epoch 16 Batch 41: Loss 0.002779273549094796, Accuracy 0.9954268292682927, F1 0.9954885412984564, Precision 0.9960868209534368, Recall 0.9954268292682927\n",
      "Epoch 16 Batch 46: Loss 0.001832496258430183, Accuracy 0.9959239130434783, F1 0.9959789172442765, Precision 0.9965121665019763, Recall 0.9959239130434783\n",
      "Epoch 16 Batch 51: Loss 0.002013612538576126, Accuracy 0.9957107843137255, F1 0.9957529536976636, Precision 0.9963026403743315, Recall 0.9957107843137255\n",
      "Epoch 16 Batch 56: Loss 0.0019891783595085144, Accuracy 0.99609375, F1 0.9961321542603722, Precision 0.9966327617694805, Recall 0.99609375\n",
      "Epoch 16 Batch 61: Loss 0.0018487488850951195, Accuracy 0.9964139344262295, F1 0.9964491907964073, Precision 0.9969087649031296, Recall 0.9964139344262295\n",
      "Epoch 16 Batch 66: Loss 0.002049232367426157, Accuracy 0.9966856060606061, F1 0.9967181914936492, Precision 0.9971429493801652, Recall 0.9966856060606061\n",
      "Epoch 16 Batch 71: Loss 0.018456747755408287, Accuracy 0.996919014084507, F1 0.9969493047687443, Precision 0.9973441501280409, Recall 0.996919014084507\n",
      "Epoch 16 Batch 76: Loss 0.1614370048046112, Accuracy 0.9967105263157895, F1 0.9967242043088123, Precision 0.9971393224374309, Recall 0.9967105263157895\n",
      "Epoch 16 Batch 81: Loss 0.0015564172063022852, Accuracy 0.9969135802469136, F1 0.9969264139193794, Precision 0.9973159074721574, Recall 0.9969135802469136\n",
      "Epoch 16 Batch 86: Loss 0.0028666036669164896, Accuracy 0.9967296511627907, F1 0.99673590919269, Precision 0.9971489619472904, Recall 0.9967296511627907\n",
      "Epoch 16 Batch 91: Loss 0.00217002653516829, Accuracy 0.9965659340659341, F1 0.9965729114263444, Precision 0.9970003620844967, Recall 0.9965659340659341\n",
      "Epoch 16 Batch 96: Loss 0.17850889265537262, Accuracy 0.9964192708333334, F1 0.9964368927404412, Precision 0.9968961765592624, Recall 0.9964192708333334\n",
      "Epoch 16: Train Accuracy 0.9965277777777778, F1 0.9965448656877006, Precision 0.9969902318150424, Recall 0.9965277777777778\n"
     ]
    },
    {
     "name": "stderr",
     "output_type": "stream",
     "text": [
      "/tmp/ipykernel_238/3821735571.py:62: TqdmDeprecationWarning: This function will be removed in tqdm==5.0.0\n",
      "Please use `tqdm.notebook.tqdm` instead of `tqdm.tqdm_notebook`\n",
      "  for batch_id, (token_ids, _, segment_ids, label) in enumerate(tqdm_notebook(val_dataloader)):\n"
     ]
    },
    {
     "data": {
      "application/vnd.jupyter.widget-view+json": {
       "model_id": "81f5f61bde6f4083be6524fd0866b6ef",
       "version_major": 2,
       "version_minor": 0
      },
      "text/plain": [
       "  0%|          | 0/25 [00:00<?, ?it/s]"
      ]
     },
     "metadata": {},
     "output_type": "display_data"
    },
    {
     "name": "stdout",
     "output_type": "stream",
     "text": [
      "Epoch 16: Validation Accuracy 0.9002272727272727, F1 0.9009980498923162, Precision 0.9124758748196246, Recall 0.9002272727272727\n"
     ]
    },
    {
     "name": "stderr",
     "output_type": "stream",
     "text": [
      "/tmp/ipykernel_238/3821735571.py:20: TqdmDeprecationWarning: This function will be removed in tqdm==5.0.0\n",
      "Please use `tqdm.notebook.tqdm` instead of `tqdm.tqdm_notebook`\n",
      "  for batch_id, (token_ids, _, segment_ids, label) in enumerate(tqdm_notebook(train_dataloader)):\n"
     ]
    },
    {
     "data": {
      "application/vnd.jupyter.widget-view+json": {
       "model_id": "31d6cea18f9f4eabad26b6fc65363e3d",
       "version_major": 2,
       "version_minor": 0
      },
      "text/plain": [
       "  0%|          | 0/99 [00:00<?, ?it/s]"
      ]
     },
     "metadata": {},
     "output_type": "display_data"
    },
    {
     "name": "stdout",
     "output_type": "stream",
     "text": [
      "Epoch 17 Batch 1: Loss 0.0022910486441105604, Accuracy 1.0, F1 1.0, Precision 1.0, Recall 1.0\n",
      "Epoch 17 Batch 6: Loss 0.003144658636301756, Accuracy 1.0, F1 1.0, Precision 1.0, Recall 1.0\n",
      "Epoch 17 Batch 11: Loss 0.0030692436266690493, Accuracy 1.0, F1 1.0, Precision 1.0, Recall 1.0\n",
      "Epoch 17 Batch 16: Loss 0.0042020175606012344, Accuracy 0.998046875, F1 0.998046875, Precision 0.9982096354166666, Recall 0.998046875\n",
      "Epoch 17 Batch 21: Loss 0.003982301335781813, Accuracy 0.9985119047619048, F1 0.9985119047619048, Precision 0.9986359126984126, Recall 0.9985119047619048\n",
      "Epoch 17 Batch 26: Loss 0.0022456550505012274, Accuracy 0.9987980769230769, F1 0.9987980769230769, Precision 0.9988982371794871, Recall 0.9987980769230769\n",
      "Epoch 17 Batch 31: Loss 0.0040951082482934, Accuracy 0.998991935483871, F1 0.998991935483871, Precision 0.999075940860215, Recall 0.998991935483871\n",
      "Epoch 17 Batch 36: Loss 0.0016115157632157207, Accuracy 0.9991319444444444, F1 0.9991319444444444, Precision 0.9992042824074073, Recall 0.9991319444444444\n",
      "Epoch 17 Batch 41: Loss 0.002890446223318577, Accuracy 0.9992378048780488, F1 0.9992378048780488, Precision 0.9993013211382114, Recall 0.9992378048780488\n",
      "Epoch 17 Batch 46: Loss 0.0015962602337822318, Accuracy 0.9993206521739131, F1 0.9993206521739131, Precision 0.9993772644927535, Recall 0.9993206521739131\n",
      "Epoch 17 Batch 51: Loss 0.0019724855665117502, Accuracy 0.9987745098039216, F1 0.9987670675557672, Precision 0.9988868464052286, Recall 0.9987745098039216\n",
      "Epoch 17 Batch 56: Loss 0.0017726060468703508, Accuracy 0.9988839285714286, F1 0.9988771508097166, Precision 0.9989862351190475, Recall 0.9988839285714286\n",
      "Epoch 17 Batch 61: Loss 0.0016189508605748415, Accuracy 0.9989754098360656, F1 0.9989691876285922, Precision 0.9990693306010928, Recall 0.9989754098360656\n",
      "Epoch 17 Batch 66: Loss 0.0015484887408092618, Accuracy 0.9990530303030303, F1 0.9990472794749111, Precision 0.9991398358585859, Recall 0.9990530303030303\n",
      "Epoch 17 Batch 71: Loss 0.003527852473780513, Accuracy 0.9986795774647887, F1 0.9986719744920265, Precision 0.9988152875586854, Recall 0.9986795774647887\n",
      "Epoch 17 Batch 76: Loss 0.0015090556116774678, Accuracy 0.998766447368421, F1 0.9987593445912353, Precision 0.9988932291666667, Recall 0.998766447368421\n",
      "Epoch 17 Batch 81: Loss 0.0014282554620876908, Accuracy 0.9984567901234568, F1 0.9984557785727377, Precision 0.9986308605232217, Recall 0.9984567901234568\n",
      "Epoch 17 Batch 86: Loss 0.0017503023846074939, Accuracy 0.9981831395348837, F1 0.9981763572964344, Precision 0.9983874642395719, Recall 0.9981831395348837\n",
      "Epoch 17 Batch 91: Loss 0.001965973526239395, Accuracy 0.9979395604395604, F1 0.9979322901834214, Precision 0.9981638772933417, Recall 0.9979395604395604\n",
      "Epoch 17 Batch 96: Loss 0.10018692910671234, Accuracy 0.9973958333333334, F1 0.9973565469094762, Precision 0.9977142612884801, Recall 0.9973958333333334\n",
      "Epoch 17: Train Accuracy 0.997053872053872, F1 0.9969877177663158, Precision 0.9974152601046542, Recall 0.997053872053872\n"
     ]
    },
    {
     "name": "stderr",
     "output_type": "stream",
     "text": [
      "/tmp/ipykernel_238/3821735571.py:62: TqdmDeprecationWarning: This function will be removed in tqdm==5.0.0\n",
      "Please use `tqdm.notebook.tqdm` instead of `tqdm.tqdm_notebook`\n",
      "  for batch_id, (token_ids, _, segment_ids, label) in enumerate(tqdm_notebook(val_dataloader)):\n"
     ]
    },
    {
     "data": {
      "application/vnd.jupyter.widget-view+json": {
       "model_id": "107e4270c8154399bc850c60298acbee",
       "version_major": 2,
       "version_minor": 0
      },
      "text/plain": [
       "  0%|          | 0/25 [00:00<?, ?it/s]"
      ]
     },
     "metadata": {},
     "output_type": "display_data"
    },
    {
     "name": "stdout",
     "output_type": "stream",
     "text": [
      "Epoch 17: Validation Accuracy 0.8914772727272726, F1 0.892687380046148, Precision 0.905941964285714, Recall 0.8914772727272726\n"
     ]
    },
    {
     "name": "stderr",
     "output_type": "stream",
     "text": [
      "/tmp/ipykernel_238/3821735571.py:20: TqdmDeprecationWarning: This function will be removed in tqdm==5.0.0\n",
      "Please use `tqdm.notebook.tqdm` instead of `tqdm.tqdm_notebook`\n",
      "  for batch_id, (token_ids, _, segment_ids, label) in enumerate(tqdm_notebook(train_dataloader)):\n"
     ]
    },
    {
     "data": {
      "application/vnd.jupyter.widget-view+json": {
       "model_id": "87149ad2b2c848d38cdad770fea66896",
       "version_major": 2,
       "version_minor": 0
      },
      "text/plain": [
       "  0%|          | 0/99 [00:00<?, ?it/s]"
      ]
     },
     "metadata": {},
     "output_type": "display_data"
    },
    {
     "name": "stdout",
     "output_type": "stream",
     "text": [
      "Epoch 18 Batch 1: Loss 0.002050694078207016, Accuracy 1.0, F1 1.0, Precision 1.0, Recall 1.0\n",
      "Epoch 18 Batch 6: Loss 0.002812681719660759, Accuracy 1.0, F1 1.0, Precision 1.0, Recall 1.0\n",
      "Epoch 18 Batch 11: Loss 0.0019519911147654057, Accuracy 1.0, F1 1.0, Precision 1.0, Recall 1.0\n",
      "Epoch 18 Batch 16: Loss 0.00880537647753954, Accuracy 0.998046875, F1 0.998046875, Precision 0.9982096354166666, Recall 0.998046875\n",
      "Epoch 18 Batch 21: Loss 0.0023653784301131964, Accuracy 0.9985119047619048, F1 0.9985119047619048, Precision 0.9986359126984126, Recall 0.9985119047619048\n",
      "Epoch 18 Batch 26: Loss 0.0014568825718015432, Accuracy 0.9987980769230769, F1 0.9987980769230769, Precision 0.9988982371794871, Recall 0.9987980769230769\n",
      "Epoch 18 Batch 31: Loss 0.0024620292242616415, Accuracy 0.998991935483871, F1 0.998991935483871, Precision 0.999075940860215, Recall 0.998991935483871\n",
      "Epoch 18 Batch 36: Loss 0.0012163373176008463, Accuracy 0.9991319444444444, F1 0.9991319444444444, Precision 0.9992042824074073, Recall 0.9991319444444444\n",
      "Epoch 18 Batch 41: Loss 0.0017929882742464542, Accuracy 0.9992378048780488, F1 0.9992378048780488, Precision 0.9993013211382114, Recall 0.9992378048780488\n",
      "Epoch 18 Batch 46: Loss 0.00121195032261312, Accuracy 0.9993206521739131, F1 0.9993206521739131, Precision 0.9993772644927535, Recall 0.9993206521739131\n",
      "Epoch 18 Batch 51: Loss 0.0012495812261477113, Accuracy 0.9993872549019608, F1 0.9993872549019608, Precision 0.999438316993464, Recall 0.9993872549019608\n",
      "Epoch 18 Batch 56: Loss 0.001341158291324973, Accuracy 0.9994419642857143, F1 0.9994419642857143, Precision 0.9994884672619048, Recall 0.9994419642857143\n",
      "Epoch 18 Batch 61: Loss 0.0011552751529961824, Accuracy 0.9994877049180327, F1 0.9994877049180327, Precision 0.9995303961748634, Recall 0.9994877049180327\n",
      "Epoch 18 Batch 66: Loss 0.001315839821472764, Accuracy 0.9995265151515151, F1 0.9995265151515151, Precision 0.9995659722222221, Recall 0.9995265151515151\n",
      "Epoch 18 Batch 71: Loss 0.0010437008459120989, Accuracy 0.9995598591549296, F1 0.9995598591549296, Precision 0.9995965375586853, Recall 0.9995598591549296\n",
      "Epoch 18 Batch 76: Loss 0.001154763507656753, Accuracy 0.9995888157894737, F1 0.9995888157894737, Precision 0.9996230811403507, Recall 0.9995888157894737\n",
      "Epoch 18 Batch 81: Loss 0.0011220017913728952, Accuracy 0.9996141975308642, F1 0.9996141975308642, Precision 0.9996463477366254, Recall 0.9996141975308642\n",
      "Epoch 18 Batch 86: Loss 0.0013863734202459455, Accuracy 0.9992732558139535, F1 0.9992646382939607, Precision 0.9993338178294573, Recall 0.9992732558139535\n",
      "Epoch 18 Batch 91: Loss 0.0013751640217378736, Accuracy 0.9989697802197802, F1 0.9989626993682047, Precision 0.999065170940171, Recall 0.9989697802197802\n",
      "Epoch 18 Batch 96: Loss 0.07533775269985199, Accuracy 0.9986979166666666, F1 0.9987022125603296, Precision 0.998853443287037, Recall 0.9986979166666666\n",
      "Epoch 18: Train Accuracy 0.9987373737373737, F1 0.9987415394524409, Precision 0.9988881874298541, Recall 0.9987373737373737\n"
     ]
    },
    {
     "name": "stderr",
     "output_type": "stream",
     "text": [
      "/tmp/ipykernel_238/3821735571.py:62: TqdmDeprecationWarning: This function will be removed in tqdm==5.0.0\n",
      "Please use `tqdm.notebook.tqdm` instead of `tqdm.tqdm_notebook`\n",
      "  for batch_id, (token_ids, _, segment_ids, label) in enumerate(tqdm_notebook(val_dataloader)):\n"
     ]
    },
    {
     "data": {
      "application/vnd.jupyter.widget-view+json": {
       "model_id": "4a1a73be9d694734bc6e4aa1ee573e79",
       "version_major": 2,
       "version_minor": 0
      },
      "text/plain": [
       "  0%|          | 0/25 [00:00<?, ?it/s]"
      ]
     },
     "metadata": {},
     "output_type": "display_data"
    },
    {
     "name": "stdout",
     "output_type": "stream",
     "text": [
      "Epoch 18: Validation Accuracy 0.9002272727272727, F1 0.9001630208760558, Precision 0.9127204982517482, Recall 0.9002272727272727\n"
     ]
    },
    {
     "name": "stderr",
     "output_type": "stream",
     "text": [
      "/tmp/ipykernel_238/3821735571.py:20: TqdmDeprecationWarning: This function will be removed in tqdm==5.0.0\n",
      "Please use `tqdm.notebook.tqdm` instead of `tqdm.tqdm_notebook`\n",
      "  for batch_id, (token_ids, _, segment_ids, label) in enumerate(tqdm_notebook(train_dataloader)):\n"
     ]
    },
    {
     "data": {
      "application/vnd.jupyter.widget-view+json": {
       "model_id": "ccbc33774e9f4b81b412fddf026bbf80",
       "version_major": 2,
       "version_minor": 0
      },
      "text/plain": [
       "  0%|          | 0/99 [00:00<?, ?it/s]"
      ]
     },
     "metadata": {},
     "output_type": "display_data"
    },
    {
     "name": "stdout",
     "output_type": "stream",
     "text": [
      "Epoch 19 Batch 1: Loss 0.0013395954156294465, Accuracy 1.0, F1 1.0, Precision 1.0, Recall 1.0\n",
      "Epoch 19 Batch 6: Loss 0.002924536354839802, Accuracy 0.9947916666666666, F1 0.9948752228163992, Precision 0.9956597222222223, Recall 0.9947916666666666\n",
      "Epoch 19 Batch 11: Loss 0.001385713228955865, Accuracy 0.9971590909090909, F1 0.9972046669907632, Precision 0.9976325757575758, Recall 0.9971590909090909\n",
      "Epoch 19 Batch 16: Loss 0.0016443004133179784, Accuracy 0.998046875, F1 0.9980782085561497, Precision 0.9983723958333334, Recall 0.998046875\n",
      "Epoch 19 Batch 21: Loss 0.001592018874362111, Accuracy 0.9985119047619048, F1 0.9985357779475427, Precision 0.9987599206349207, Recall 0.9985119047619048\n",
      "Epoch 19 Batch 26: Loss 0.001353435916826129, Accuracy 0.9987980769230769, F1 0.9988173591114767, Precision 0.9989983974358976, Recall 0.9987980769230769\n",
      "Epoch 19 Batch 31: Loss 0.0016257576644420624, Accuracy 0.998991935483871, F1 0.9990081076418837, Precision 0.9991599462365592, Recall 0.998991935483871\n",
      "Epoch 19 Batch 36: Loss 0.0010569620644673705, Accuracy 0.9991319444444444, F1 0.9991458704693998, Precision 0.9992766203703705, Recall 0.9991319444444444\n",
      "Epoch 19 Batch 41: Loss 0.0020803131628781557, Accuracy 0.9992378048780488, F1 0.999250032607278, Precision 0.999364837398374, Recall 0.9992378048780488\n",
      "Epoch 19 Batch 46: Loss 0.0016326492186635733, Accuracy 0.998641304347826, F1 0.9986495388669302, Precision 0.9988300120772947, Recall 0.998641304347826\n",
      "Epoch 19 Batch 51: Loss 0.0012393724173307419, Accuracy 0.9981617647058824, F1 0.9981569719314818, Precision 0.9983757391845628, Recall 0.9981617647058824\n",
      "Epoch 19 Batch 56: Loss 0.0012075004633516073, Accuracy 0.9977678571428571, F1 0.997766354016354, Precision 0.9980424461451248, Recall 0.9977678571428571\n",
      "Epoch 19 Batch 61: Loss 0.0010551982559263706, Accuracy 0.9979508196721312, F1 0.9979494397527184, Precision 0.9982029013791309, Recall 0.9979508196721312\n",
      "Epoch 19 Batch 66: Loss 0.0012508743675425649, Accuracy 0.9981060606060606, F1 0.9981047852259974, Precision 0.9983390452140453, Recall 0.9981060606060606\n",
      "Epoch 19 Batch 71: Loss 0.001035984605550766, Accuracy 0.9982394366197183, F1 0.9982382510551525, Precision 0.9984560138609435, Recall 0.9982394366197183\n",
      "Epoch 19 Batch 76: Loss 0.001133918296545744, Accuracy 0.9983552631578947, F1 0.9983541555909978, Precision 0.9985575918964077, Recall 0.9983552631578947\n",
      "Epoch 19 Batch 81: Loss 0.0011076998198404908, Accuracy 0.9984567901234568, F1 0.9984557509248868, Precision 0.9986466294336666, Recall 0.9984567901234568\n",
      "Epoch 19 Batch 86: Loss 0.0013088687555864453, Accuracy 0.9981831395348837, F1 0.9981735432348425, Precision 0.9983922226836472, Recall 0.9981831395348837\n",
      "Epoch 19 Batch 91: Loss 0.0012010978534817696, Accuracy 0.9979395604395604, F1 0.99793155458706, Precision 0.9981753117913834, Recall 0.9979395604395604\n",
      "Epoch 19 Batch 96: Loss 0.06943859159946442, Accuracy 0.9977213541666666, F1 0.9977192087778469, Precision 0.9979913297784394, Recall 0.9977213541666666\n",
      "Epoch 19: Train Accuracy 0.9977904040404041, F1 0.9977883236633667, Precision 0.9980521985730321, Recall 0.9977904040404041\n"
     ]
    },
    {
     "name": "stderr",
     "output_type": "stream",
     "text": [
      "/tmp/ipykernel_238/3821735571.py:62: TqdmDeprecationWarning: This function will be removed in tqdm==5.0.0\n",
      "Please use `tqdm.notebook.tqdm` instead of `tqdm.tqdm_notebook`\n",
      "  for batch_id, (token_ids, _, segment_ids, label) in enumerate(tqdm_notebook(val_dataloader)):\n"
     ]
    },
    {
     "data": {
      "application/vnd.jupyter.widget-view+json": {
       "model_id": "acf52f91bc2149908f0d8e2fd4d6d0ec",
       "version_major": 2,
       "version_minor": 0
      },
      "text/plain": [
       "  0%|          | 0/25 [00:00<?, ?it/s]"
      ]
     },
     "metadata": {},
     "output_type": "display_data"
    },
    {
     "name": "stdout",
     "output_type": "stream",
     "text": [
      "Epoch 19: Validation Accuracy 0.8977272727272727, F1 0.8974104202503677, Precision 0.9099233856421357, Recall 0.8977272727272727\n"
     ]
    },
    {
     "name": "stderr",
     "output_type": "stream",
     "text": [
      "/tmp/ipykernel_238/3821735571.py:20: TqdmDeprecationWarning: This function will be removed in tqdm==5.0.0\n",
      "Please use `tqdm.notebook.tqdm` instead of `tqdm.tqdm_notebook`\n",
      "  for batch_id, (token_ids, _, segment_ids, label) in enumerate(tqdm_notebook(train_dataloader)):\n"
     ]
    },
    {
     "data": {
      "application/vnd.jupyter.widget-view+json": {
       "model_id": "4e6c6ff9ac724f0d94695dc8cde58d7c",
       "version_major": 2,
       "version_minor": 0
      },
      "text/plain": [
       "  0%|          | 0/99 [00:00<?, ?it/s]"
      ]
     },
     "metadata": {},
     "output_type": "display_data"
    },
    {
     "name": "stdout",
     "output_type": "stream",
     "text": [
      "Epoch 20 Batch 1: Loss 0.0010945781832560897, Accuracy 1.0, F1 1.0, Precision 1.0, Recall 1.0\n",
      "Epoch 20 Batch 6: Loss 0.0013532205484807491, Accuracy 1.0, F1 1.0, Precision 1.0, Recall 1.0\n",
      "Epoch 20 Batch 11: Loss 0.001206864370033145, Accuracy 1.0, F1 1.0, Precision 1.0, Recall 1.0\n",
      "Epoch 20 Batch 16: Loss 0.0013440247857943177, Accuracy 1.0, F1 1.0, Precision 1.0, Recall 1.0\n",
      "Epoch 20 Batch 21: Loss 0.001470243907533586, Accuracy 1.0, F1 1.0, Precision 1.0, Recall 1.0\n",
      "Epoch 20 Batch 26: Loss 0.0011410514125600457, Accuracy 1.0, F1 1.0, Precision 1.0, Recall 1.0\n",
      "Epoch 20 Batch 31: Loss 0.0014030818128958344, Accuracy 1.0, F1 1.0, Precision 1.0, Recall 1.0\n",
      "Epoch 20 Batch 36: Loss 0.0009322051773779094, Accuracy 1.0, F1 1.0, Precision 1.0, Recall 1.0\n",
      "Epoch 20 Batch 41: Loss 0.0013906769454479218, Accuracy 1.0, F1 1.0, Precision 1.0, Recall 1.0\n",
      "Epoch 20 Batch 46: Loss 0.0010534586617723107, Accuracy 1.0, F1 1.0, Precision 1.0, Recall 1.0\n",
      "Epoch 20 Batch 51: Loss 0.001083556329831481, Accuracy 1.0, F1 1.0, Precision 1.0, Recall 1.0\n",
      "Epoch 20 Batch 56: Loss 0.0010082346852868795, Accuracy 1.0, F1 1.0, Precision 1.0, Recall 1.0\n",
      "Epoch 20 Batch 61: Loss 0.0009718876099213958, Accuracy 1.0, F1 1.0, Precision 1.0, Recall 1.0\n",
      "Epoch 20 Batch 66: Loss 0.001102545764297247, Accuracy 1.0, F1 1.0, Precision 1.0, Recall 1.0\n",
      "Epoch 20 Batch 71: Loss 0.0008958731195889413, Accuracy 1.0, F1 1.0, Precision 1.0, Recall 1.0\n",
      "Epoch 20 Batch 76: Loss 0.0008710689144209027, Accuracy 1.0, F1 1.0, Precision 1.0, Recall 1.0\n",
      "Epoch 20 Batch 81: Loss 0.0009783348068594933, Accuracy 1.0, F1 1.0, Precision 1.0, Recall 1.0\n",
      "Epoch 20 Batch 86: Loss 0.0010995690245181322, Accuracy 0.9996366279069767, F1 0.9996307984081582, Precision 0.9996770025839794, Recall 0.9996366279069767\n",
      "Epoch 20 Batch 91: Loss 0.0011009301524609327, Accuracy 0.9993131868131868, F1 0.9993068169483472, Precision 0.9993825618825619, Recall 0.9993131868131868\n",
      "Epoch 20 Batch 96: Loss 0.0009093124535866082, Accuracy 0.9993489583333334, F1 0.9993429202322875, Precision 0.9994147201178452, Recall 0.9993489583333334\n",
      "Epoch 20: Train Accuracy 0.9993686868686869, F1 0.9993628317404, Precision 0.9994324558718498, Recall 0.9993686868686869\n"
     ]
    },
    {
     "name": "stderr",
     "output_type": "stream",
     "text": [
      "/tmp/ipykernel_238/3821735571.py:62: TqdmDeprecationWarning: This function will be removed in tqdm==5.0.0\n",
      "Please use `tqdm.notebook.tqdm` instead of `tqdm.tqdm_notebook`\n",
      "  for batch_id, (token_ids, _, segment_ids, label) in enumerate(tqdm_notebook(val_dataloader)):\n"
     ]
    },
    {
     "data": {
      "application/vnd.jupyter.widget-view+json": {
       "model_id": "fbafa4d015d4468ca3099206c0dcb63e",
       "version_major": 2,
       "version_minor": 0
      },
      "text/plain": [
       "  0%|          | 0/25 [00:00<?, ?it/s]"
      ]
     },
     "metadata": {},
     "output_type": "display_data"
    },
    {
     "name": "stdout",
     "output_type": "stream",
     "text": [
      "Epoch 20: Validation Accuracy 0.9039772727272727, F1 0.9046722062053414, Precision 0.9153603896103896, Recall 0.9039772727272727\n"
     ]
    },
    {
     "name": "stderr",
     "output_type": "stream",
     "text": [
      "/tmp/ipykernel_238/3821735571.py:20: TqdmDeprecationWarning: This function will be removed in tqdm==5.0.0\n",
      "Please use `tqdm.notebook.tqdm` instead of `tqdm.tqdm_notebook`\n",
      "  for batch_id, (token_ids, _, segment_ids, label) in enumerate(tqdm_notebook(train_dataloader)):\n"
     ]
    },
    {
     "data": {
      "application/vnd.jupyter.widget-view+json": {
       "model_id": "2f0bd7f8cbd740adbe42888a49c0f0c1",
       "version_major": 2,
       "version_minor": 0
      },
      "text/plain": [
       "  0%|          | 0/99 [00:00<?, ?it/s]"
      ]
     },
     "metadata": {},
     "output_type": "display_data"
    },
    {
     "name": "stdout",
     "output_type": "stream",
     "text": [
      "Epoch 21 Batch 1: Loss 0.0009445616160519421, Accuracy 1.0, F1 1.0, Precision 1.0, Recall 1.0\n",
      "Epoch 21 Batch 6: Loss 0.0011042949045076966, Accuracy 1.0, F1 1.0, Precision 1.0, Recall 1.0\n",
      "Epoch 21 Batch 11: Loss 0.0009658330236561596, Accuracy 1.0, F1 1.0, Precision 1.0, Recall 1.0\n",
      "Epoch 21 Batch 16: Loss 0.0012815407244488597, Accuracy 1.0, F1 1.0, Precision 1.0, Recall 1.0\n",
      "Epoch 21 Batch 21: Loss 0.0011106374440714717, Accuracy 1.0, F1 1.0, Precision 1.0, Recall 1.0\n",
      "Epoch 21 Batch 26: Loss 0.0008795551839284599, Accuracy 1.0, F1 1.0, Precision 1.0, Recall 1.0\n",
      "Epoch 21 Batch 31: Loss 0.0011528681498020887, Accuracy 1.0, F1 1.0, Precision 1.0, Recall 1.0\n",
      "Epoch 21 Batch 36: Loss 0.0007973285391926765, Accuracy 1.0, F1 1.0, Precision 1.0, Recall 1.0\n",
      "Epoch 21 Batch 41: Loss 0.0012488981010392308, Accuracy 1.0, F1 1.0, Precision 1.0, Recall 1.0\n",
      "Epoch 21 Batch 46: Loss 0.0008649207884445786, Accuracy 1.0, F1 1.0, Precision 1.0, Recall 1.0\n",
      "Epoch 21 Batch 51: Loss 0.0008535381639376283, Accuracy 1.0, F1 1.0, Precision 1.0, Recall 1.0\n",
      "Epoch 21 Batch 56: Loss 0.0009531305404379964, Accuracy 1.0, F1 1.0, Precision 1.0, Recall 1.0\n",
      "Epoch 21 Batch 61: Loss 0.0008742731879465282, Accuracy 1.0, F1 1.0, Precision 1.0, Recall 1.0\n",
      "Epoch 21 Batch 66: Loss 0.0009379050461575389, Accuracy 1.0, F1 1.0, Precision 1.0, Recall 1.0\n",
      "Epoch 21 Batch 71: Loss 0.0008187530911527574, Accuracy 1.0, F1 1.0, Precision 1.0, Recall 1.0\n",
      "Epoch 21 Batch 76: Loss 0.0009065013728104532, Accuracy 1.0, F1 1.0, Precision 1.0, Recall 1.0\n",
      "Epoch 21 Batch 81: Loss 0.0009311519097536802, Accuracy 1.0, F1 1.0, Precision 1.0, Recall 1.0\n",
      "Epoch 21 Batch 86: Loss 0.0009669716819189489, Accuracy 1.0, F1 1.0, Precision 1.0, Recall 1.0\n",
      "Epoch 21 Batch 91: Loss 0.0009843757143244147, Accuracy 0.9996565934065934, F1 0.9996576565849011, Precision 0.9996947496947498, Recall 0.9996565934065934\n",
      "Epoch 21 Batch 96: Loss 0.0007558502838946879, Accuracy 0.9996744791666666, F1 0.9996754869711042, Precision 0.9997106481481483, Recall 0.9996744791666666\n",
      "Epoch 21: Train Accuracy 0.9996843434343434, F1 0.9996853206992525, Precision 0.9997194163860831, Recall 0.9996843434343434\n"
     ]
    },
    {
     "name": "stderr",
     "output_type": "stream",
     "text": [
      "/tmp/ipykernel_238/3821735571.py:62: TqdmDeprecationWarning: This function will be removed in tqdm==5.0.0\n",
      "Please use `tqdm.notebook.tqdm` instead of `tqdm.tqdm_notebook`\n",
      "  for batch_id, (token_ids, _, segment_ids, label) in enumerate(tqdm_notebook(val_dataloader)):\n"
     ]
    },
    {
     "data": {
      "application/vnd.jupyter.widget-view+json": {
       "model_id": "d5f213a64d274b868ba24ec5dd7b328c",
       "version_major": 2,
       "version_minor": 0
      },
      "text/plain": [
       "  0%|          | 0/25 [00:00<?, ?it/s]"
      ]
     },
     "metadata": {},
     "output_type": "display_data"
    },
    {
     "name": "stdout",
     "output_type": "stream",
     "text": [
      "Epoch 21: Validation Accuracy 0.9052272727272727, F1 0.905650195574466, Precision 0.9156863726551225, Recall 0.9052272727272727\n"
     ]
    },
    {
     "name": "stderr",
     "output_type": "stream",
     "text": [
      "/tmp/ipykernel_238/3821735571.py:20: TqdmDeprecationWarning: This function will be removed in tqdm==5.0.0\n",
      "Please use `tqdm.notebook.tqdm` instead of `tqdm.tqdm_notebook`\n",
      "  for batch_id, (token_ids, _, segment_ids, label) in enumerate(tqdm_notebook(train_dataloader)):\n"
     ]
    },
    {
     "data": {
      "application/vnd.jupyter.widget-view+json": {
       "model_id": "ff937367021f479284b29e07b50c9e4a",
       "version_major": 2,
       "version_minor": 0
      },
      "text/plain": [
       "  0%|          | 0/99 [00:00<?, ?it/s]"
      ]
     },
     "metadata": {},
     "output_type": "display_data"
    },
    {
     "name": "stdout",
     "output_type": "stream",
     "text": [
      "Epoch 22 Batch 1: Loss 0.0008361065411008894, Accuracy 1.0, F1 1.0, Precision 1.0, Recall 1.0\n",
      "Epoch 22 Batch 6: Loss 0.000941749953199178, Accuracy 1.0, F1 1.0, Precision 1.0, Recall 1.0\n",
      "Epoch 22 Batch 11: Loss 0.0009071500971913338, Accuracy 1.0, F1 1.0, Precision 1.0, Recall 1.0\n",
      "Epoch 22 Batch 16: Loss 0.0009938015136867762, Accuracy 1.0, F1 1.0, Precision 1.0, Recall 1.0\n",
      "Epoch 22 Batch 21: Loss 0.0009935982525348663, Accuracy 1.0, F1 1.0, Precision 1.0, Recall 1.0\n",
      "Epoch 22 Batch 26: Loss 0.0009741198155097663, Accuracy 1.0, F1 1.0, Precision 1.0, Recall 1.0\n",
      "Epoch 22 Batch 31: Loss 0.0010639851680025458, Accuracy 1.0, F1 1.0, Precision 1.0, Recall 1.0\n",
      "Epoch 22 Batch 36: Loss 0.0007513459422625601, Accuracy 1.0, F1 1.0, Precision 1.0, Recall 1.0\n",
      "Epoch 22 Batch 41: Loss 0.0011587191838771105, Accuracy 1.0, F1 1.0, Precision 1.0, Recall 1.0\n",
      "Epoch 22 Batch 46: Loss 0.0008705466170795262, Accuracy 1.0, F1 1.0, Precision 1.0, Recall 1.0\n",
      "Epoch 22 Batch 51: Loss 0.0008576951222494245, Accuracy 1.0, F1 1.0, Precision 1.0, Recall 1.0\n",
      "Epoch 22 Batch 56: Loss 0.0008282579947263002, Accuracy 1.0, F1 1.0, Precision 1.0, Recall 1.0\n",
      "Epoch 22 Batch 61: Loss 0.0008857052307575941, Accuracy 1.0, F1 1.0, Precision 1.0, Recall 1.0\n",
      "Epoch 22 Batch 66: Loss 0.0008486465085297823, Accuracy 1.0, F1 1.0, Precision 1.0, Recall 1.0\n",
      "Epoch 22 Batch 71: Loss 0.0007731646182946861, Accuracy 1.0, F1 1.0, Precision 1.0, Recall 1.0\n",
      "Epoch 22 Batch 76: Loss 0.0008807083941064775, Accuracy 1.0, F1 1.0, Precision 1.0, Recall 1.0\n",
      "Epoch 22 Batch 81: Loss 0.0008333802106790245, Accuracy 1.0, F1 1.0, Precision 1.0, Recall 1.0\n",
      "Epoch 22 Batch 86: Loss 0.0010044880909845233, Accuracy 1.0, F1 1.0, Precision 1.0, Recall 1.0\n",
      "Epoch 22 Batch 91: Loss 0.0009086045320145786, Accuracy 0.9996565934065934, F1 0.9996576565849011, Precision 0.9996947496947498, Recall 0.9996565934065934\n",
      "Epoch 22 Batch 96: Loss 0.0007829382666386664, Accuracy 0.9996744791666666, F1 0.9996754869711042, Precision 0.9997106481481483, Recall 0.9996744791666666\n",
      "Epoch 22: Train Accuracy 0.9996843434343434, F1 0.9996853206992525, Precision 0.9997194163860831, Recall 0.9996843434343434\n"
     ]
    },
    {
     "name": "stderr",
     "output_type": "stream",
     "text": [
      "/tmp/ipykernel_238/3821735571.py:62: TqdmDeprecationWarning: This function will be removed in tqdm==5.0.0\n",
      "Please use `tqdm.notebook.tqdm` instead of `tqdm.tqdm_notebook`\n",
      "  for batch_id, (token_ids, _, segment_ids, label) in enumerate(tqdm_notebook(val_dataloader)):\n"
     ]
    },
    {
     "data": {
      "application/vnd.jupyter.widget-view+json": {
       "model_id": "e5932c7cc441436badbe571a2faadb66",
       "version_major": 2,
       "version_minor": 0
      },
      "text/plain": [
       "  0%|          | 0/25 [00:00<?, ?it/s]"
      ]
     },
     "metadata": {},
     "output_type": "display_data"
    },
    {
     "name": "stdout",
     "output_type": "stream",
     "text": [
      "Epoch 22: Validation Accuracy 0.9052272727272727, F1 0.905894886555999, Precision 0.9163079906204905, Recall 0.9052272727272727\n"
     ]
    },
    {
     "name": "stderr",
     "output_type": "stream",
     "text": [
      "/tmp/ipykernel_238/3821735571.py:20: TqdmDeprecationWarning: This function will be removed in tqdm==5.0.0\n",
      "Please use `tqdm.notebook.tqdm` instead of `tqdm.tqdm_notebook`\n",
      "  for batch_id, (token_ids, _, segment_ids, label) in enumerate(tqdm_notebook(train_dataloader)):\n"
     ]
    },
    {
     "data": {
      "application/vnd.jupyter.widget-view+json": {
       "model_id": "208b42476bbe44eabedf2c7ea7c34f89",
       "version_major": 2,
       "version_minor": 0
      },
      "text/plain": [
       "  0%|          | 0/99 [00:00<?, ?it/s]"
      ]
     },
     "metadata": {},
     "output_type": "display_data"
    },
    {
     "name": "stdout",
     "output_type": "stream",
     "text": [
      "Epoch 23 Batch 1: Loss 0.0008871220634318888, Accuracy 1.0, F1 1.0, Precision 1.0, Recall 1.0\n",
      "Epoch 23 Batch 6: Loss 0.0008351542637683451, Accuracy 1.0, F1 1.0, Precision 1.0, Recall 1.0\n",
      "Epoch 23 Batch 11: Loss 0.0008042409899644554, Accuracy 1.0, F1 1.0, Precision 1.0, Recall 1.0\n",
      "Epoch 23 Batch 16: Loss 0.0009406408644281328, Accuracy 1.0, F1 1.0, Precision 1.0, Recall 1.0\n",
      "Epoch 23 Batch 21: Loss 0.0010127625428140163, Accuracy 1.0, F1 1.0, Precision 1.0, Recall 1.0\n",
      "Epoch 23 Batch 26: Loss 0.0009044571779668331, Accuracy 1.0, F1 1.0, Precision 1.0, Recall 1.0\n",
      "Epoch 23 Batch 31: Loss 0.0010466431267559528, Accuracy 1.0, F1 1.0, Precision 1.0, Recall 1.0\n",
      "Epoch 23 Batch 36: Loss 0.0007638632087036967, Accuracy 1.0, F1 1.0, Precision 1.0, Recall 1.0\n",
      "Epoch 23 Batch 41: Loss 0.0011696292785927653, Accuracy 1.0, F1 1.0, Precision 1.0, Recall 1.0\n",
      "Epoch 23 Batch 46: Loss 0.0008332716533914208, Accuracy 1.0, F1 1.0, Precision 1.0, Recall 1.0\n",
      "Epoch 23 Batch 51: Loss 0.0008644754416309297, Accuracy 1.0, F1 1.0, Precision 1.0, Recall 1.0\n",
      "Epoch 23 Batch 56: Loss 0.0008078088867478073, Accuracy 1.0, F1 1.0, Precision 1.0, Recall 1.0\n",
      "Epoch 23 Batch 61: Loss 0.0007683206931687891, Accuracy 1.0, F1 1.0, Precision 1.0, Recall 1.0\n",
      "Epoch 23 Batch 66: Loss 0.0008521771524101496, Accuracy 1.0, F1 1.0, Precision 1.0, Recall 1.0\n",
      "Epoch 23 Batch 71: Loss 0.0007127693970687687, Accuracy 1.0, F1 1.0, Precision 1.0, Recall 1.0\n",
      "Epoch 23 Batch 76: Loss 0.000845536938868463, Accuracy 1.0, F1 1.0, Precision 1.0, Recall 1.0\n",
      "Epoch 23 Batch 81: Loss 0.0008482264820486307, Accuracy 1.0, F1 1.0, Precision 1.0, Recall 1.0\n",
      "Epoch 23 Batch 86: Loss 0.0010181484976783395, Accuracy 1.0, F1 1.0, Precision 1.0, Recall 1.0\n",
      "Epoch 23 Batch 91: Loss 0.0008794760215096176, Accuracy 1.0, F1 1.0, Precision 1.0, Recall 1.0\n",
      "Epoch 23 Batch 96: Loss 0.0007679801201447845, Accuracy 1.0, F1 1.0, Precision 1.0, Recall 1.0\n",
      "Epoch 23: Train Accuracy 1.0, F1 1.0, Precision 1.0, Recall 1.0\n"
     ]
    },
    {
     "name": "stderr",
     "output_type": "stream",
     "text": [
      "/tmp/ipykernel_238/3821735571.py:62: TqdmDeprecationWarning: This function will be removed in tqdm==5.0.0\n",
      "Please use `tqdm.notebook.tqdm` instead of `tqdm.tqdm_notebook`\n",
      "  for batch_id, (token_ids, _, segment_ids, label) in enumerate(tqdm_notebook(val_dataloader)):\n"
     ]
    },
    {
     "data": {
      "application/vnd.jupyter.widget-view+json": {
       "model_id": "fe68edaf790845568d35ca7e4c5c9779",
       "version_major": 2,
       "version_minor": 0
      },
      "text/plain": [
       "  0%|          | 0/25 [00:00<?, ?it/s]"
      ]
     },
     "metadata": {},
     "output_type": "display_data"
    },
    {
     "name": "stdout",
     "output_type": "stream",
     "text": [
      "Epoch 23: Validation Accuracy 0.9039772727272727, F1 0.90481978774177, Precision 0.9158318001443001, Recall 0.9039772727272727\n"
     ]
    },
    {
     "name": "stderr",
     "output_type": "stream",
     "text": [
      "/tmp/ipykernel_238/3821735571.py:20: TqdmDeprecationWarning: This function will be removed in tqdm==5.0.0\n",
      "Please use `tqdm.notebook.tqdm` instead of `tqdm.tqdm_notebook`\n",
      "  for batch_id, (token_ids, _, segment_ids, label) in enumerate(tqdm_notebook(train_dataloader)):\n"
     ]
    },
    {
     "data": {
      "application/vnd.jupyter.widget-view+json": {
       "model_id": "f22f77a1ed9442eba3de333b3b788c01",
       "version_major": 2,
       "version_minor": 0
      },
      "text/plain": [
       "  0%|          | 0/99 [00:00<?, ?it/s]"
      ]
     },
     "metadata": {},
     "output_type": "display_data"
    },
    {
     "name": "stdout",
     "output_type": "stream",
     "text": [
      "Epoch 24 Batch 1: Loss 0.000787534227129072, Accuracy 1.0, F1 1.0, Precision 1.0, Recall 1.0\n",
      "Epoch 24 Batch 6: Loss 0.0008654618286527693, Accuracy 1.0, F1 1.0, Precision 1.0, Recall 1.0\n",
      "Epoch 24 Batch 11: Loss 0.0008145891479216516, Accuracy 1.0, F1 1.0, Precision 1.0, Recall 1.0\n",
      "Epoch 24 Batch 16: Loss 0.0009333549533039331, Accuracy 1.0, F1 1.0, Precision 1.0, Recall 1.0\n",
      "Epoch 24 Batch 21: Loss 0.000951574242208153, Accuracy 1.0, F1 1.0, Precision 1.0, Recall 1.0\n",
      "Epoch 24 Batch 26: Loss 0.0008783271186985075, Accuracy 1.0, F1 1.0, Precision 1.0, Recall 1.0\n",
      "Epoch 24 Batch 31: Loss 0.001008221646770835, Accuracy 1.0, F1 1.0, Precision 1.0, Recall 1.0\n",
      "Epoch 24 Batch 36: Loss 0.0007019574986770749, Accuracy 1.0, F1 1.0, Precision 1.0, Recall 1.0\n",
      "Epoch 24 Batch 41: Loss 0.0011274628341197968, Accuracy 1.0, F1 1.0, Precision 1.0, Recall 1.0\n",
      "Epoch 24 Batch 46: Loss 0.0008253023843280971, Accuracy 1.0, F1 1.0, Precision 1.0, Recall 1.0\n",
      "Epoch 24 Batch 51: Loss 0.0008483109995722771, Accuracy 1.0, F1 1.0, Precision 1.0, Recall 1.0\n",
      "Epoch 24 Batch 56: Loss 0.0008323039510287344, Accuracy 1.0, F1 1.0, Precision 1.0, Recall 1.0\n",
      "Epoch 24 Batch 61: Loss 0.0007880487246438861, Accuracy 1.0, F1 1.0, Precision 1.0, Recall 1.0\n",
      "Epoch 24 Batch 66: Loss 0.0008236594148911536, Accuracy 1.0, F1 1.0, Precision 1.0, Recall 1.0\n",
      "Epoch 24 Batch 71: Loss 0.0007766623166389763, Accuracy 1.0, F1 1.0, Precision 1.0, Recall 1.0\n",
      "Epoch 24 Batch 76: Loss 0.0007993692415766418, Accuracy 1.0, F1 1.0, Precision 1.0, Recall 1.0\n",
      "Epoch 24 Batch 81: Loss 0.0011075491784140468, Accuracy 1.0, F1 1.0, Precision 1.0, Recall 1.0\n",
      "Epoch 24 Batch 86: Loss 0.0009346431470476091, Accuracy 1.0, F1 1.0, Precision 1.0, Recall 1.0\n",
      "Epoch 24 Batch 91: Loss 0.000873836106620729, Accuracy 1.0, F1 1.0, Precision 1.0, Recall 1.0\n",
      "Epoch 24 Batch 96: Loss 0.0007661889540031552, Accuracy 1.0, F1 1.0, Precision 1.0, Recall 1.0\n",
      "Epoch 24: Train Accuracy 1.0, F1 1.0, Precision 1.0, Recall 1.0\n"
     ]
    },
    {
     "name": "stderr",
     "output_type": "stream",
     "text": [
      "/tmp/ipykernel_238/3821735571.py:62: TqdmDeprecationWarning: This function will be removed in tqdm==5.0.0\n",
      "Please use `tqdm.notebook.tqdm` instead of `tqdm.tqdm_notebook`\n",
      "  for batch_id, (token_ids, _, segment_ids, label) in enumerate(tqdm_notebook(val_dataloader)):\n"
     ]
    },
    {
     "data": {
      "application/vnd.jupyter.widget-view+json": {
       "model_id": "3ebeaffee92f42719560598115bbb5c6",
       "version_major": 2,
       "version_minor": 0
      },
      "text/plain": [
       "  0%|          | 0/25 [00:00<?, ?it/s]"
      ]
     },
     "metadata": {},
     "output_type": "display_data"
    },
    {
     "name": "stdout",
     "output_type": "stream",
     "text": [
      "Epoch 24: Validation Accuracy 0.9052272727272727, F1 0.905894886555999, Precision 0.9163079906204905, Recall 0.9052272727272727\n"
     ]
    },
    {
     "name": "stderr",
     "output_type": "stream",
     "text": [
      "/tmp/ipykernel_238/3821735571.py:20: TqdmDeprecationWarning: This function will be removed in tqdm==5.0.0\n",
      "Please use `tqdm.notebook.tqdm` instead of `tqdm.tqdm_notebook`\n",
      "  for batch_id, (token_ids, _, segment_ids, label) in enumerate(tqdm_notebook(train_dataloader)):\n"
     ]
    },
    {
     "data": {
      "application/vnd.jupyter.widget-view+json": {
       "model_id": "eedcdaf23fb244eaaaec90afa8d5e9a0",
       "version_major": 2,
       "version_minor": 0
      },
      "text/plain": [
       "  0%|          | 0/99 [00:00<?, ?it/s]"
      ]
     },
     "metadata": {},
     "output_type": "display_data"
    },
    {
     "name": "stdout",
     "output_type": "stream",
     "text": [
      "Epoch 25 Batch 1: Loss 0.0008073569042608142, Accuracy 1.0, F1 1.0, Precision 1.0, Recall 1.0\n",
      "Epoch 25 Batch 6: Loss 0.0008758591138757765, Accuracy 1.0, F1 1.0, Precision 1.0, Recall 1.0\n",
      "Epoch 25 Batch 11: Loss 0.0007990165613591671, Accuracy 1.0, F1 1.0, Precision 1.0, Recall 1.0\n",
      "Epoch 25 Batch 16: Loss 0.0008825630648061633, Accuracy 1.0, F1 1.0, Precision 1.0, Recall 1.0\n",
      "Epoch 25 Batch 21: Loss 0.0009543788037262857, Accuracy 1.0, F1 1.0, Precision 1.0, Recall 1.0\n",
      "Epoch 25 Batch 26: Loss 0.0008374929893761873, Accuracy 1.0, F1 1.0, Precision 1.0, Recall 1.0\n",
      "Epoch 25 Batch 31: Loss 0.0010195458307862282, Accuracy 1.0, F1 1.0, Precision 1.0, Recall 1.0\n",
      "Epoch 25 Batch 36: Loss 0.0007450596895068884, Accuracy 1.0, F1 1.0, Precision 1.0, Recall 1.0\n",
      "Epoch 25 Batch 41: Loss 0.0011186370393261313, Accuracy 1.0, F1 1.0, Precision 1.0, Recall 1.0\n",
      "Epoch 25 Batch 46: Loss 0.0008506944868713617, Accuracy 1.0, F1 1.0, Precision 1.0, Recall 1.0\n",
      "Epoch 25 Batch 51: Loss 0.0007864706567488611, Accuracy 1.0, F1 1.0, Precision 1.0, Recall 1.0\n",
      "Epoch 25 Batch 56: Loss 0.0008068731985986233, Accuracy 1.0, F1 1.0, Precision 1.0, Recall 1.0\n",
      "Epoch 25 Batch 61: Loss 0.0007896958268247545, Accuracy 1.0, F1 1.0, Precision 1.0, Recall 1.0\n",
      "Epoch 25 Batch 66: Loss 0.0008125954773277044, Accuracy 1.0, F1 1.0, Precision 1.0, Recall 1.0\n",
      "Epoch 25 Batch 71: Loss 0.0007450306438840926, Accuracy 1.0, F1 1.0, Precision 1.0, Recall 1.0\n",
      "Epoch 25 Batch 76: Loss 0.0008724109502509236, Accuracy 1.0, F1 1.0, Precision 1.0, Recall 1.0\n",
      "Epoch 25 Batch 81: Loss 0.0008677724399603903, Accuracy 1.0, F1 1.0, Precision 1.0, Recall 1.0\n",
      "Epoch 25 Batch 86: Loss 0.000985618564300239, Accuracy 1.0, F1 1.0, Precision 1.0, Recall 1.0\n",
      "Epoch 25 Batch 91: Loss 0.0009275495540350676, Accuracy 1.0, F1 1.0, Precision 1.0, Recall 1.0\n",
      "Epoch 25 Batch 96: Loss 0.0007751063094474375, Accuracy 1.0, F1 1.0, Precision 1.0, Recall 1.0\n",
      "Epoch 25: Train Accuracy 1.0, F1 1.0, Precision 1.0, Recall 1.0\n"
     ]
    },
    {
     "name": "stderr",
     "output_type": "stream",
     "text": [
      "/tmp/ipykernel_238/3821735571.py:62: TqdmDeprecationWarning: This function will be removed in tqdm==5.0.0\n",
      "Please use `tqdm.notebook.tqdm` instead of `tqdm.tqdm_notebook`\n",
      "  for batch_id, (token_ids, _, segment_ids, label) in enumerate(tqdm_notebook(val_dataloader)):\n"
     ]
    },
    {
     "data": {
      "application/vnd.jupyter.widget-view+json": {
       "model_id": "9de244ec625c484297f91d616f6a8e56",
       "version_major": 2,
       "version_minor": 0
      },
      "text/plain": [
       "  0%|          | 0/25 [00:00<?, ?it/s]"
      ]
     },
     "metadata": {},
     "output_type": "display_data"
    },
    {
     "name": "stdout",
     "output_type": "stream",
     "text": [
      "Epoch 25: Validation Accuracy 0.9052272727272727, F1 0.905894886555999, Precision 0.9163079906204905, Recall 0.9052272727272727\n"
     ]
    }
   ],
   "source": [
    "# 로스와 성능 지표 저장 리스트\n",
    "train_losses = []\n",
    "val_losses = []\n",
    "train_accs, val_accs = [], []\n",
    "train_f1s, val_f1s = [], []\n",
    "train_precisions, val_precisions = [], []\n",
    "train_recalls = []  \n",
    "val_recalls = []    \n",
    "\n",
    "for e in range(num_epochs):\n",
    "    # 각 에포크 시작 시 성능 지표 초기화\n",
    "    train_acc = 0.0\n",
    "    train_f1, train_precision, train_recall = 0.0, 0.0, 0.0  # 성능 지표 초기화\n",
    "    test_acc, val_f1, val_precision, val_recall = 0.0, 0.0, 0.0, 0.0  # Validation 성능 지표 초기화\n",
    "    train_loss = 0.0  # 훈련 로스 초기화\n",
    "    val_loss = 0.0  # Validation 로스 초기화\n",
    "    \n",
    "    model.train()\n",
    "    \n",
    "    for batch_id, (token_ids, _, segment_ids, label) in enumerate(tqdm_notebook(train_dataloader)):\n",
    "        optimizer.zero_grad()\n",
    "        token_ids = token_ids.long().to(device)\n",
    "        segment_ids = segment_ids.long().to(device)\n",
    "        label = label.long().to(device)\n",
    "        \n",
    "        out = model(token_ids, segment_ids)\n",
    "        loss = loss_fn(out, label)\n",
    "        loss.backward()\n",
    "        torch.nn.utils.clip_grad_norm_(model.parameters(), max_grad_norm)\n",
    "        optimizer.step()\n",
    "        scheduler.step()  # Update learning rate schedule\n",
    "        \n",
    "        # 성능 지표 계산\n",
    "        batch_acc, batch_f1, batch_precision, batch_recall = calc_metrics(out, label)\n",
    "        train_acc += batch_acc\n",
    "        train_f1 += batch_f1\n",
    "        train_precision += batch_precision\n",
    "        train_recall += batch_recall\n",
    "        train_loss += loss.item()  # 배치의 로스를 누적\n",
    "        \n",
    "        if batch_id % log_interval == 0:\n",
    "            print(f\"Epoch {e+1} Batch {batch_id+1}: Loss {loss.data.cpu().numpy()}, Accuracy {train_acc/(batch_id+1)}, F1 {train_f1/(batch_id+1)}, Precision {train_precision/(batch_id+1)}, Recall {train_recall/(batch_id+1)}\")\n",
    "    \n",
    "    # 에포크가 끝난 후 평균 성능 지표 계산\n",
    "    train_acc /= len(train_dataloader)\n",
    "    train_f1 /= len(train_dataloader)\n",
    "    train_precision /= len(train_dataloader)\n",
    "    train_recall /= len(train_dataloader)\n",
    "    train_loss /= len(train_dataloader)\n",
    "    \n",
    "    train_losses.append(train_loss)\n",
    "    train_accs.append(train_acc)\n",
    "    train_f1s.append(train_f1)\n",
    "    train_precisions.append(train_precision)\n",
    "    train_recalls.append(train_recall)\n",
    "\n",
    "    print(f\"Epoch {e+1}: Train Accuracy {train_acc}, F1 {train_f1}, Precision {train_precision}, Recall {train_recall}\")\n",
    "    \n",
    "    # Validation 성능 계산\n",
    "    model.eval()\n",
    "    with torch.no_grad():\n",
    "        for batch_id, (token_ids, _, segment_ids, label) in enumerate(tqdm_notebook(val_dataloader)):\n",
    "            token_ids = token_ids.long().to(device)\n",
    "            segment_ids = segment_ids.long().to(device)\n",
    "            label = label.long().to(device)\n",
    "            \n",
    "            out = model(token_ids, segment_ids)\n",
    "            loss = loss_fn(out, label)\n",
    "            val_loss += loss.item()  # 배치의 validation 로스를 누적\n",
    "            batch_acc, batch_f1, batch_precision, batch_recall = calc_metrics(out, label)\n",
    "            test_acc += batch_acc\n",
    "            val_f1 += batch_f1\n",
    "            val_precision += batch_precision\n",
    "            val_recall += batch_recall\n",
    "        \n",
    "        # 에포크가 끝난 후 평균 validation 성능 지표 계산\n",
    "        test_acc /= len(val_dataloader)\n",
    "        val_f1 /= len(val_dataloader)\n",
    "        val_precision /= len(val_dataloader)\n",
    "        val_recall /= len(val_dataloader)\n",
    "        val_loss /= len(val_dataloader)\n",
    "\n",
    "        val_losses.append(val_loss)\n",
    "        val_accs.append(test_acc)\n",
    "        val_f1s.append(val_f1)\n",
    "        val_precisions.append(val_precision)\n",
    "        val_recalls.append(val_recall)\n",
    "\n",
    "        print(f\"Epoch {e+1}: Validation Accuracy {test_acc}, F1 {val_f1}, Precision {val_precision}, Recall {val_recall}\")"
   ]
  },
  {
   "cell_type": "code",
   "execution_count": 24,
   "id": "14170023",
   "metadata": {},
   "outputs": [
    {
     "data": {
      "image/png": "[encoded data removed]",
      "text/plain": [
       "<Figure size 720x360 with 1 Axes>"
      ]
     },
     "metadata": {
      "needs_background": "light"
     },
     "output_type": "display_data"
    }
   ],
   "source": [
    "# Loss 그래프 그리기\n",
    "plt.figure(figsize=(10, 5))\n",
    "plt.plot(train_losses, label=\"Train Loss\")\n",
    "plt.plot(val_losses, label=\"Validation Loss\")\n",
    "plt.xlabel(\"Epochs\")\n",
    "plt.ylabel(\"Loss\")\n",
    "plt.legend()\n",
    "plt.title(\"Loss per Epoch\")\n",
    "plt.xticks(range(len(train_losses)))  \n",
    "plt.show()"
   ]
  },
  {
   "cell_type": "code",
   "execution_count": 25,
   "id": "3e86266a",
   "metadata": {},
   "outputs": [
    {
     "data": {
      "text/html": [
       "<div>\n",
       "<style scoped>\n",
       "    .dataframe tbody tr th:only-of-type {\n",
       "        vertical-align: middle;\n",
       "    }\n",
       "\n",
       "    .dataframe tbody tr th {\n",
       "        vertical-align: top;\n",
       "    }\n",
       "\n",
       "    .dataframe thead th {\n",
       "        text-align: right;\n",
       "    }\n",
       "</style>\n",
       "<table border=\"1\" class=\"dataframe\">\n",
       "  <thead>\n",
       "    <tr style=\"text-align: right;\">\n",
       "      <th></th>\n",
       "      <th>text</th>\n",
       "    </tr>\n",
       "  </thead>\n",
       "  <tbody>\n",
       "    <tr>\n",
       "      <th>t_000</th>\n",
       "      <td>아가씨 담배한갑주소 네 4500원입니다 어 네 지갑어디갔지 에이 버스에서 잃어버렸나...</td>\n",
       "    </tr>\n",
       "    <tr>\n",
       "      <th>t_001</th>\n",
       "      <td>우리팀에서 다른팀으로 갈 사람 없나? 그럼 영지씨가 가는건 어때?  네? 제가요? ...</td>\n",
       "    </tr>\n",
       "    <tr>\n",
       "      <th>t_002</th>\n",
       "      <td>너 오늘 그게 뭐야 네 제가 뭘 잘못했나요.? 제대로 좀 하지 네 똑바로 좀 하지 ...</td>\n",
       "    </tr>\n",
       "    <tr>\n",
       "      <th>t_003</th>\n",
       "      <td>이거 들어바 와 이 노래 진짜 좋다 그치 요즘 이 것만 들어 진짜 너무 좋다 내가 ...</td>\n",
       "    </tr>\n",
       "    <tr>\n",
       "      <th>t_004</th>\n",
       "      <td>아무튼 앞으로 니가 내 와이파이야. .응 와이파이 온. 켰어. 반말? 주인님이라고도...</td>\n",
       "    </tr>\n",
       "    <tr>\n",
       "      <th>...</th>\n",
       "      <td>...</td>\n",
       "    </tr>\n",
       "    <tr>\n",
       "      <th>t_495</th>\n",
       "      <td>미나씨 휴가 결제 올리기 전에 저랑 상의하라고 말한거 기억해요? 네 합니다. 보고서...</td>\n",
       "    </tr>\n",
       "    <tr>\n",
       "      <th>t_496</th>\n",
       "      <td>교수님 제 논문에 제 이름이 없나요?  아 무슨 논문말이야?  지난 번 냈던 논문이...</td>\n",
       "    </tr>\n",
       "    <tr>\n",
       "      <th>t_497</th>\n",
       "      <td>야 너  네 저요? 그래 너 왜요 돈좀 줘봐  돈 없어요 돈이 왜 없어 지갑은 폼이...</td>\n",
       "    </tr>\n",
       "    <tr>\n",
       "      <th>t_498</th>\n",
       "      <td>야 너 빨리 안 뛰어와? 너 이 환자 제대로 봤어 안 봤어 어제 저녁부터 계속 보다...</td>\n",
       "    </tr>\n",
       "    <tr>\n",
       "      <th>t_499</th>\n",
       "      <td>엄마 저 그 돈 안해주시면 정말 큰일나요.  이유도 말하지 않고. 몇번째니 경민아....</td>\n",
       "    </tr>\n",
       "  </tbody>\n",
       "</table>\n",
       "<p>500 rows × 1 columns</p>\n",
       "</div>"
      ],
      "text/plain": [
       "                                                    text\n",
       "t_000  아가씨 담배한갑주소 네 4500원입니다 어 네 지갑어디갔지 에이 버스에서 잃어버렸나...\n",
       "t_001  우리팀에서 다른팀으로 갈 사람 없나? 그럼 영지씨가 가는건 어때?  네? 제가요? ...\n",
       "t_002  너 오늘 그게 뭐야 네 제가 뭘 잘못했나요.? 제대로 좀 하지 네 똑바로 좀 하지 ...\n",
       "t_003  이거 들어바 와 이 노래 진짜 좋다 그치 요즘 이 것만 들어 진짜 너무 좋다 내가 ...\n",
       "t_004  아무튼 앞으로 니가 내 와이파이야. .응 와이파이 온. 켰어. 반말? 주인님이라고도...\n",
       "...                                                  ...\n",
       "t_495  미나씨 휴가 결제 올리기 전에 저랑 상의하라고 말한거 기억해요? 네 합니다. 보고서...\n",
       "t_496  교수님 제 논문에 제 이름이 없나요?  아 무슨 논문말이야?  지난 번 냈던 논문이...\n",
       "t_497  야 너  네 저요? 그래 너 왜요 돈좀 줘봐  돈 없어요 돈이 왜 없어 지갑은 폼이...\n",
       "t_498  야 너 빨리 안 뛰어와? 너 이 환자 제대로 봤어 안 봤어 어제 저녁부터 계속 보다...\n",
       "t_499  엄마 저 그 돈 안해주시면 정말 큰일나요.  이유도 말하지 않고. 몇번째니 경민아....\n",
       "\n",
       "[500 rows x 1 columns]"
      ]
     },
     "execution_count": 25,
     "metadata": {},
     "output_type": "execute_result"
    }
   ],
   "source": [
    "filepath_test = os.getenv('HOME')+'/aiffel/dktc/data/test.json'\n",
    "\n",
    "test = pd.read_json(filepath_test)\n",
    "\n",
    "test.head().T"
   ]
  },
  {
   "cell_type": "code",
   "execution_count": 26,
   "id": "2a20a503",
   "metadata": {},
   "outputs": [],
   "source": [
    "# 각 열에 있는 'text' 데이터를 추출하여 하나의 리스트로 만듭니다.\n",
    "test_list = []\n",
    "\n",
    "for column in test.columns:\n",
    "    conversation = test[column]['text']\n",
    "    test_list.append([conversation])  # 각 대화를 리스트에 추가\n",
    "\n",
    "# 텍스트 클렌징 함수 (train에서 사용한 것과 동일하게 적용)\n",
    "def clean_text(text):\n",
    "    text = re.sub(r\"[^ㄱ-ㅎㅏ-ㅣ가-힣a-zA-Z\\s]\", \"\", text)\n",
    "    text = re.sub(r\"\\n\", \" \", text)\n",
    "    return text\n",
    "\n",
    "# 전처리 적용\n",
    "test_list = [[clean_text(conversation[0])] for conversation in test_list]\n",
    "\n",
    "# 토큰화 및 데이터셋 변환 (BERTDataset 클래스 및 토크나이저는 이미 정의되어 있다고 가정)\n",
    "data_test = BERTDataset(test_list, 0, None, tok, max_len, True, False)\n",
    "\n",
    "# 테스트 데이터 로더 생성\n",
    "test_dataloader = DataLoader(data_test, batch_size=batch_size, num_workers=4)"
   ]
  },
  {
   "cell_type": "code",
   "execution_count": 27,
   "id": "3ee5177e",
   "metadata": {},
   "outputs": [
    {
     "name": "stderr",
     "output_type": "stream",
     "text": [
      "/tmp/ipykernel_238/3595121026.py:6: TqdmDeprecationWarning: This function will be removed in tqdm==5.0.0\n",
      "Please use `tqdm.notebook.tqdm` instead of `tqdm.tqdm_notebook`\n",
      "  for batch_id, (token_ids, valid_length, segment_ids) in enumerate(tqdm_notebook(test_dataloader)):\n"
     ]
    },
    {
     "data": {
      "application/vnd.jupyter.widget-view+json": {
       "model_id": "08fd545627d24e5fb7e6e1fcc0f7a51c",
       "version_major": 2,
       "version_minor": 0
      },
      "text/plain": [
       "  0%|          | 0/16 [00:00<?, ?it/s]"
      ]
     },
     "metadata": {},
     "output_type": "display_data"
    }
   ],
   "source": [
    "# 모델 예측\n",
    "model.eval()\n",
    "predictions = []\n",
    "\n",
    "with torch.no_grad():\n",
    "    for batch_id, (token_ids, valid_length, segment_ids) in enumerate(tqdm_notebook(test_dataloader)):\n",
    "        token_ids = token_ids.long().to(device)\n",
    "        segment_ids = segment_ids.long().to(device)\n",
    "        \n",
    "        # 모델 예측\n",
    "        out = model(token_ids, segment_ids)\n",
    "        pred = torch.argmax(out, dim=1).cpu().numpy()  # 가장 높은 확률의 클래스를 예측\n",
    "        predictions.extend(pred)\n",
    "\n",
    "# 숫자 레이블을 클래스명으로 변환하는 매핑\n",
    "label_mapping = {\n",
    "    0: \"0\",\n",
    "    1: \"1\",\n",
    "    2: \"2\",\n",
    "    3: \"3\",\n",
    "    4: \"4\"\n",
    "}\n",
    "\n",
    "# 예측된 숫자 레이블을 클래스명으로 변환\n",
    "predicted_classes = [label_mapping[pred] for pred in predictions]"
   ]
  },
  {
   "cell_type": "code",
   "execution_count": 28,
   "id": "e865b974",
   "metadata": {},
   "outputs": [
    {
     "data": {
      "text/html": [
       "<div>\n",
       "<style scoped>\n",
       "    .dataframe tbody tr th:only-of-type {\n",
       "        vertical-align: middle;\n",
       "    }\n",
       "\n",
       "    .dataframe tbody tr th {\n",
       "        vertical-align: top;\n",
       "    }\n",
       "\n",
       "    .dataframe thead th {\n",
       "        text-align: right;\n",
       "    }\n",
       "</style>\n",
       "<table border=\"1\" class=\"dataframe\">\n",
       "  <thead>\n",
       "    <tr style=\"text-align: right;\">\n",
       "      <th></th>\n",
       "      <th>file_name</th>\n",
       "      <th>class</th>\n",
       "    </tr>\n",
       "  </thead>\n",
       "  <tbody>\n",
       "    <tr>\n",
       "      <th>0</th>\n",
       "      <td>t_000</td>\n",
       "      <td>NaN</td>\n",
       "    </tr>\n",
       "    <tr>\n",
       "      <th>1</th>\n",
       "      <td>t_001</td>\n",
       "      <td>NaN</td>\n",
       "    </tr>\n",
       "    <tr>\n",
       "      <th>2</th>\n",
       "      <td>t_002</td>\n",
       "      <td>NaN</td>\n",
       "    </tr>\n",
       "    <tr>\n",
       "      <th>3</th>\n",
       "      <td>t_004</td>\n",
       "      <td>NaN</td>\n",
       "    </tr>\n",
       "    <tr>\n",
       "      <th>4</th>\n",
       "      <td>t_005</td>\n",
       "      <td>NaN</td>\n",
       "    </tr>\n",
       "  </tbody>\n",
       "</table>\n",
       "</div>"
      ],
      "text/plain": [
       "  file_name  class\n",
       "0     t_000    NaN\n",
       "1     t_001    NaN\n",
       "2     t_002    NaN\n",
       "3     t_004    NaN\n",
       "4     t_005    NaN"
      ]
     },
     "execution_count": 28,
     "metadata": {},
     "output_type": "execute_result"
    }
   ],
   "source": [
    "filepath_sub = os.getenv('HOME')+'/aiffel/dktc/data/submission.csv'\n",
    "\n",
    "sub = pd.read_csv(filepath_sub)\n",
    "\n",
    "sub.head()"
   ]
  },
  {
   "cell_type": "code",
   "execution_count": 29,
   "id": "b7ac0f81",
   "metadata": {},
   "outputs": [],
   "source": [
    "# 예측 결과를 DataFrame으로 변환\n",
    "submission = pd.DataFrame({\n",
    "    'idx': test.columns,  # 각 대화에 해당하는 열 이름\n",
    "    'target': predicted_classes  # 예측된 클래스명\n",
    "})"
   ]
  },
  {
   "cell_type": "code",
   "execution_count": 30,
   "id": "10e557d9",
   "metadata": {},
   "outputs": [],
   "source": [
    "# 제출 파일로 저장\n",
    "submission.to_csv('./LJ300.csv', index=False)"
   ]
  }
 ],
 "metadata": {
  "kernelspec": {
   "display_name": "Python 3 (ipykernel)",
   "language": "python",
   "name": "python3"
  },
  "language_info": {
   "codemirror_mode": {
    "name": "ipython",
    "version": 3
   },
   "file_extension": ".py",
   "mimetype": "text/x-python",
   "name": "python",
   "nbconvert_exporter": "python",
   "pygments_lexer": "ipython3",
   "version": "3.9.7"
  }
 },
 "nbformat": 4,
 "nbformat_minor": 5
}
